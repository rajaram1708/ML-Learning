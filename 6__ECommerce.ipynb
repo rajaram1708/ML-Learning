{
 "cells": [
  {
   "cell_type": "markdown",
   "metadata": {},
   "source": [
   ]
  },
  {
   "cell_type": "markdown",
   "metadata": {},
   "source": [
    "## <span style=\"font-family: Arial; font-weight:bold;font-size:1.25em;color:#00b3e5;\">Domain:  E-commerce"
   ]
  },
  {
   "cell_type": "markdown",
   "metadata": {},
   "source": [
    "### <span style=\"font-family: Arial; font-weight:bold;font-size:1.25em;color:#00b3e5;\">Context:\n",
    "<font color=darkblue>Everyday a million products are being recommended to users based on popularity and other metrics on e-commerce websites. The most popular e-commerce website boosts average order value by 50%, increases revenues by 300%, and improves conversion. In addition to being a powerful tool for increasing revenues, product recommendations are so essential that customers now expect to see similar features on all other eCommerce sites.</font> "
   ]
  },
  {
   "cell_type": "markdown",
   "metadata": {},
   "source": [
    "### <span style=\"font-family: Arial; font-weight:bold;font-size:1.25em;color:#00b3e5;\">Attribute Information:\n",
    "<font color=darkblue>\n",
    "<b>userId :</b> User Identifier Code\n",
    "<br><b>productId :</b> Prodiuct Identifier Code\n",
    "<br><b>ratings :</b> Ratings given on products by users\n",
    "<br><b>timestamp :</b> date/time of rating given\n",
    "</font> "
   ]
  },
  {
   "cell_type": "markdown",
   "metadata": {},
   "source": [
    "### <span style=\"font-family: Arial; font-weight:bold;font-size:1.25em;color:#00b3e5;\">Learning Outcomes:\n",
    "<font color=darkblue>\n",
    "<ul>\n",
    "<li>Exploratory Data Analysis</li>\n",
    "<li>Data Wrangling</li>\n",
    "<li>Build a Popularity Recommender <Model</li>\n",
    "<li>Build Collaborative Filtering <Model</li>\n",
    "</ul>\n",
    "</font> "
   ]
  },
  {
   "cell_type": "markdown",
   "metadata": {},
   "source": [
    "### <span style=\"font-family: Arial; font-weight:bold;font-size:1.25em;color:#00b3e5;\">Objective:\n",
    "<font color=darkblue>To make a recommendation system that recommends at least five(5) new products based on the user's habits.</font>"
   ]
  },
  {
   "cell_type": "markdown",
   "metadata": {},
   "source": [
    "### <span style=\"font-family: Arial; font-weight:bold;font-size:1.25em;color:#00b3e5;\">Import the necessary libraries"
   ]
  },
  {
   "cell_type": "code",
   "execution_count": 1,
   "metadata": {},
   "outputs": [],
   "source": [
    "import numpy as np\n",
    "import pandas as pd\n",
    "import seaborn as sns\n",
    "import matplotlib.pyplot as plt\n",
    "\n",
    "sns.set()\n",
    "%matplotlib inline\n",
    "\n",
    "from collections import defaultdict\n",
    "\n",
    "from surprise import Dataset\n",
    "from surprise import Reader\n",
    "from surprise.model_selection import train_test_split\n",
    "from surprise import KNNWithMeans\n",
    "from surprise import accuracy\n",
    "from surprise import SVD\n",
    "\n",
    "import os\n",
    "import warnings\n",
    "warnings.filterwarnings('ignore')"
   ]
  },
  {
   "cell_type": "markdown",
   "metadata": {},
   "source": [
    "### <span style=\"font-family: Arial; font-weight:bold;font-size:1.25em;color:#00b3e5;\">Read the data"
   ]
  },
  {
   "cell_type": "code",
   "execution_count": 2,
   "metadata": {},
   "outputs": [],
   "source": [
    "column_names = ['UserId', 'ProductId', 'Rating', 'Timestamp']\n",
    "\n",
    "ratings_ecommerce_df = pd.read_csv(\"ratings_electronics.csv\")\n",
    "ratings_ecommerce_df.columns = column_names\n"
   ]
  },
  {
   "cell_type": "code",
   "execution_count": 3,
   "metadata": {},
   "outputs": [
    {
     "data": {
      "text/html": [
       "<div>\n",
       "<style scoped>\n",
       "    .dataframe tbody tr th:only-of-type {\n",
       "        vertical-align: middle;\n",
       "    }\n",
       "\n",
       "    .dataframe tbody tr th {\n",
       "        vertical-align: top;\n",
       "    }\n",
       "\n",
       "    .dataframe thead th {\n",
       "        text-align: right;\n",
       "    }\n",
       "</style>\n",
       "<table border=\"1\" class=\"dataframe\">\n",
       "  <thead>\n",
       "    <tr style=\"text-align: right;\">\n",
       "      <th></th>\n",
       "      <th>UserId</th>\n",
       "      <th>ProductId</th>\n",
       "      <th>Rating</th>\n",
       "      <th>Timestamp</th>\n",
       "    </tr>\n",
       "  </thead>\n",
       "  <tbody>\n",
       "    <tr>\n",
       "      <th>0</th>\n",
       "      <td>A2CX7LUOHB2NDG</td>\n",
       "      <td>0321732944</td>\n",
       "      <td>5.0</td>\n",
       "      <td>1341100800</td>\n",
       "    </tr>\n",
       "    <tr>\n",
       "      <th>1</th>\n",
       "      <td>A2NWSAGRHCP8N5</td>\n",
       "      <td>0439886341</td>\n",
       "      <td>1.0</td>\n",
       "      <td>1367193600</td>\n",
       "    </tr>\n",
       "    <tr>\n",
       "      <th>2</th>\n",
       "      <td>A2WNBOD3WNDNKT</td>\n",
       "      <td>0439886341</td>\n",
       "      <td>3.0</td>\n",
       "      <td>1374451200</td>\n",
       "    </tr>\n",
       "    <tr>\n",
       "      <th>3</th>\n",
       "      <td>A1GI0U4ZRJA8WN</td>\n",
       "      <td>0439886341</td>\n",
       "      <td>1.0</td>\n",
       "      <td>1334707200</td>\n",
       "    </tr>\n",
       "    <tr>\n",
       "      <th>4</th>\n",
       "      <td>A1QGNMC6O1VW39</td>\n",
       "      <td>0511189877</td>\n",
       "      <td>5.0</td>\n",
       "      <td>1397433600</td>\n",
       "    </tr>\n",
       "    <tr>\n",
       "      <th>5</th>\n",
       "      <td>A3J3BRHTDRFJ2G</td>\n",
       "      <td>0511189877</td>\n",
       "      <td>2.0</td>\n",
       "      <td>1397433600</td>\n",
       "    </tr>\n",
       "    <tr>\n",
       "      <th>6</th>\n",
       "      <td>A2TY0BTJOTENPG</td>\n",
       "      <td>0511189877</td>\n",
       "      <td>5.0</td>\n",
       "      <td>1395878400</td>\n",
       "    </tr>\n",
       "    <tr>\n",
       "      <th>7</th>\n",
       "      <td>A34ATBPOK6HCHY</td>\n",
       "      <td>0511189877</td>\n",
       "      <td>5.0</td>\n",
       "      <td>1395532800</td>\n",
       "    </tr>\n",
       "    <tr>\n",
       "      <th>8</th>\n",
       "      <td>A89DO69P0XZ27</td>\n",
       "      <td>0511189877</td>\n",
       "      <td>5.0</td>\n",
       "      <td>1395446400</td>\n",
       "    </tr>\n",
       "    <tr>\n",
       "      <th>9</th>\n",
       "      <td>AZYNQZ94U6VDB</td>\n",
       "      <td>0511189877</td>\n",
       "      <td>5.0</td>\n",
       "      <td>1401321600</td>\n",
       "    </tr>\n",
       "  </tbody>\n",
       "</table>\n",
       "</div>"
      ],
      "text/plain": [
       "           UserId   ProductId  Rating   Timestamp\n",
       "0  A2CX7LUOHB2NDG  0321732944     5.0  1341100800\n",
       "1  A2NWSAGRHCP8N5  0439886341     1.0  1367193600\n",
       "2  A2WNBOD3WNDNKT  0439886341     3.0  1374451200\n",
       "3  A1GI0U4ZRJA8WN  0439886341     1.0  1334707200\n",
       "4  A1QGNMC6O1VW39  0511189877     5.0  1397433600\n",
       "5  A3J3BRHTDRFJ2G  0511189877     2.0  1397433600\n",
       "6  A2TY0BTJOTENPG  0511189877     5.0  1395878400\n",
       "7  A34ATBPOK6HCHY  0511189877     5.0  1395532800\n",
       "8   A89DO69P0XZ27  0511189877     5.0  1395446400\n",
       "9   AZYNQZ94U6VDB  0511189877     5.0  1401321600"
      ]
     },
     "execution_count": 3,
     "metadata": {},
     "output_type": "execute_result"
    }
   ],
   "source": [
    "ratings_ecommerce_df.head(10)"
   ]
  },
  {
   "cell_type": "code",
   "execution_count": 4,
   "metadata": {},
   "outputs": [
    {
     "data": {
      "text/html": [
       "<div>\n",
       "<style scoped>\n",
       "    .dataframe tbody tr th:only-of-type {\n",
       "        vertical-align: middle;\n",
       "    }\n",
       "\n",
       "    .dataframe tbody tr th {\n",
       "        vertical-align: top;\n",
       "    }\n",
       "\n",
       "    .dataframe thead th {\n",
       "        text-align: right;\n",
       "    }\n",
       "</style>\n",
       "<table border=\"1\" class=\"dataframe\">\n",
       "  <thead>\n",
       "    <tr style=\"text-align: right;\">\n",
       "      <th></th>\n",
       "      <th>UserId</th>\n",
       "      <th>ProductId</th>\n",
       "      <th>Rating</th>\n",
       "      <th>Timestamp</th>\n",
       "    </tr>\n",
       "  </thead>\n",
       "  <tbody>\n",
       "    <tr>\n",
       "      <th>7824471</th>\n",
       "      <td>A5FUA9HEV2O42</td>\n",
       "      <td>BT008UKTMW</td>\n",
       "      <td>5.0</td>\n",
       "      <td>1405987200</td>\n",
       "    </tr>\n",
       "    <tr>\n",
       "      <th>7824472</th>\n",
       "      <td>A84WRQR47OOKR</td>\n",
       "      <td>BT008UKTMW</td>\n",
       "      <td>1.0</td>\n",
       "      <td>1401753600</td>\n",
       "    </tr>\n",
       "    <tr>\n",
       "      <th>7824473</th>\n",
       "      <td>A180UGKKYCPDH0</td>\n",
       "      <td>BT008UKTMW</td>\n",
       "      <td>5.0</td>\n",
       "      <td>1369353600</td>\n",
       "    </tr>\n",
       "    <tr>\n",
       "      <th>7824474</th>\n",
       "      <td>A2R6Q6KJCYSVH7</td>\n",
       "      <td>BT008UKTMW</td>\n",
       "      <td>3.0</td>\n",
       "      <td>1343520000</td>\n",
       "    </tr>\n",
       "    <tr>\n",
       "      <th>7824475</th>\n",
       "      <td>A2IGIIABRZ5LAB</td>\n",
       "      <td>BT008UKTMW</td>\n",
       "      <td>5.0</td>\n",
       "      <td>1356739200</td>\n",
       "    </tr>\n",
       "    <tr>\n",
       "      <th>7824476</th>\n",
       "      <td>A2YZI3C9MOHC0L</td>\n",
       "      <td>BT008UKTMW</td>\n",
       "      <td>5.0</td>\n",
       "      <td>1396569600</td>\n",
       "    </tr>\n",
       "    <tr>\n",
       "      <th>7824477</th>\n",
       "      <td>A322MDK0M89RHN</td>\n",
       "      <td>BT008UKTMW</td>\n",
       "      <td>5.0</td>\n",
       "      <td>1313366400</td>\n",
       "    </tr>\n",
       "    <tr>\n",
       "      <th>7824478</th>\n",
       "      <td>A1MH90R0ADMIK0</td>\n",
       "      <td>BT008UKTMW</td>\n",
       "      <td>4.0</td>\n",
       "      <td>1404172800</td>\n",
       "    </tr>\n",
       "    <tr>\n",
       "      <th>7824479</th>\n",
       "      <td>A10M2KEFPEQDHN</td>\n",
       "      <td>BT008UKTMW</td>\n",
       "      <td>4.0</td>\n",
       "      <td>1297555200</td>\n",
       "    </tr>\n",
       "    <tr>\n",
       "      <th>7824480</th>\n",
       "      <td>A2G81TMIOIDEQQ</td>\n",
       "      <td>BT008V9J9U</td>\n",
       "      <td>5.0</td>\n",
       "      <td>1312675200</td>\n",
       "    </tr>\n",
       "  </tbody>\n",
       "</table>\n",
       "</div>"
      ],
      "text/plain": [
       "                 UserId   ProductId  Rating   Timestamp\n",
       "7824471   A5FUA9HEV2O42  BT008UKTMW     5.0  1405987200\n",
       "7824472   A84WRQR47OOKR  BT008UKTMW     1.0  1401753600\n",
       "7824473  A180UGKKYCPDH0  BT008UKTMW     5.0  1369353600\n",
       "7824474  A2R6Q6KJCYSVH7  BT008UKTMW     3.0  1343520000\n",
       "7824475  A2IGIIABRZ5LAB  BT008UKTMW     5.0  1356739200\n",
       "7824476  A2YZI3C9MOHC0L  BT008UKTMW     5.0  1396569600\n",
       "7824477  A322MDK0M89RHN  BT008UKTMW     5.0  1313366400\n",
       "7824478  A1MH90R0ADMIK0  BT008UKTMW     4.0  1404172800\n",
       "7824479  A10M2KEFPEQDHN  BT008UKTMW     4.0  1297555200\n",
       "7824480  A2G81TMIOIDEQQ  BT008V9J9U     5.0  1312675200"
      ]
     },
     "execution_count": 4,
     "metadata": {},
     "output_type": "execute_result"
    }
   ],
   "source": [
    "ratings_ecommerce_df.tail(10)"
   ]
  },
  {
   "cell_type": "code",
   "execution_count": 5,
   "metadata": {},
   "outputs": [
    {
     "data": {
      "text/plain": [
       "UserId        object\n",
       "ProductId     object\n",
       "Rating       float64\n",
       "Timestamp      int64\n",
       "dtype: object"
      ]
     },
     "execution_count": 5,
     "metadata": {},
     "output_type": "execute_result"
    }
   ],
   "source": [
    "ratings_ecommerce_df.dtypes"
   ]
  },
  {
   "cell_type": "markdown",
   "metadata": {},
   "source": [
    "#### <span style=\"font-family: Arial; font-weight:bold;font-size:1.25em;color:#00b3e5;\">Observation :\n",
    "<font color=darkblue>\n",
    "<br><b>UserId :</b> User Identifier, each user identified with unique user id\n",
    "<br><b>ProductId :</b> Product Identified, each product identified with unique product id\n",
    "<br><b>Rating :</b> Rating for a given product by a specific user\n",
    "<br><b>Timestamp :</b> Date/Time of Rating given, we will ignore this column in this project\n",
    "</font>"
   ]
  },
  {
   "cell_type": "markdown",
   "metadata": {},
   "source": [
    "### <span style=\"font-family: Arial; font-weight:bold;font-size:1.25em;color:#00b3e5;\">Shape of Data :\n",
    "<font color=darkblue>\n",
    "</font>"
   ]
  },
  {
   "cell_type": "code",
   "execution_count": 6,
   "metadata": {},
   "outputs": [
    {
     "data": {
      "text/plain": [
       "(7824481, 4)"
      ]
     },
     "execution_count": 6,
     "metadata": {},
     "output_type": "execute_result"
    }
   ],
   "source": [
    "ratings_ecommerce_df.shape"
   ]
  },
  {
   "cell_type": "markdown",
   "metadata": {},
   "source": [
    "#### <span style=\"font-family: Arial; font-weight:bold;font-size:1.25em;color:#00b3e5;\">Observation :\n",
    "<font color=darkblue>\n",
    "The dataset has 7824481 rows and 9 columns. \n",
    "</font>"
   ]
  },
  {
   "cell_type": "markdown",
   "metadata": {},
   "source": [
    "### <span style=\"font-family: Arial; font-weight:bold;font-size:1.25em;color:#00b3e5;\">Checking presence of Missing Values :\n",
    "<font color=darkblue>\n",
    "</font>"
   ]
  },
  {
   "cell_type": "code",
   "execution_count": 7,
   "metadata": {},
   "outputs": [
    {
     "name": "stdout",
     "output_type": "stream",
     "text": [
      "<class 'pandas.core.frame.DataFrame'>\n",
      "RangeIndex: 7824481 entries, 0 to 7824480\n",
      "Data columns (total 4 columns):\n",
      " #   Column     Dtype  \n",
      "---  ------     -----  \n",
      " 0   UserId     object \n",
      " 1   ProductId  object \n",
      " 2   Rating     float64\n",
      " 3   Timestamp  int64  \n",
      "dtypes: float64(1), int64(1), object(2)\n",
      "memory usage: 238.8+ MB\n"
     ]
    }
   ],
   "source": [
    "ratings_ecommerce_df.info()"
   ]
  },
  {
   "cell_type": "markdown",
   "metadata": {},
   "source": [
    "#### <span style=\"font-family: Arial; font-weight:bold;font-size:1.25em;color:#00b3e5;\">Observation :\n",
    "<font color=darkblue>\n",
    "Dataset has no missing values in any of the columns\n",
    "</font>"
   ]
  },
  {
   "cell_type": "markdown",
   "metadata": {},
   "source": [
    "### <span style=\"font-family: Arial; font-weight:bold;font-size:1.25em;color:#00b3e5;\">Checking presence of Missing Values :\n",
    "<font color=darkblue>\n",
    "</font>"
   ]
  },
  {
   "cell_type": "code",
   "execution_count": 8,
   "metadata": {},
   "outputs": [
    {
     "data": {
      "text/plain": [
       "False"
      ]
     },
     "execution_count": 8,
     "metadata": {},
     "output_type": "execute_result"
    }
   ],
   "source": [
    "ratings_ecommerce_df.isnull().values.any()"
   ]
  },
  {
   "cell_type": "markdown",
   "metadata": {},
   "source": [
    "#### <span style=\"font-family: Arial; font-weight:bold;font-size:1.25em;color:#00b3e5;\">Observation :\n",
    "<font color=darkblue>\n",
    "Dataset has no missing values in any of the columns\n",
    "</font>"
   ]
  },
  {
   "cell_type": "markdown",
   "metadata": {},
   "source": [
    "### <span style=\"font-family: Arial; font-weight:bold;font-size:1.25em;color:#00b3e5;\">Unique Check :\n",
    "<font color=darkblue>\n",
    "</font>"
   ]
  },
  {
   "cell_type": "code",
   "execution_count": 9,
   "metadata": {
    "scrolled": true
   },
   "outputs": [
    {
     "data": {
      "text/plain": [
       "UserId       4201696\n",
       "ProductId     476001\n",
       "Rating             5\n",
       "Timestamp       5489\n",
       "dtype: int64"
      ]
     },
     "execution_count": 9,
     "metadata": {},
     "output_type": "execute_result"
    }
   ],
   "source": [
    "ratings_ecommerce_df.nunique()"
   ]
  },
  {
   "cell_type": "markdown",
   "metadata": {},
   "source": [
    "#### <span style=\"font-family: Arial; font-weight:bold;font-size:1.25em;color:#00b3e5;\">Observation :\n",
    "<font color=darkblue>\n",
    "<ul>\n",
    "<li>unique users in dataset is 4201696</li>\n",
    "<li>unique products in dataset is 476001</li>\n",
    "<li>unqiue Rating values is 5</li>\n",
    "</ul>\n",
    "</font>"
   ]
  },
  {
   "cell_type": "code",
   "execution_count": 10,
   "metadata": {},
   "outputs": [
    {
     "data": {
      "text/plain": [
       "count    7.824481e+06\n",
       "mean     4.012337e+00\n",
       "std      1.380910e+00\n",
       "min      1.000000e+00\n",
       "25%      3.000000e+00\n",
       "50%      5.000000e+00\n",
       "75%      5.000000e+00\n",
       "max      5.000000e+00\n",
       "Name: Rating, dtype: float64"
      ]
     },
     "execution_count": 10,
     "metadata": {},
     "output_type": "execute_result"
    }
   ],
   "source": [
    "ratings_ecommerce_df.describe()['Rating'].T"
   ]
  },
  {
   "cell_type": "code",
   "execution_count": 11,
   "metadata": {},
   "outputs": [
    {
     "name": "stdout",
     "output_type": "stream",
     "text": [
      "Minimum Rating is : 1\n",
      "Minimum Rating is : 5\n"
     ]
    }
   ],
   "source": [
    "print('Minimum Rating is : %d' %(ratings_ecommerce_df.Rating.min()))\n",
    "print('Minimum Rating is : %d' %(ratings_ecommerce_df.Rating.max()))"
   ]
  },
  {
   "cell_type": "markdown",
   "metadata": {},
   "source": [
    "#### <span style=\"font-family: Arial; font-weight:bold;font-size:1.25em;color:#00b3e5;\">Observation :\n",
    "<font color=darkblue>\n",
    "Product Rating range from 1 to 5.\n",
    "</font>"
   ]
  },
  {
   "cell_type": "markdown",
   "metadata": {},
   "source": [
    "## <span style=\"font-family: Arial; font-weight:bold;font-size:1.25em;color:#00b3e5;\">1. Exploratory Data Analysis\n",
    "<font color=darkblue>\n",
    "</font>"
   ]
  },
  {
   "cell_type": "markdown",
   "metadata": {},
   "source": [
    "### <span style=\"font-family: Arial; font-weight:bold;font-size:1.25em;color:#00b3e5;\">Univariate Analysis :\n",
    "<font color=darkblue>\n",
    "</font>"
   ]
  },
  {
   "cell_type": "code",
   "execution_count": 12,
   "metadata": {},
   "outputs": [],
   "source": [
    "# function for distribution, frequency plot\n",
    "def PlotDistribution(aSeries, aLabel):\n",
    "    plt.figure(figsize=(20,6))\n",
    "    \n",
    "    # distplot\n",
    "    plt.subplot(1, 2, 1)\n",
    "    plt.title('Distribution Plot', fontsize=14)\n",
    "    plt.xlabel(aLabel, fontsize=13)\n",
    "    plt.ylabel('Total number of ratings', fontsize=13)\n",
    "    sns.distplot(aSeries)\n",
    "    plt.tick_params(labelsize=13)\n",
    "    \n",
    "    # countplot\n",
    "    plt.subplot(1, 2, 2)\n",
    "    plt.title('Frequency Plot', fontsize=14)\n",
    "    plt.xlabel(aLabel, fontsize=13)\n",
    "    plt.ylabel('Total number of ratings', fontsize=13)\n",
    "    sns.countplot(aSeries, data=ratings_ecommerce_df)\n",
    "    plt.tick_params(labelsize=13)\n",
    "    \n",
    "    plt.show()\n"
   ]
  },
  {
   "cell_type": "markdown",
   "metadata": {},
   "source": [
    "#### <span style=\"font-family: Arial; font-weight:bold;font-size:1.25em;color:#00b3e5;\">Rating Frequency :\n",
    "<font color=darkblue>\n",
    "</font>"
   ]
  },
  {
   "cell_type": "code",
   "execution_count": 13,
   "metadata": {},
   "outputs": [
    {
     "data": {
      "image/png": "[encoded data removed]",
      "text/plain": [
       "<Figure size 1440x432 with 2 Axes>"
      ]
     },
     "metadata": {
      "needs_background": "light"
     },
     "output_type": "display_data"
    }
   ],
   "source": [
    "# plot on Rating column\n",
    "PlotDistribution(ratings_ecommerce_df['Rating'],'Rating')"
   ]
  },
  {
   "cell_type": "markdown",
   "metadata": {},
   "source": [
    "#### <span style=\"font-family: Arial; font-weight:bold;font-size:1.25em;color:#00b3e5;\">Observation :\n",
    "<font color=darkblue>\n",
    "<ul>\n",
    "<li>Most of the users had given Rating as 5</li>\n",
    "</ul>\n",
    "</font>"
   ]
  },
  {
   "cell_type": "markdown",
   "metadata": {},
   "source": [
    "#### <span style=\"font-family: Arial; font-weight:bold;font-size:1.25em;color:#00b3e5;\">Drop Timestamp :\n",
    "<font color=darkblue>\n",
    "</font>"
   ]
  },
  {
   "cell_type": "code",
   "execution_count": 14,
   "metadata": {},
   "outputs": [],
   "source": [
    "ratings_ecommerce_df.drop(['Timestamp'], axis=1, inplace=True)"
   ]
  },
  {
   "cell_type": "markdown",
   "metadata": {},
   "source": [
    "#### <span style=\"font-family: Arial; font-weight:bold;font-size:1.25em;color:#00b3e5;\">Observation :\n",
    "<font color=darkblue>\n",
    "<ul>\n",
    "<li>We dropped the Timestamp column as it is not needed</li>\n",
    "</ul>\n",
    "</font>"
   ]
  },
  {
   "cell_type": "markdown",
   "metadata": {},
   "source": [
    "#### <span style=\"font-family: Arial; font-weight:bold;font-size:1.25em;color:#00b3e5;\">Unique Users & Products :\n",
    "<font color=darkblue>\n",
    "</font>"
   ]
  },
  {
   "cell_type": "code",
   "execution_count": 15,
   "metadata": {},
   "outputs": [
    {
     "name": "stdout",
     "output_type": "stream",
     "text": [
      "Number of Ratings :  7824481\n",
      "Number of unique Users :  4201696\n",
      "Number of unique Prodiucts :  476001\n"
     ]
    }
   ],
   "source": [
    "print('Number of Ratings : ', ratings_ecommerce_df.shape[0])\n",
    "print('Number of unique Users : ', len(ratings_ecommerce_df['UserId'].unique()))\n",
    "print('Number of unique Prodiucts : ', len(ratings_ecommerce_df['ProductId'].unique()))"
   ]
  },
  {
   "cell_type": "markdown",
   "metadata": {},
   "source": [
    "#### <span style=\"font-family: Arial; font-weight:bold;font-size:1.25em;color:#00b3e5;\">Ratings per Product :\n",
    "<font color=darkblue>\n",
    "</font>"
   ]
  },
  {
   "cell_type": "code",
   "execution_count": 16,
   "metadata": {},
   "outputs": [],
   "source": [
    "rating_product_mean = ratings_ecommerce_df.groupby('ProductId')['Rating'].mean()\n",
    "rating_product_count = ratings_ecommerce_df.groupby('ProductId')['Rating'].count()\n",
    "ratings_ecommerce_df_product = pd.DataFrame({'Number of Rating':rating_product_count, 'Mean Rating':rating_product_mean})"
   ]
  },
  {
   "cell_type": "code",
   "execution_count": 17,
   "metadata": {},
   "outputs": [
    {
     "data": {
      "text/html": [
       "<div>\n",
       "<style scoped>\n",
       "    .dataframe tbody tr th:only-of-type {\n",
       "        vertical-align: middle;\n",
       "    }\n",
       "\n",
       "    .dataframe tbody tr th {\n",
       "        vertical-align: top;\n",
       "    }\n",
       "\n",
       "    .dataframe thead th {\n",
       "        text-align: right;\n",
       "    }\n",
       "</style>\n",
       "<table border=\"1\" class=\"dataframe\">\n",
       "  <thead>\n",
       "    <tr style=\"text-align: right;\">\n",
       "      <th></th>\n",
       "      <th>Number of Rating</th>\n",
       "      <th>Mean Rating</th>\n",
       "    </tr>\n",
       "    <tr>\n",
       "      <th>ProductId</th>\n",
       "      <th></th>\n",
       "      <th></th>\n",
       "    </tr>\n",
       "  </thead>\n",
       "  <tbody>\n",
       "    <tr>\n",
       "      <th>0321732944</th>\n",
       "      <td>1</td>\n",
       "      <td>5.000000</td>\n",
       "    </tr>\n",
       "    <tr>\n",
       "      <th>0439886341</th>\n",
       "      <td>3</td>\n",
       "      <td>1.666667</td>\n",
       "    </tr>\n",
       "    <tr>\n",
       "      <th>0511189877</th>\n",
       "      <td>6</td>\n",
       "      <td>4.500000</td>\n",
       "    </tr>\n",
       "    <tr>\n",
       "      <th>0528881469</th>\n",
       "      <td>27</td>\n",
       "      <td>2.851852</td>\n",
       "    </tr>\n",
       "    <tr>\n",
       "      <th>0558835155</th>\n",
       "      <td>1</td>\n",
       "      <td>3.000000</td>\n",
       "    </tr>\n",
       "  </tbody>\n",
       "</table>\n",
       "</div>"
      ],
      "text/plain": [
       "            Number of Rating  Mean Rating\n",
       "ProductId                                \n",
       "0321732944                 1     5.000000\n",
       "0439886341                 3     1.666667\n",
       "0511189877                 6     4.500000\n",
       "0528881469                27     2.851852\n",
       "0558835155                 1     3.000000"
      ]
     },
     "execution_count": 17,
     "metadata": {},
     "output_type": "execute_result"
    }
   ],
   "source": [
    "ratings_ecommerce_df_product.head()"
   ]
  },
  {
   "cell_type": "code",
   "execution_count": 18,
   "metadata": {},
   "outputs": [
    {
     "data": {
      "image/png": "[encoded data removed]",
      "text/plain": [
       "<Figure size 1440x432 with 2 Axes>"
      ]
     },
     "metadata": {
      "needs_background": "light"
     },
     "output_type": "display_data"
    }
   ],
   "source": [
    "plt.figure(figsize=(20,6))\n",
    "    \n",
    "# Count\n",
    "plt.subplot(1, 2, 1)\n",
    "plt.title('Distribution of Number of Rating', fontsize=14)\n",
    "plt.xlabel('Number of Rating', fontsize=13)\n",
    "sns.distplot(ratings_ecommerce_df_product['Number of Rating'], color='red', kde=True, bins=50)\n",
    "plt.tick_params(labelsize=13)\n",
    "\n",
    "# Mean\n",
    "plt.subplot(1, 2, 2)\n",
    "plt.title('Distribution of Mean Rating', fontsize=14)\n",
    "plt.xlabel('Mean Rating', fontsize=13)\n",
    "sns.distplot(ratings_ecommerce_df_product['Mean Rating'], color='green', kde=True, bins=50)\n",
    "plt.tick_params(labelsize=13)\n",
    "\n",
    "plt.show()\n"
   ]
  },
  {
   "cell_type": "markdown",
   "metadata": {},
   "source": [
    "#### <span style=\"font-family: Arial; font-weight:bold;font-size:1.25em;color:#00b3e5;\">Observation :\n",
    "<font color=darkblue>\n",
    "<ul>\n",
    "<li>Most of the products has 0 - 100 ratings, some products has ratings upto 1200</li>\n",
    "<li>Peak rating is 5</li>\n",
    "</ul>\n",
    "</font>"
   ]
  },
  {
   "cell_type": "code",
   "execution_count": 19,
   "metadata": {},
   "outputs": [
    {
     "data": {
      "text/plain": [
       "<seaborn.axisgrid.JointGrid at 0x1b508f654c0>"
      ]
     },
     "execution_count": 19,
     "metadata": {},
     "output_type": "execute_result"
    },
    {
     "data": {
      "image/png": "[encoded data removed]",
      "text/plain": [
       "<Figure size 432x432 with 3 Axes>"
      ]
     },
     "metadata": {
      "needs_background": "light"
     },
     "output_type": "display_data"
    }
   ],
   "source": [
    "sns.jointplot(x='Number of Rating', y='Mean Rating', data=ratings_ecommerce_df_product, color='brown')"
   ]
  },
  {
   "cell_type": "markdown",
   "metadata": {},
   "source": [
    "#### <span style=\"font-family: Arial; font-weight:bold;font-size:1.25em;color:#00b3e5;\">Ratings given by User :\n",
    "<font color=darkblue>\n",
    "</font>"
   ]
  },
  {
   "cell_type": "code",
   "execution_count": 20,
   "metadata": {},
   "outputs": [],
   "source": [
    "rating_per_user_count = ratings_ecommerce_df.groupby(by='UserId')['Rating'].count().sort_values(ascending=False)"
   ]
  },
  {
   "cell_type": "code",
   "execution_count": 21,
   "metadata": {},
   "outputs": [
    {
     "data": {
      "text/plain": [
       "UserId\n",
       "A5JLAU2ARJ0BO     520\n",
       "ADLVFFE4VBT8      501\n",
       "A3OXHLG6DIBRW8    498\n",
       "A6FIAB28IS79      431\n",
       "A680RUE1FDO8B     406\n",
       "Name: Rating, dtype: int64"
      ]
     },
     "execution_count": 21,
     "metadata": {},
     "output_type": "execute_result"
    }
   ],
   "source": [
    "rating_per_user_count.head()"
   ]
  },
  {
   "cell_type": "code",
   "execution_count": 22,
   "metadata": {},
   "outputs": [
    {
     "data": {
      "text/plain": [
       "count    4.201696e+06\n",
       "mean     1.862220e+00\n",
       "std      2.885110e+00\n",
       "min      1.000000e+00\n",
       "25%      1.000000e+00\n",
       "50%      1.000000e+00\n",
       "75%      2.000000e+00\n",
       "max      5.200000e+02\n",
       "Name: Rating, dtype: float64"
      ]
     },
     "execution_count": 22,
     "metadata": {},
     "output_type": "execute_result"
    }
   ],
   "source": [
    "rating_per_user_count.describe()"
   ]
  },
  {
   "cell_type": "code",
   "execution_count": 23,
   "metadata": {},
   "outputs": [
    {
     "data": {
      "image/png": "[encoded data removed]",
      "text/plain": [
       "<Figure size 1080x504 with 1 Axes>"
      ]
     },
     "metadata": {
      "needs_background": "light"
     },
     "output_type": "display_data"
    }
   ],
   "source": [
    "plt.figure(figsize=(15,7))\n",
    "    \n",
    "# Count\n",
    "plt.subplot(1, 1, 1)\n",
    "sns.distplot(rating_per_user_count, color='green', kde=True, bins=50)\n",
    "plt.tick_params(labelsize=13)\n",
    "\n",
    "plt.show()"
   ]
  },
  {
   "cell_type": "markdown",
   "metadata": {},
   "source": [
    "#### <span style=\"font-family: Arial; font-weight:bold;font-size:1.25em;color:#00b3e5;\">Observation :\n",
    "<font color=darkblue>\n",
    "<ul>\n",
    "<li>Most of the users has given just 1 rating</li>\n",
    "</ul>\n",
    "</font>"
   ]
  },
  {
   "cell_type": "code",
   "execution_count": 24,
   "metadata": {},
   "outputs": [],
   "source": [
    "rating_per_user_quantiles = rating_per_user_count.quantile(np.arange(0,1.01,0.01), interpolation='higher')"
   ]
  },
  {
   "cell_type": "code",
   "execution_count": 25,
   "metadata": {},
   "outputs": [
    {
     "data": {
      "image/png": "[encoded data removed]",
      "text/plain": [
       "<Figure size 864x720 with 1 Axes>"
      ]
     },
     "metadata": {
      "needs_background": "light"
     },
     "output_type": "display_data"
    }
   ],
   "source": [
    "plt.figure(figsize=(12,10))\n",
    "plt.title('Quantiles')\n",
    "rating_per_user_quantiles.plot()\n",
    "plt.scatter(x=rating_per_user_quantiles.index[::5], y=rating_per_user_quantiles.index[::5], \n",
    "            color='red', label='quantiles with 0.05 intervals')\n",
    "plt.scatter(x=rating_per_user_quantiles.index[::25], y=rating_per_user_quantiles.index[::25], \n",
    "            color='green', label='quantiles with 0.25 intervals')\n",
    "plt.ylabel('No of ratings by user')\n",
    "plt.xlabel('Value at the quantile')\n",
    "plt.legend(loc='best')\n",
    "plt.show()\n"
   ]
  },
  {
   "cell_type": "markdown",
   "metadata": {},
   "source": [
    "## <span style=\"font-family: Arial; font-weight:bold;font-size:1.25em;color:#00b3e5;\">2. Subset of data to make less sparse/denser\n",
    "<font color=darkblue>\n",
    "</font>"
   ]
  },
  {
   "cell_type": "code",
   "execution_count": 26,
   "metadata": {},
   "outputs": [],
   "source": [
    "rating_per_user_1_count = rating_per_user_count[rating_per_user_count==1].count()\n",
    "rating_per_user_1_percent = rating_per_user_1_count / rating_per_user_count.count()"
   ]
  },
  {
   "cell_type": "code",
   "execution_count": 27,
   "metadata": {},
   "outputs": [
    {
     "name": "stdout",
     "output_type": "stream",
     "text": [
      "Total 68.5873751932553 percent of Users have given rating just once\n",
      "Total 2881833 number of Users have given rating just once\n"
     ]
    }
   ],
   "source": [
    "print('Total {} percent of Users have given rating just once'.format(rating_per_user_1_percent*100))\n",
    "print('Total {} number of Users have given rating just once'.format(rating_per_user_1_count))"
   ]
  },
  {
   "cell_type": "code",
   "execution_count": 28,
   "metadata": {},
   "outputs": [],
   "source": [
    "rating_per_user_50_count = rating_per_user_count[rating_per_user_count>=50].count()\n",
    "rating_per_user_50_percent = rating_per_user_50_count / rating_per_user_count.count()"
   ]
  },
  {
   "cell_type": "code",
   "execution_count": 29,
   "metadata": {},
   "outputs": [
    {
     "name": "stdout",
     "output_type": "stream",
     "text": [
      "Total 0.03665186629399176 percent of Users have given rating 50 or more times\n",
      "Total 1540 number of Users have given rating 50 or more times\n"
     ]
    }
   ],
   "source": [
    "print('Total {} percent of Users have given rating 50 or more times'.format(rating_per_user_50_percent*100))\n",
    "print('Total {} number of Users have given rating 50 or more times'.format(rating_per_user_50_count))"
   ]
  },
  {
   "cell_type": "code",
   "execution_count": 30,
   "metadata": {},
   "outputs": [],
   "source": [
    "ratings_ecommerce_df_sparsed = ratings_ecommerce_df.groupby('ProductId').filter(lambda x:x['Rating'].count() >= 50)"
   ]
  },
  {
   "cell_type": "code",
   "execution_count": 31,
   "metadata": {},
   "outputs": [
    {
     "data": {
      "text/html": [
       "<div>\n",
       "<style scoped>\n",
       "    .dataframe tbody tr th:only-of-type {\n",
       "        vertical-align: middle;\n",
       "    }\n",
       "\n",
       "    .dataframe tbody tr th {\n",
       "        vertical-align: top;\n",
       "    }\n",
       "\n",
       "    .dataframe thead th {\n",
       "        text-align: right;\n",
       "    }\n",
       "</style>\n",
       "<table border=\"1\" class=\"dataframe\">\n",
       "  <thead>\n",
       "    <tr style=\"text-align: right;\">\n",
       "      <th></th>\n",
       "      <th>UserId</th>\n",
       "      <th>ProductId</th>\n",
       "      <th>Rating</th>\n",
       "    </tr>\n",
       "  </thead>\n",
       "  <tbody>\n",
       "    <tr>\n",
       "      <th>182</th>\n",
       "      <td>A1BKC6B7YHYTVV</td>\n",
       "      <td>0972683275</td>\n",
       "      <td>4.0</td>\n",
       "    </tr>\n",
       "    <tr>\n",
       "      <th>183</th>\n",
       "      <td>AWVFSIB42LHKJ</td>\n",
       "      <td>0972683275</td>\n",
       "      <td>4.0</td>\n",
       "    </tr>\n",
       "    <tr>\n",
       "      <th>184</th>\n",
       "      <td>A36MQBNADRH8YY</td>\n",
       "      <td>0972683275</td>\n",
       "      <td>5.0</td>\n",
       "    </tr>\n",
       "    <tr>\n",
       "      <th>185</th>\n",
       "      <td>A3SRXMPLAEZ6DP</td>\n",
       "      <td>0972683275</td>\n",
       "      <td>4.0</td>\n",
       "    </tr>\n",
       "    <tr>\n",
       "      <th>186</th>\n",
       "      <td>A20XXTXWF2TCPY</td>\n",
       "      <td>0972683275</td>\n",
       "      <td>5.0</td>\n",
       "    </tr>\n",
       "  </tbody>\n",
       "</table>\n",
       "</div>"
      ],
      "text/plain": [
       "             UserId   ProductId  Rating\n",
       "182  A1BKC6B7YHYTVV  0972683275     4.0\n",
       "183   AWVFSIB42LHKJ  0972683275     4.0\n",
       "184  A36MQBNADRH8YY  0972683275     5.0\n",
       "185  A3SRXMPLAEZ6DP  0972683275     4.0\n",
       "186  A20XXTXWF2TCPY  0972683275     5.0"
      ]
     },
     "execution_count": 31,
     "metadata": {},
     "output_type": "execute_result"
    }
   ],
   "source": [
    "ratings_ecommerce_df_sparsed.head()"
   ]
  },
  {
   "cell_type": "code",
   "execution_count": 32,
   "metadata": {},
   "outputs": [
    {
     "data": {
      "text/plain": [
       "(5374313, 3)"
      ]
     },
     "execution_count": 32,
     "metadata": {},
     "output_type": "execute_result"
    }
   ],
   "source": [
    "ratings_ecommerce_df_sparsed.shape"
   ]
  },
  {
   "cell_type": "code",
   "execution_count": 33,
   "metadata": {},
   "outputs": [
    {
     "name": "stdout",
     "output_type": "stream",
     "text": [
      "We consider 68.68587194473346 percent of data from original data for analysis\n"
     ]
    }
   ],
   "source": [
    "print('We consider {} percent of data from original data for analysis'.format(ratings_ecommerce_df_sparsed['UserId'].count()/ratings_ecommerce_df['UserId'].count()*100))"
   ]
  },
  {
   "cell_type": "markdown",
   "metadata": {},
   "source": [
    "#### <span style=\"font-family: Arial; font-weight:bold;font-size:1.25em;color:#00b3e5;\">Observation :\n",
    "<font color=darkblue>\n",
    "<ul>\n",
    "<li>We consider 68.7% of data from original data for analysis with users given 50 or more rating</li>\n",
    "</ul>\n",
    "</font>"
   ]
  },
  {
   "cell_type": "markdown",
   "metadata": {},
   "source": [
    "## <span style=\"font-family: Arial; font-weight:bold;font-size:1.25em;color:#00b3e5;\">3. Popularity Recommender Model\n",
    "<font color=darkblue>\n",
    "</font>"
   ]
  },
  {
   "cell_type": "code",
   "execution_count": 34,
   "metadata": {},
   "outputs": [],
   "source": [
    "ratings_ecommerce_df_mean_count = pd.DataFrame(ratings_ecommerce_df_sparsed.groupby('ProductId')['Rating'].mean())\n",
    "ratings_ecommerce_df_mean_count['Rating_Counts'] = pd.DataFrame(ratings_ecommerce_df_sparsed.groupby('ProductId')['Rating'].count())\n"
   ]
  },
  {
   "cell_type": "code",
   "execution_count": 35,
   "metadata": {},
   "outputs": [
    {
     "name": "stdout",
     "output_type": "stream",
     "text": [
      "Highest Rating Count :  18244\n",
      "Lowest Rating Count :  50\n"
     ]
    }
   ],
   "source": [
    "print('Highest Rating Count : ', ratings_ecommerce_df_mean_count['Rating_Counts'].max())\n",
    "print('Lowest Rating Count : ', ratings_ecommerce_df_mean_count['Rating_Counts'].min())"
   ]
  },
  {
   "cell_type": "code",
   "execution_count": 36,
   "metadata": {},
   "outputs": [
    {
     "data": {
      "text/html": [
       "<div>\n",
       "<style scoped>\n",
       "    .dataframe tbody tr th:only-of-type {\n",
       "        vertical-align: middle;\n",
       "    }\n",
       "\n",
       "    .dataframe tbody tr th {\n",
       "        vertical-align: top;\n",
       "    }\n",
       "\n",
       "    .dataframe thead th {\n",
       "        text-align: right;\n",
       "    }\n",
       "</style>\n",
       "<table border=\"1\" class=\"dataframe\">\n",
       "  <thead>\n",
       "    <tr style=\"text-align: right;\">\n",
       "      <th></th>\n",
       "      <th>Rating</th>\n",
       "      <th>Rating_Counts</th>\n",
       "    </tr>\n",
       "    <tr>\n",
       "      <th>ProductId</th>\n",
       "      <th></th>\n",
       "      <th></th>\n",
       "    </tr>\n",
       "  </thead>\n",
       "  <tbody>\n",
       "    <tr>\n",
       "      <th>0972683275</th>\n",
       "      <td>4.470980</td>\n",
       "      <td>1051</td>\n",
       "    </tr>\n",
       "    <tr>\n",
       "      <th>1400501466</th>\n",
       "      <td>3.560000</td>\n",
       "      <td>250</td>\n",
       "    </tr>\n",
       "    <tr>\n",
       "      <th>1400501520</th>\n",
       "      <td>4.243902</td>\n",
       "      <td>82</td>\n",
       "    </tr>\n",
       "    <tr>\n",
       "      <th>1400501776</th>\n",
       "      <td>3.884892</td>\n",
       "      <td>139</td>\n",
       "    </tr>\n",
       "    <tr>\n",
       "      <th>1400532620</th>\n",
       "      <td>3.684211</td>\n",
       "      <td>171</td>\n",
       "    </tr>\n",
       "  </tbody>\n",
       "</table>\n",
       "</div>"
      ],
      "text/plain": [
       "              Rating  Rating_Counts\n",
       "ProductId                          \n",
       "0972683275  4.470980           1051\n",
       "1400501466  3.560000            250\n",
       "1400501520  4.243902             82\n",
       "1400501776  3.884892            139\n",
       "1400532620  3.684211            171"
      ]
     },
     "execution_count": 36,
     "metadata": {},
     "output_type": "execute_result"
    }
   ],
   "source": [
    "ratings_ecommerce_df_mean_count.head()"
   ]
  },
  {
   "cell_type": "code",
   "execution_count": 37,
   "metadata": {},
   "outputs": [
    {
     "data": {
      "image/png": "[encoded data removed]",
      "text/plain": [
       "<Figure size 1080x504 with 1 Axes>"
      ]
     },
     "metadata": {
      "needs_background": "light"
     },
     "output_type": "display_data"
    }
   ],
   "source": [
    "plt.figure(figsize=(15,7))\n",
    "    \n",
    "# Rating Count\n",
    "plt.subplot(1, 1, 1)\n",
    "plt.rcParams['patch.force_edgecolor']=True\n",
    "plt.title('Distribution of Rating Count')\n",
    "sns.distplot(ratings_ecommerce_df_mean_count['Rating_Counts'], color='brown', kde=False, bins=50)\n",
    "plt.tick_params(labelsize=13)\n",
    "\n",
    "plt.show()"
   ]
  },
  {
   "cell_type": "code",
   "execution_count": 38,
   "metadata": {},
   "outputs": [
    {
     "data": {
      "image/png": "[encoded data removed]",
      "text/plain": [
       "<Figure size 1080x504 with 1 Axes>"
      ]
     },
     "metadata": {
      "needs_background": "light"
     },
     "output_type": "display_data"
    }
   ],
   "source": [
    "plt.figure(figsize=(15,7))\n",
    "    \n",
    "# Rating\n",
    "plt.subplot(1, 1, 1)\n",
    "plt.rcParams['patch.force_edgecolor']=True\n",
    "plt.title('Distribution of Rating')\n",
    "sns.distplot(ratings_ecommerce_df_mean_count['Rating'], color='green', kde=False, bins=50)\n",
    "plt.tick_params(labelsize=13)\n",
    "\n",
    "plt.show()"
   ]
  },
  {
   "cell_type": "code",
   "execution_count": 39,
   "metadata": {},
   "outputs": [
    {
     "data": {
      "image/png": "[encoded data removed]",
      "text/plain": [
       "<Figure size 432x432 with 3 Axes>"
      ]
     },
     "metadata": {
      "needs_background": "light"
     },
     "output_type": "display_data"
    }
   ],
   "source": [
    "# Rating\n",
    "plt.rcParams['patch.force_edgecolor']=True\n",
    "sns.jointplot(x='Rating', y='Rating_Counts', data=ratings_ecommerce_df_mean_count, color='brown')\n",
    "plt.tick_params(labelsize=13)\n"
   ]
  },
  {
   "cell_type": "code",
   "execution_count": 40,
   "metadata": {},
   "outputs": [],
   "source": [
    "ratings_ecommerce_df_popular_products = ratings_ecommerce_df_mean_count.sort_values(['Rating_Counts', 'Rating'], \n",
    "                                                                                    ascending=False)\n"
   ]
  },
  {
   "cell_type": "code",
   "execution_count": 41,
   "metadata": {},
   "outputs": [
    {
     "data": {
      "text/html": [
       "<div>\n",
       "<style scoped>\n",
       "    .dataframe tbody tr th:only-of-type {\n",
       "        vertical-align: middle;\n",
       "    }\n",
       "\n",
       "    .dataframe tbody tr th {\n",
       "        vertical-align: top;\n",
       "    }\n",
       "\n",
       "    .dataframe thead th {\n",
       "        text-align: right;\n",
       "    }\n",
       "</style>\n",
       "<table border=\"1\" class=\"dataframe\">\n",
       "  <thead>\n",
       "    <tr style=\"text-align: right;\">\n",
       "      <th></th>\n",
       "      <th>Rating</th>\n",
       "      <th>Rating_Counts</th>\n",
       "    </tr>\n",
       "    <tr>\n",
       "      <th>ProductId</th>\n",
       "      <th></th>\n",
       "      <th></th>\n",
       "    </tr>\n",
       "  </thead>\n",
       "  <tbody>\n",
       "    <tr>\n",
       "      <th>B0074BW614</th>\n",
       "      <td>4.491504</td>\n",
       "      <td>18244</td>\n",
       "    </tr>\n",
       "    <tr>\n",
       "      <th>B00DR0PDNE</th>\n",
       "      <td>3.931020</td>\n",
       "      <td>16454</td>\n",
       "    </tr>\n",
       "    <tr>\n",
       "      <th>B007WTAJTO</th>\n",
       "      <td>4.424005</td>\n",
       "      <td>14172</td>\n",
       "    </tr>\n",
       "    <tr>\n",
       "      <th>B0019EHU8G</th>\n",
       "      <td>4.754497</td>\n",
       "      <td>12285</td>\n",
       "    </tr>\n",
       "    <tr>\n",
       "      <th>B006GWO5WK</th>\n",
       "      <td>4.314657</td>\n",
       "      <td>12226</td>\n",
       "    </tr>\n",
       "    <tr>\n",
       "      <th>B003ELYQGG</th>\n",
       "      <td>4.392528</td>\n",
       "      <td>11617</td>\n",
       "    </tr>\n",
       "    <tr>\n",
       "      <th>B003ES5ZUU</th>\n",
       "      <td>4.704749</td>\n",
       "      <td>10276</td>\n",
       "    </tr>\n",
       "    <tr>\n",
       "      <th>B007R5YDYA</th>\n",
       "      <td>4.690926</td>\n",
       "      <td>9907</td>\n",
       "    </tr>\n",
       "    <tr>\n",
       "      <th>B00622AG6S</th>\n",
       "      <td>4.420136</td>\n",
       "      <td>9823</td>\n",
       "    </tr>\n",
       "    <tr>\n",
       "      <th>B0002L5R78</th>\n",
       "      <td>4.448614</td>\n",
       "      <td>9487</td>\n",
       "    </tr>\n",
       "  </tbody>\n",
       "</table>\n",
       "</div>"
      ],
      "text/plain": [
       "              Rating  Rating_Counts\n",
       "ProductId                          \n",
       "B0074BW614  4.491504          18244\n",
       "B00DR0PDNE  3.931020          16454\n",
       "B007WTAJTO  4.424005          14172\n",
       "B0019EHU8G  4.754497          12285\n",
       "B006GWO5WK  4.314657          12226\n",
       "B003ELYQGG  4.392528          11617\n",
       "B003ES5ZUU  4.704749          10276\n",
       "B007R5YDYA  4.690926           9907\n",
       "B00622AG6S  4.420136           9823\n",
       "B0002L5R78  4.448614           9487"
      ]
     },
     "execution_count": 41,
     "metadata": {},
     "output_type": "execute_result"
    }
   ],
   "source": [
    "ratings_ecommerce_df_popular_products.head(10)"
   ]
  },
  {
   "cell_type": "code",
   "execution_count": 42,
   "metadata": {},
   "outputs": [
    {
     "data": {
      "text/plain": [
       "<matplotlib.axes._subplots.AxesSubplot at 0x1b50c035d60>"
      ]
     },
     "execution_count": 42,
     "metadata": {},
     "output_type": "execute_result"
    },
    {
     "data": {
      "image/png": "[encoded data removed]",
      "text/plain": [
       "<Figure size 432x288 with 1 Axes>"
      ]
     },
     "metadata": {
      "needs_background": "light"
     },
     "output_type": "display_data"
    }
   ],
   "source": [
    "ratings_ecommerce_df_popular_products.head(30).plot(kind='bar')"
   ]
  },
  {
   "cell_type": "markdown",
   "metadata": {},
   "source": [
    "#### <span style=\"font-family: Arial; font-weight:bold;font-size:1.25em;color:#00b3e5;\">Observation :\n",
    "<font color=darkblue>\n",
    "<ul>\n",
    "<li>Top 30 Products based on their popularity ratings is shown</li>\n",
    "</ul>\n",
    "</font>"
   ]
  },
  {
   "cell_type": "markdown",
   "metadata": {},
   "source": [
    "## <span style=\"font-family: Arial; font-weight:bold;font-size:1.25em;color:#00b3e5;\">4. Split Data into train / test dataset\n",
    "<font color=darkblue>\n",
    "</font>"
   ]
  },
  {
   "cell_type": "code",
   "execution_count": 43,
   "metadata": {},
   "outputs": [],
   "source": [
    "reader = Reader(rating_scale=(1, 5))\n",
    "data_reader = Dataset.load_from_df(ratings_ecommerce_df_sparsed, reader)"
   ]
  },
  {
   "cell_type": "code",
   "execution_count": 44,
   "metadata": {},
   "outputs": [],
   "source": [
    "trainset, testset = train_test_split(data_reader, test_size=.30, random_state=1)"
   ]
  },
  {
   "cell_type": "markdown",
   "metadata": {},
   "source": [
    "## <span style=\"font-family: Arial; font-weight:bold;font-size:1.25em;color:#00b3e5;\">5. Collaborative Filtering Model\n",
    "<font color=darkblue>\n",
    "</font>"
   ]
  },
  {
   "cell_type": "markdown",
   "metadata": {},
   "source": [
    "#### <span style=\"font-family: Arial; font-weight:bold;font-size:1.25em;color:#00b3e5;\">Memory Based Approach :\n",
    "<font color=darkblue>\n",
    "</font>"
   ]
  },
  {
   "cell_type": "code",
   "execution_count": 45,
   "metadata": {},
   "outputs": [
    {
     "name": "stdout",
     "output_type": "stream",
     "text": [
      "Estimating biases using als...\n",
      "Computing the pearson_baseline similarity matrix...\n",
      "Done computing similarity matrix.\n"
     ]
    },
    {
     "data": {
      "text/plain": [
       "<surprise.prediction_algorithms.knns.KNNWithMeans at 0x1b50a8e06a0>"
      ]
     },
     "execution_count": 45,
     "metadata": {},
     "output_type": "execute_result"
    }
   ],
   "source": [
    "# Use user_based true/false to switch between user-based or item-based collaborative filtering\n",
    "algo_cf_mem = KNNWithMeans(k=50, sim_options={'name': 'pearson_baseline', 'user_based': False})\n",
    "algo_cf_mem.fit(trainset)"
   ]
  },
  {
   "cell_type": "code",
   "execution_count": 46,
   "metadata": {},
   "outputs": [],
   "source": [
    "test_pred_cf_mem = algo_cf_mem.test(testset)"
   ]
  },
  {
   "cell_type": "code",
   "execution_count": 47,
   "metadata": {},
   "outputs": [
    {
     "data": {
      "text/plain": [
       "[Prediction(uid='A2SXFH0L3JGU9', iid='B001QNBUA4', r_ui=2.0, est=3.996031746031746, details={'actual_k': 0, 'was_impossible': False}),\n",
       " Prediction(uid='A1Q1X71W1C9KKR', iid='B0048IW030', r_ui=4.0, est=4.063374480564824, details={'was_impossible': True, 'reason': 'User and/or item is unknown.'}),\n",
       " Prediction(uid='A2WJLP768EMKR2', iid='B009SJNTIY', r_ui=4.0, est=4.225352112676056, details={'actual_k': 0, 'was_impossible': False}),\n",
       " Prediction(uid='A26H1ZN85O1EXL', iid='B0029F21LA', r_ui=5.0, est=4.063374480564824, details={'was_impossible': True, 'reason': 'User and/or item is unknown.'}),\n",
       " Prediction(uid='AEY6F9T36MYG8', iid='B000NVVDKC', r_ui=1.0, est=4.063374480564824, details={'was_impossible': True, 'reason': 'User and/or item is unknown.'}),\n",
       " Prediction(uid='A1VOS9VVNTDT3H', iid='B003ELYQGG', r_ui=5.0, est=4.397907033341445, details={'actual_k': 0, 'was_impossible': False}),\n",
       " Prediction(uid='AIGV6RMVQXGFE', iid='B00008VELA', r_ui=5.0, est=2.9464285714285716, details={'actual_k': 0, 'was_impossible': False}),\n",
       " Prediction(uid='A19RSE6RJWOYCM', iid='B0088PUEPK', r_ui=5.0, est=4.890997190188174, details={'actual_k': 1, 'was_impossible': False}),\n",
       " Prediction(uid='A2N823Q3BZ46IP', iid='B008Z2661W', r_ui=1.0, est=3.2329317269076303, details={'actual_k': 0, 'was_impossible': False}),\n",
       " Prediction(uid='A2QBTMT4YR5I3A', iid='B003962DXE', r_ui=3.0, est=4.063374480564824, details={'was_impossible': True, 'reason': 'User and/or item is unknown.'}),\n",
       " Prediction(uid='A1R0TFPX8GO0RL', iid='B000EXTXSI', r_ui=4.0, est=4.063374480564824, details={'was_impossible': True, 'reason': 'User and/or item is unknown.'}),\n",
       " Prediction(uid='A1DH5ZLKZ1TM0V', iid='B004LWL9A8', r_ui=5.0, est=4.675675675675675, details={'actual_k': 0, 'was_impossible': False}),\n",
       " Prediction(uid='A1CHRFTYGHQPWJ', iid='B0001YGIB0', r_ui=4.0, est=4.515151515151516, details={'actual_k': 0, 'was_impossible': False}),\n",
       " Prediction(uid='A1OCRKQM87O8CF', iid='B001R69DOA', r_ui=5.0, est=4.063374480564824, details={'was_impossible': True, 'reason': 'User and/or item is unknown.'}),\n",
       " Prediction(uid='A39YO0G4G6TRTP', iid='B005NGQWL2', r_ui=4.0, est=4.993574943517688, details={'actual_k': 1, 'was_impossible': False}),\n",
       " Prediction(uid='AUVZIUQLMZP7L', iid='B0009H5VVM', r_ui=5.0, est=4.076923076923077, details={'actual_k': 0, 'was_impossible': False}),\n",
       " Prediction(uid='A2PREDH9B7WPK5', iid='B00B5HE3UU', r_ui=4.0, est=4.063374480564824, details={'was_impossible': True, 'reason': 'User and/or item is unknown.'}),\n",
       " Prediction(uid='A2ZXOYBMLLDPWP', iid='B00D02AHEO', r_ui=5.0, est=4.063374480564824, details={'was_impossible': True, 'reason': 'User and/or item is unknown.'}),\n",
       " Prediction(uid='AAUSIU3W3GT5V', iid='B008CS5QTW', r_ui=5.0, est=4.063374480564824, details={'was_impossible': True, 'reason': 'User and/or item is unknown.'}),\n",
       " Prediction(uid='APMQOY8T1G1M1', iid='B00291N83O', r_ui=1.0, est=4.063374480564824, details={'was_impossible': True, 'reason': 'User and/or item is unknown.'}),\n",
       " Prediction(uid='A1S8OSN7OXKE0V', iid='B00763WKZW', r_ui=5.0, est=4.063374480564824, details={'was_impossible': True, 'reason': 'User and/or item is unknown.'}),\n",
       " Prediction(uid='ALPO9ZL70PZVJ', iid='B002SW3MP8', r_ui=5.0, est=3.2857142857142856, details={'actual_k': 0, 'was_impossible': False}),\n",
       " Prediction(uid='A2BEO5JCPR7BEM', iid='B0058UUR6E', r_ui=5.0, est=4.3755375059722885, details={'actual_k': 0, 'was_impossible': False}),\n",
       " Prediction(uid='A2I7ZZNKHZ2MJR', iid='B000CKVOOY', r_ui=5.0, est=4.705157813702848, details={'actual_k': 0, 'was_impossible': False}),\n",
       " Prediction(uid='A17RJDSS1X6Y1G', iid='B0097FM3PE', r_ui=5.0, est=4.063374480564824, details={'was_impossible': True, 'reason': 'User and/or item is unknown.'}),\n",
       " Prediction(uid='A366AX8LU9MEVW', iid='B0017H4G0A', r_ui=3.0, est=4.063374480564824, details={'was_impossible': True, 'reason': 'User and/or item is unknown.'}),\n",
       " Prediction(uid='ADRDM69WRIM9K', iid='B00CRFK24K', r_ui=5.0, est=4.063374480564824, details={'was_impossible': True, 'reason': 'User and/or item is unknown.'}),\n",
       " Prediction(uid='A3N0Z0QVRS1PP9', iid='B00093IIRA', r_ui=5.0, est=4.8523478916395115, details={'actual_k': 1, 'was_impossible': False}),\n",
       " Prediction(uid='ANS22CDEYSZD8', iid='B00006B9H9', r_ui=4.0, est=4.063374480564824, details={'was_impossible': True, 'reason': 'User and/or item is unknown.'}),\n",
       " Prediction(uid='AIOPI7X1QYPO4', iid='B001M09MUG', r_ui=1.0, est=4.063374480564824, details={'was_impossible': True, 'reason': 'User and/or item is unknown.'}),\n",
       " Prediction(uid='A3NU49HCZ7DABS', iid='B003OWKM3G', r_ui=4.0, est=4.063374480564824, details={'was_impossible': True, 'reason': 'User and/or item is unknown.'}),\n",
       " Prediction(uid='A3OZ16UM7MQB3U', iid='B00284VD02', r_ui=3.0, est=3.526690391459075, details={'actual_k': 0, 'was_impossible': False}),\n",
       " Prediction(uid='A2JAEUD17E1SHF', iid='B002008RVC', r_ui=5.0, est=4.523809523809524, details={'actual_k': 0, 'was_impossible': False}),\n",
       " Prediction(uid='A2NS35RWE25VPL', iid='B001QW1ONI', r_ui=5.0, est=4.145833333333333, details={'actual_k': 0, 'was_impossible': False}),\n",
       " Prediction(uid='A1RIPKDF03ZFB9', iid='B004LU1CA2', r_ui=4.0, est=3.6151202749140894, details={'actual_k': 0, 'was_impossible': False}),\n",
       " Prediction(uid='A3T0OIBXBJVC9U', iid='B005E7KMH0', r_ui=5.0, est=4.063374480564824, details={'was_impossible': True, 'reason': 'User and/or item is unknown.'}),\n",
       " Prediction(uid='A1EQQWHJOMWHM', iid='B009X0167Y', r_ui=3.0, est=4.063374480564824, details={'was_impossible': True, 'reason': 'User and/or item is unknown.'}),\n",
       " Prediction(uid='A6ZJWTMQAMFS8', iid='B004OYP634', r_ui=5.0, est=3.52, details={'actual_k': 0, 'was_impossible': False}),\n",
       " Prediction(uid='A1VU30VSPRYLFI', iid='B00D5Q75RC', r_ui=5.0, est=4.798356164383562, details={'actual_k': 0, 'was_impossible': False}),\n",
       " Prediction(uid='AOF2R2KSHSDH8', iid='B006JGXOSY', r_ui=4.0, est=4.3125, details={'actual_k': 0, 'was_impossible': False}),\n",
       " Prediction(uid='A2OA9P5H8PZ87G', iid='B009STMN9K', r_ui=5.0, est=4.202127659574468, details={'actual_k': 0, 'was_impossible': False}),\n",
       " Prediction(uid='AMVXR3NPL0GWX', iid='B003MOU9SE', r_ui=5.0, est=4.138053727094823, details={'actual_k': 1, 'was_impossible': False}),\n",
       " Prediction(uid='A2YEFP9M5S6NG9', iid='B001UE6MIO', r_ui=3.0, est=4.063374480564824, details={'was_impossible': True, 'reason': 'User and/or item is unknown.'}),\n",
       " Prediction(uid='AVW70XMDUN5LI', iid='B00AOAAMBS', r_ui=5.0, est=4.063374480564824, details={'was_impossible': True, 'reason': 'User and/or item is unknown.'}),\n",
       " Prediction(uid='AN4CUD7PS6QWR', iid='B006ZP8UOW', r_ui=5.0, est=4.063374480564824, details={'was_impossible': True, 'reason': 'User and/or item is unknown.'}),\n",
       " Prediction(uid='A2Q8OPF84SAH57', iid='B00A8OWALU', r_ui=4.0, est=4.032634032634032, details={'actual_k': 0, 'was_impossible': False}),\n",
       " Prediction(uid='ALBKZY15IEWO0', iid='B00F0XQWUO', r_ui=3.0, est=4.075, details={'actual_k': 0, 'was_impossible': False}),\n",
       " Prediction(uid='AK49MII32OIKT', iid='B0029LDIS4', r_ui=5.0, est=4.451219512195122, details={'actual_k': 0, 'was_impossible': False}),\n",
       " Prediction(uid='A32FU8PV8DFCM7', iid='B001441L9A', r_ui=5.0, est=4.063374480564824, details={'was_impossible': True, 'reason': 'User and/or item is unknown.'}),\n",
       " Prediction(uid='A23NQLJ2DEOJCJ', iid='B003PJI9II', r_ui=5.0, est=4.446850393700787, details={'actual_k': 0, 'was_impossible': False}),\n",
       " Prediction(uid='A1IZGIXTKY6EB5', iid='B007WTAJTO', r_ui=5.0, est=4.063374480564824, details={'was_impossible': True, 'reason': 'User and/or item is unknown.'}),\n",
       " Prediction(uid='A1T83QK1DNQIXD', iid='B00452V66G', r_ui=4.0, est=3.396551724137931, details={'actual_k': 0, 'was_impossible': False}),\n",
       " Prediction(uid='ATLGV4S48EG8I', iid='B0018LX0DY', r_ui=1.0, est=4.063374480564824, details={'was_impossible': True, 'reason': 'User and/or item is unknown.'}),\n",
       " Prediction(uid='A1ZHFUJFGSXLPE', iid='B00APUQPHW', r_ui=5.0, est=4.063374480564824, details={'was_impossible': True, 'reason': 'User and/or item is unknown.'}),\n",
       " Prediction(uid='A3692WPQ9TDMMU', iid='B004K1EZDS', r_ui=1.0, est=4.063374480564824, details={'was_impossible': True, 'reason': 'User and/or item is unknown.'}),\n",
       " Prediction(uid='A21SAYJAEWMDBP', iid='B00AQM8586', r_ui=5.0, est=4.61864406779661, details={'actual_k': 0, 'was_impossible': False}),\n",
       " Prediction(uid='A1VHHJBZRTNT53', iid='B000I68BD4', r_ui=4.0, est=3.500583090379009, details={'actual_k': 0, 'was_impossible': False}),\n",
       " Prediction(uid='A3PBC7YTEK9UZ', iid='B004P8FATE', r_ui=5.0, est=4.063374480564824, details={'was_impossible': True, 'reason': 'User and/or item is unknown.'}),\n",
       " Prediction(uid='A1B9VY9BQNT855', iid='B00B7N997O', r_ui=2.0, est=4.063374480564824, details={'was_impossible': True, 'reason': 'User and/or item is unknown.'}),\n",
       " Prediction(uid='A3C3UQ5NML97JG', iid='B00BCGRLSU', r_ui=1.0, est=4.063374480564824, details={'was_impossible': True, 'reason': 'User and/or item is unknown.'}),\n",
       " Prediction(uid='AUP9PV88R0AF8', iid='B0038Z4JFQ', r_ui=5.0, est=4.063374480564824, details={'was_impossible': True, 'reason': 'User and/or item is unknown.'}),\n",
       " Prediction(uid='A1YZSIF8M82LK9', iid='B000Y8I3NY', r_ui=5.0, est=3.369565217391304, details={'actual_k': 0, 'was_impossible': False}),\n",
       " Prediction(uid='A2UP51T4N9X5C', iid='B000R9AAJA', r_ui=5.0, est=3.300381976954357, details={'actual_k': 1, 'was_impossible': False}),\n",
       " Prediction(uid='AM4FCFP3F42TP', iid='B00902SFC4', r_ui=3.0, est=5, details={'actual_k': 1, 'was_impossible': False}),\n",
       " Prediction(uid='A1NYLW7Z2YLD6D', iid='B004I5IO88', r_ui=4.0, est=4.063374480564824, details={'was_impossible': True, 'reason': 'User and/or item is unknown.'}),\n",
       " Prediction(uid='A2POSXDNML7CPR', iid='B0043ZLFXE', r_ui=5.0, est=4.956521739130435, details={'actual_k': 0, 'was_impossible': False}),\n",
       " Prediction(uid='A214GGHL7GGIN0', iid='B002JM1RLS', r_ui=5.0, est=4.069767441860465, details={'actual_k': 0, 'was_impossible': False}),\n",
       " Prediction(uid='A1U5KT2WA2F8VN', iid='B00483WRZ6', r_ui=5.0, est=4.063374480564824, details={'was_impossible': True, 'reason': 'User and/or item is unknown.'}),\n",
       " Prediction(uid='A3TQTYD0D6AUO3', iid='B006U3O566', r_ui=4.0, est=5, details={'actual_k': 3, 'was_impossible': False}),\n",
       " Prediction(uid='A2SI6VEM90F3Q0', iid='B008GEC6DQ', r_ui=5.0, est=4.063374480564824, details={'was_impossible': True, 'reason': 'User and/or item is unknown.'}),\n",
       " Prediction(uid='A2IS5UUG8ZQBUD', iid='B007M506WS', r_ui=5.0, est=4.5625, details={'actual_k': 0, 'was_impossible': False}),\n",
       " Prediction(uid='A2DQ7SG9GCODCL', iid='B004M18O60', r_ui=4.0, est=4.38125, details={'actual_k': 0, 'was_impossible': False}),\n",
       " Prediction(uid='A39GZWH58ACO62', iid='B004FLL5BS', r_ui=1.0, est=3.669479606188467, details={'actual_k': 0, 'was_impossible': False}),\n",
       " Prediction(uid='A23EJ01KTZN2ID', iid='B008TLQ5RY', r_ui=5.0, est=4.346368715083799, details={'actual_k': 0, 'was_impossible': False}),\n",
       " Prediction(uid='A1JJLQKWPJQ7FZ', iid='B000G0134G', r_ui=5.0, est=4.063374480564824, details={'was_impossible': True, 'reason': 'User and/or item is unknown.'}),\n",
       " Prediction(uid='A1B6O7SAIYG2N0', iid='B00G2TK76A', r_ui=5.0, est=4.561253561253562, details={'actual_k': 0, 'was_impossible': False}),\n",
       " Prediction(uid='A124A39V14MUB0', iid='B0036VO67I', r_ui=4.0, est=3.6645569620253164, details={'actual_k': 0, 'was_impossible': False}),\n",
       " Prediction(uid='AEZCYZRWDUYHW', iid='B007TYUTY2', r_ui=2.0, est=4.063374480564824, details={'was_impossible': True, 'reason': 'User and/or item is unknown.'}),\n",
       " Prediction(uid='AM6RBV5VKD52K', iid='B002PY7OKI', r_ui=2.0, est=2.971830985915493, details={'actual_k': 0, 'was_impossible': False}),\n",
       " Prediction(uid='A39MWQSPR9QPF5', iid='B003F5NS9W', r_ui=4.0, est=4.487804878048781, details={'actual_k': 0, 'was_impossible': False}),\n",
       " Prediction(uid='A15HI0SP2Q7553', iid='B005G8CEZU', r_ui=5.0, est=4.063374480564824, details={'was_impossible': True, 'reason': 'User and/or item is unknown.'}),\n",
       " Prediction(uid='A36SEWSS6H4WBU', iid='B004QK7HI8', r_ui=3.0, est=4.0089303836005685, details={'actual_k': 0, 'was_impossible': False}),\n",
       " Prediction(uid='A38AJBI6AIHC08', iid='B000A6NV0U', r_ui=3.0, est=4.063374480564824, details={'was_impossible': True, 'reason': 'User and/or item is unknown.'}),\n",
       " Prediction(uid='A2MXMBPOIX4HP6', iid='B0014175E8', r_ui=5.0, est=4.063374480564824, details={'was_impossible': True, 'reason': 'User and/or item is unknown.'}),\n",
       " Prediction(uid='A1VN1J8I1YT51T', iid='B0071BTJPI', r_ui=3.0, est=4.063374480564824, details={'was_impossible': True, 'reason': 'User and/or item is unknown.'}),\n",
       " Prediction(uid='A1A1306LP191RG', iid='B00BC4SJEC', r_ui=2.0, est=4.063374480564824, details={'was_impossible': True, 'reason': 'User and/or item is unknown.'}),\n",
       " Prediction(uid='AFAOMO8O61AY3', iid='B001L6EPCQ', r_ui=5.0, est=4.655052264808362, details={'actual_k': 0, 'was_impossible': False}),\n",
       " Prediction(uid='A2FPWZIUT0NZYX', iid='B00EI94JWY', r_ui=5.0, est=3.91025641025641, details={'actual_k': 0, 'was_impossible': False}),\n",
       " Prediction(uid='A8L1WAAWI0WHK', iid='B0053DDNW6', r_ui=5.0, est=4.063374480564824, details={'was_impossible': True, 'reason': 'User and/or item is unknown.'}),\n",
       " Prediction(uid='A3JLAK3Q4XF0W', iid='B003U8I0D8', r_ui=5.0, est=4.063374480564824, details={'was_impossible': True, 'reason': 'User and/or item is unknown.'}),\n",
       " Prediction(uid='A321HRWVKK0U8C', iid='B003ZSHNG8', r_ui=2.0, est=4.063374480564824, details={'was_impossible': True, 'reason': 'User and/or item is unknown.'}),\n",
       " Prediction(uid='A3S0A38DYQRJ7J', iid='B003LPTAYI', r_ui=4.0, est=4.063374480564824, details={'was_impossible': True, 'reason': 'User and/or item is unknown.'}),\n",
       " Prediction(uid='AZXQKAMHK35PA', iid='B00028ONIA', r_ui=3.0, est=4.063374480564824, details={'was_impossible': True, 'reason': 'User and/or item is unknown.'}),\n",
       " Prediction(uid='AOV8L3S4QEMJF', iid='B008GVM9K4', r_ui=5.0, est=3.1501572327044025, details={'actual_k': 0, 'was_impossible': False}),\n",
       " Prediction(uid='A1GR2QPCD08COG', iid='B002L6HECS', r_ui=3.0, est=4.063374480564824, details={'was_impossible': True, 'reason': 'User and/or item is unknown.'}),\n",
       " Prediction(uid='A1RVSL3VHUPMMU', iid='B005AWY7RU', r_ui=1.0, est=4.063374480564824, details={'was_impossible': True, 'reason': 'User and/or item is unknown.'}),\n",
       " Prediction(uid='A217QKSYBKK5I3', iid='B00065L5TE', r_ui=1.0, est=4.063374480564824, details={'was_impossible': True, 'reason': 'User and/or item is unknown.'}),\n",
       " Prediction(uid='A1O97WKID9L3IA', iid='B007F9XHBI', r_ui=1.0, est=4.638460855896968, details={'actual_k': 1, 'was_impossible': False}),\n",
       " Prediction(uid='A1OEM9W8TXVSRZ', iid='B00E3W15P0', r_ui=5.0, est=5, details={'actual_k': 1, 'was_impossible': False}),\n",
       " Prediction(uid='A2IY0NVVMD9O8V', iid='B001MSU1FS', r_ui=5.0, est=4.063374480564824, details={'was_impossible': True, 'reason': 'User and/or item is unknown.'}),\n",
       " Prediction(uid='A2X0WSMR9LP14Q', iid='B001EKQQ5S', r_ui=1.0, est=3.522935779816514, details={'actual_k': 0, 'was_impossible': False}),\n",
       " Prediction(uid='ANBF2VQVVPRB8', iid='B009X8EC90', r_ui=4.0, est=4.063374480564824, details={'was_impossible': True, 'reason': 'User and/or item is unknown.'}),\n",
       " Prediction(uid='A1J6DASK9FG6IV', iid='B002XZLURC', r_ui=5.0, est=3.9827586206896552, details={'actual_k': 0, 'was_impossible': False}),\n",
       " Prediction(uid='A1Y0NXIAE17B9N', iid='B001V9LPT4', r_ui=2.0, est=2.4630318950741485, details={'actual_k': 1, 'was_impossible': False}),\n",
       " Prediction(uid='A3HOJ8IMC4YZCW', iid='B00BOZCUG2', r_ui=2.0, est=4.046822742474917, details={'actual_k': 0, 'was_impossible': False}),\n",
       " Prediction(uid='A34U81ODIZJ9ED', iid='B002JSDHCY', r_ui=5.0, est=4.063374480564824, details={'was_impossible': True, 'reason': 'User and/or item is unknown.'}),\n",
       " Prediction(uid='A1XTWV97ZSSFVT', iid='B00FONITCE', r_ui=5.0, est=4.684210526315789, details={'actual_k': 0, 'was_impossible': False}),\n",
       " Prediction(uid='A1MS4RQGWOWF4Y', iid='B005CLPP84', r_ui=5.0, est=5, details={'actual_k': 1, 'was_impossible': False}),\n",
       " Prediction(uid='A1L1XP2KQ99BGJ', iid='B000FCSWVW', r_ui=4.0, est=4.063374480564824, details={'was_impossible': True, 'reason': 'User and/or item is unknown.'}),\n",
       " Prediction(uid='ADLVFFE4VBT8', iid='B002BDU89M', r_ui=1.0, est=3.479641730759441, details={'actual_k': 2, 'was_impossible': False}),\n",
       " Prediction(uid='A3508AW813QKO3', iid='B001AO2274', r_ui=5.0, est=4.063374480564824, details={'was_impossible': True, 'reason': 'User and/or item is unknown.'}),\n",
       " Prediction(uid='A2ICWB3FZIGGSY', iid='B001QGNX24', r_ui=5.0, est=3.506276150627615, details={'actual_k': 0, 'was_impossible': False}),\n",
       " Prediction(uid='A3NK3VW0YQDPS7', iid='B000065BPB', r_ui=5.0, est=4.063374480564824, details={'was_impossible': True, 'reason': 'User and/or item is unknown.'}),\n",
       " Prediction(uid='A2WHMTOQN6BOX0', iid='B000MX48VM', r_ui=5.0, est=4.414866032843561, details={'actual_k': 0, 'was_impossible': False}),\n",
       " Prediction(uid='ABAVPTV10SMYN', iid='B005HU0LX4', r_ui=3.0, est=4.014925373134329, details={'actual_k': 0, 'was_impossible': False}),\n",
       " Prediction(uid='A3J9CIWW6465NL', iid='B006O70ZR6', r_ui=5.0, est=4.063374480564824, details={'was_impossible': True, 'reason': 'User and/or item is unknown.'}),\n",
       " Prediction(uid='A3BE5P2X3589PK', iid='B00DY3J8VM', r_ui=3.0, est=3.0136986301369864, details={'actual_k': 0, 'was_impossible': False}),\n",
       " Prediction(uid='A1QH11SEYCBOQ7', iid='B003VAK1I2', r_ui=5.0, est=4.063374480564824, details={'was_impossible': True, 'reason': 'User and/or item is unknown.'}),\n",
       " Prediction(uid='ABM9QXI2Y3L4P', iid='B003AIL5KI', r_ui=3.0, est=3.3333333333333335, details={'actual_k': 0, 'was_impossible': False}),\n",
       " Prediction(uid='A1HLDIYPFZB9OV', iid='B0019C4OLY', r_ui=4.0, est=4.063374480564824, details={'was_impossible': True, 'reason': 'User and/or item is unknown.'}),\n",
       " Prediction(uid='A1BJKAWCOEPZ5O', iid='B003QN64YY', r_ui=3.0, est=4.063374480564824, details={'was_impossible': True, 'reason': 'User and/or item is unknown.'}),\n",
       " Prediction(uid='A15FJQ2NG87JQZ', iid='B000BKJZ9Q', r_ui=3.0, est=4.063374480564824, details={'was_impossible': True, 'reason': 'User and/or item is unknown.'}),\n",
       " Prediction(uid='A15ILEHAZ7OI5G', iid='B003IBB9CG', r_ui=5.0, est=4.063374480564824, details={'was_impossible': True, 'reason': 'User and/or item is unknown.'}),\n",
       " Prediction(uid='AUJDS9U61KSEA', iid='B0015GADB4', r_ui=5.0, est=4.063374480564824, details={'was_impossible': True, 'reason': 'User and/or item is unknown.'}),\n",
       " Prediction(uid='A35KG5YH5BVB1J', iid='B0027DET28', r_ui=4.0, est=4.063374480564824, details={'was_impossible': True, 'reason': 'User and/or item is unknown.'}),\n",
       " Prediction(uid='A1M85899V6KV3K', iid='B00005A1KZ', r_ui=5.0, est=4.063374480564824, details={'was_impossible': True, 'reason': 'User and/or item is unknown.'}),\n",
       " Prediction(uid='A22OVP2JI41KNZ', iid='B005RFOJT6', r_ui=1.0, est=3.146938775510204, details={'actual_k': 0, 'was_impossible': False}),\n",
       " Prediction(uid='A2OVJEDNA7QS8B', iid='B00A3YN0Z0', r_ui=5.0, est=3.474398249452954, details={'actual_k': 0, 'was_impossible': False}),\n",
       " Prediction(uid='A2RUAECUJD1UOP', iid='B0013AV4M4', r_ui=5.0, est=4.063374480564824, details={'was_impossible': True, 'reason': 'User and/or item is unknown.'}),\n",
       " Prediction(uid='A29G316GCKJE74', iid='B003K0E6BG', r_ui=5.0, est=4.063374480564824, details={'was_impossible': True, 'reason': 'User and/or item is unknown.'}),\n",
       " Prediction(uid='A1MSUL7WLBXUAU', iid='B0069R7FFQ', r_ui=4.0, est=3.480243161094225, details={'actual_k': 0, 'was_impossible': False}),\n",
       " Prediction(uid='ATVNMN0MKFWJS', iid='B0043T7FXE', r_ui=4.0, est=4.063374480564824, details={'was_impossible': True, 'reason': 'User and/or item is unknown.'}),\n",
       " Prediction(uid='A2PO1R3R875NP4', iid='B000NUYW92', r_ui=5.0, est=4.079229122055675, details={'actual_k': 0, 'was_impossible': False}),\n",
       " Prediction(uid='A3QCD2VR9VSNSH', iid='B00BIP816Q', r_ui=5.0, est=4.063374480564824, details={'was_impossible': True, 'reason': 'User and/or item is unknown.'}),\n",
       " Prediction(uid='A1QOKWBZW901BV', iid='B004I51X18', r_ui=4.0, est=3.45, details={'actual_k': 0, 'was_impossible': False}),\n",
       " Prediction(uid='A3S5EXYZDEBF3K', iid='B00884WH74', r_ui=2.0, est=4.360548752663397, details={'actual_k': 8, 'was_impossible': False}),\n",
       " Prediction(uid='APTCRUQETWOGW', iid='B001W28L2Y', r_ui=3.0, est=4.845454545454546, details={'actual_k': 0, 'was_impossible': False}),\n",
       " Prediction(uid='A23FL6KAO05IW7', iid='B00BD7UVHG', r_ui=4.0, est=4.063374480564824, details={'was_impossible': True, 'reason': 'User and/or item is unknown.'}),\n",
       " Prediction(uid='AEWD762NLMHIJ', iid='B002YT8CKA', r_ui=5.0, est=3.4328358208955225, details={'actual_k': 0, 'was_impossible': False}),\n",
       " Prediction(uid='A1O5UTFOUP16AL', iid='B0079LE43W', r_ui=5.0, est=4.063374480564824, details={'was_impossible': True, 'reason': 'User and/or item is unknown.'}),\n",
       " Prediction(uid='AQGS3UT05JI00', iid='B002CMLDT6', r_ui=5.0, est=4.063374480564824, details={'was_impossible': True, 'reason': 'User and/or item is unknown.'}),\n",
       " Prediction(uid='AMC5ICM6CQCEU', iid='B005GM5Q1K', r_ui=5.0, est=4.063374480564824, details={'was_impossible': True, 'reason': 'User and/or item is unknown.'}),\n",
       " Prediction(uid='A8DPF93HBQ1V3', iid='B0076R7F62', r_ui=5.0, est=3.0504201680672267, details={'actual_k': 0, 'was_impossible': False}),\n",
       " Prediction(uid='A2B1UQL05AX1P5', iid='B002HUURWC', r_ui=4.0, est=4.063374480564824, details={'was_impossible': True, 'reason': 'User and/or item is unknown.'}),\n",
       " Prediction(uid='A2Q562OBFHKVQ0', iid='B0074FGLUM', r_ui=5.0, est=4.063374480564824, details={'was_impossible': True, 'reason': 'User and/or item is unknown.'}),\n",
       " Prediction(uid='ASV2VP86NRYXZ', iid='B001J8BPYM', r_ui=4.0, est=4.063374480564824, details={'was_impossible': True, 'reason': 'User and/or item is unknown.'}),\n",
       " Prediction(uid='A2O74NKTIWTOEL', iid='B000NW12C0', r_ui=5.0, est=3.504531722054381, details={'actual_k': 0, 'was_impossible': False}),\n",
       " Prediction(uid='AU451IFF4DZ8', iid='B004QVI09W', r_ui=3.0, est=3.72, details={'actual_k': 0, 'was_impossible': False}),\n",
       " Prediction(uid='ADVZ7KA88NLSF', iid='B0049P6OTI', r_ui=3.0, est=4.265140324963072, details={'actual_k': 0, 'was_impossible': False}),\n",
       " Prediction(uid='A1NBHOH9F8W17A', iid='B00008Y1BX', r_ui=5.0, est=4.063374480564824, details={'was_impossible': True, 'reason': 'User and/or item is unknown.'}),\n",
       " Prediction(uid='A25R2X9FENL2QA', iid='B00004TBLW', r_ui=5.0, est=4.336448598130841, details={'actual_k': 0, 'was_impossible': False}),\n",
       " Prediction(uid='A9C2XH91MTWDO', iid='B0007POE6O', r_ui=4.0, est=4.063374480564824, details={'was_impossible': True, 'reason': 'User and/or item is unknown.'}),\n",
       " Prediction(uid='A1V0L6ZGWRVZW8', iid='B007WTAJTO', r_ui=5.0, est=5, details={'actual_k': 2, 'was_impossible': False}),\n",
       " Prediction(uid='A1ZMZ29EUDXPDH', iid='B001RB24U0', r_ui=5.0, est=4.063374480564824, details={'was_impossible': True, 'reason': 'User and/or item is unknown.'}),\n",
       " Prediction(uid='AQS87WSRPD9JL', iid='B0014S5FVQ', r_ui=3.0, est=4.063374480564824, details={'was_impossible': True, 'reason': 'User and/or item is unknown.'}),\n",
       " Prediction(uid='AYORKCAJZ6TCP', iid='B00BT7RAPG', r_ui=4.0, est=4.063374480564824, details={'was_impossible': True, 'reason': 'User and/or item is unknown.'}),\n",
       " Prediction(uid='A1KAEJVLGKQ0PB', iid='B002EF2200', r_ui=5.0, est=3.9456521739130435, details={'actual_k': 0, 'was_impossible': False}),\n",
       " Prediction(uid='AB0L554H053V8', iid='B000O9GGLY', r_ui=5.0, est=3.9276315789473686, details={'actual_k': 0, 'was_impossible': False}),\n",
       " Prediction(uid='A1KFAF5U2P8964', iid='B001B13LEO', r_ui=5.0, est=4.463636363636364, details={'actual_k': 0, 'was_impossible': False}),\n",
       " Prediction(uid='A2L2VNOTH66YDQ', iid='B0097BEFYA', r_ui=5.0, est=4.063374480564824, details={'was_impossible': True, 'reason': 'User and/or item is unknown.'}),\n",
       " Prediction(uid='A1ABBCHXS68SEU', iid='B002V3R2SM', r_ui=1.0, est=4.063374480564824, details={'was_impossible': True, 'reason': 'User and/or item is unknown.'}),\n",
       " Prediction(uid='A2I1KS72VLKLYY', iid='B0014II9F0', r_ui=1.0, est=4.063374480564824, details={'was_impossible': True, 'reason': 'User and/or item is unknown.'}),\n",
       " Prediction(uid='A2PZXXPGLXXKZU', iid='B004X355Y6', r_ui=4.0, est=4.02771855010661, details={'actual_k': 1, 'was_impossible': False}),\n",
       " Prediction(uid='A12X6L2NFGFSL', iid='B0098FKHA6', r_ui=5.0, est=3.563451776649746, details={'actual_k': 0, 'was_impossible': False}),\n",
       " Prediction(uid='A6SZZSMX7DQG1', iid='B006C248BC', r_ui=5.0, est=2.696454495861264, details={'actual_k': 3, 'was_impossible': False}),\n",
       " Prediction(uid='A39EBIGUKH70RM', iid='B008BQ1Y8M', r_ui=3.0, est=3.4285714285714284, details={'actual_k': 0, 'was_impossible': False}),\n",
       " Prediction(uid='A8MV38WT9PWGV', iid='B0012N0ZAY', r_ui=1.0, est=4.063374480564824, details={'was_impossible': True, 'reason': 'User and/or item is unknown.'}),\n",
       " Prediction(uid='A21W1MPCEUJWRK', iid='B000068O3T', r_ui=5.0, est=5, details={'actual_k': 1, 'was_impossible': False}),\n",
       " Prediction(uid='AXJR7CHZSIANQ', iid='B008NMCPTQ', r_ui=1.0, est=4.063374480564824, details={'was_impossible': True, 'reason': 'User and/or item is unknown.'}),\n",
       " Prediction(uid='A29B27P5EPMN47', iid='B002V123VA', r_ui=5.0, est=4.063374480564824, details={'was_impossible': True, 'reason': 'User and/or item is unknown.'}),\n",
       " Prediction(uid='A28LHOESDGN3BT', iid='B00EJF6TMU', r_ui=5.0, est=4.063374480564824, details={'was_impossible': True, 'reason': 'User and/or item is unknown.'}),\n",
       " Prediction(uid='A1NWK0FDC48SDH', iid='B00K91DB7Y', r_ui=5.0, est=4.063374480564824, details={'was_impossible': True, 'reason': 'User and/or item is unknown.'}),\n",
       " Prediction(uid='A1Q01EQR3SAN5L', iid='B0028N6VNW', r_ui=5.0, est=2.3741007194244603, details={'actual_k': 0, 'was_impossible': False}),\n",
       " Prediction(uid='A1LCSVCC7OI6RZ', iid='B008JJLW4M', r_ui=1.0, est=4.511737089201878, details={'actual_k': 0, 'was_impossible': False}),\n",
       " Prediction(uid='A295GX7EXQ1MHT', iid='B004EGI3CI', r_ui=5.0, est=4.634146341463414, details={'actual_k': 0, 'was_impossible': False}),\n",
       " Prediction(uid='A3K9AOX3G51QP4', iid='B003ES5ZUU', r_ui=5.0, est=5, details={'actual_k': 3, 'was_impossible': False}),\n",
       " Prediction(uid='AMFJSMJJ8FCV6', iid='B001M0JAVC', r_ui=5.0, est=3.663883089770355, details={'actual_k': 0, 'was_impossible': False}),\n",
       " Prediction(uid='A2IXVZNQDYLILY', iid='B00BGA9WK2', r_ui=1.0, est=4.063374480564824, details={'was_impossible': True, 'reason': 'User and/or item is unknown.'}),\n",
       " Prediction(uid='A1UMYO03FH1GMQ', iid='B0001D3K8A', r_ui=5.0, est=3.852422907488987, details={'actual_k': 0, 'was_impossible': False}),\n",
       " Prediction(uid='A2J4L7489X5K6C', iid='B007R1FH3K', r_ui=5.0, est=4.4760330578512395, details={'actual_k': 0, 'was_impossible': False}),\n",
       " Prediction(uid='A11F46ASBS5I8Q', iid='B00332X1M6', r_ui=4.0, est=4.063374480564824, details={'was_impossible': True, 'reason': 'User and/or item is unknown.'}),\n",
       " Prediction(uid='AX05DBU8IRUWY', iid='B0041Q38NU', r_ui=3.0, est=4.717164447412825, details={'actual_k': 8, 'was_impossible': False}),\n",
       " Prediction(uid='A8JZ63WCYSB8H', iid='B002QEBMAK', r_ui=1.0, est=3.9490369181380416, details={'actual_k': 0, 'was_impossible': False}),\n",
       " Prediction(uid='A2P0LN4W6VJGW', iid='B004YHVNWO', r_ui=5.0, est=4.063374480564824, details={'was_impossible': True, 'reason': 'User and/or item is unknown.'}),\n",
       " Prediction(uid='A22N9SNA7TQJIO', iid='B008PEEZSQ', r_ui=1.0, est=4.063374480564824, details={'was_impossible': True, 'reason': 'User and/or item is unknown.'}),\n",
       " Prediction(uid='A2KRVVE2O9FOKR', iid='B00009R96C', r_ui=5.0, est=4.883116883116883, details={'actual_k': 0, 'was_impossible': False}),\n",
       " Prediction(uid='A2IH6B13CIJKZ', iid='B008F4NL04', r_ui=5.0, est=1.6919936631732884, details={'actual_k': 1, 'was_impossible': False}),\n",
       " Prediction(uid='AROCULV31TTPT', iid='B000067O5G', r_ui=5.0, est=3.794729542302358, details={'actual_k': 0, 'was_impossible': False}),\n",
       " Prediction(uid='A3E7UOWA2C15UF', iid='B0019EHU8G', r_ui=5.0, est=4.751195056546578, details={'actual_k': 0, 'was_impossible': False}),\n",
       " Prediction(uid='A2CWHIM7TF4S18', iid='B00DR0PDNE', r_ui=1.0, est=4.063374480564824, details={'was_impossible': True, 'reason': 'User and/or item is unknown.'}),\n",
       " Prediction(uid='A14KP77PRDURQD', iid='B00E0EY7Z6', r_ui=5.0, est=4.0316686967113275, details={'actual_k': 0, 'was_impossible': False}),\n",
       " Prediction(uid='A12E5T2UEUDFBY', iid='B001P06PXU', r_ui=5.0, est=4.063374480564824, details={'was_impossible': True, 'reason': 'User and/or item is unknown.'}),\n",
       " Prediction(uid='A3FVD35S4INVYE', iid='B008L2WS8Q', r_ui=5.0, est=4.294117647058823, details={'actual_k': 0, 'was_impossible': False}),\n",
       " Prediction(uid='AHUN0NWHMU6RJ', iid='B004BLK24S', r_ui=5.0, est=4.736111111111111, details={'actual_k': 0, 'was_impossible': False}),\n",
       " Prediction(uid='ARY0OG03E8YHZ', iid='B002P8LZ68', r_ui=5.0, est=4.063374480564824, details={'was_impossible': True, 'reason': 'User and/or item is unknown.'}),\n",
       " Prediction(uid='AX7U6V0KIQMF8', iid='B003VAGXZC', r_ui=1.0, est=4.063374480564824, details={'was_impossible': True, 'reason': 'User and/or item is unknown.'}),\n",
       " Prediction(uid='AMITZ23DEXZUL', iid='B005OFFH5Y', r_ui=1.0, est=4.063374480564824, details={'was_impossible': True, 'reason': 'User and/or item is unknown.'}),\n",
       " Prediction(uid='A1SYWHNLBJZTAA', iid='B000NHWM0G', r_ui=4.0, est=4.415094339622642, details={'actual_k': 0, 'was_impossible': False}),\n",
       " Prediction(uid='ACLE5PQPFVIJU', iid='B0007RALGO', r_ui=2.0, est=4.063374480564824, details={'was_impossible': True, 'reason': 'User and/or item is unknown.'}),\n",
       " Prediction(uid='A14XKQLB03GN0V', iid='B005IGVY6K', r_ui=4.0, est=4.063374480564824, details={'was_impossible': True, 'reason': 'User and/or item is unknown.'}),\n",
       " Prediction(uid='A1BDXWRUBO7PWO', iid='B003P2UMQ2', r_ui=5.0, est=4.2730923694779115, details={'actual_k': 0, 'was_impossible': False}),\n",
       " Prediction(uid='AGB0D9N45EMM5', iid='B001BSQK8Q', r_ui=2.0, est=4.063374480564824, details={'was_impossible': True, 'reason': 'User and/or item is unknown.'}),\n",
       " Prediction(uid='A1D4I9A3D3M1CF', iid='B004I5BUSO', r_ui=5.0, est=4.660270919513316, details={'actual_k': 1, 'was_impossible': False}),\n",
       " Prediction(uid='A2CFX2MDAIV1MJ', iid='B00316263Y', r_ui=5.0, est=4.7309429700734045, details={'actual_k': 0, 'was_impossible': False}),\n",
       " Prediction(uid='A1645PPTCYJ4IB', iid='B0030LVHM6', r_ui=1.0, est=4.063374480564824, details={'was_impossible': True, 'reason': 'User and/or item is unknown.'}),\n",
       " Prediction(uid='A3FC9JXTCITVFC', iid='B00GO1UV4E', r_ui=3.0, est=4.4411764705882355, details={'actual_k': 0, 'was_impossible': False}),\n",
       " Prediction(uid='AMOH1HAYN0SNC', iid='B00032BOLO', r_ui=5.0, est=4.063374480564824, details={'was_impossible': True, 'reason': 'User and/or item is unknown.'}),\n",
       " Prediction(uid='A3TPK9WDRR4E3J', iid='B003UE52ME', r_ui=4.0, est=4.063374480564824, details={'was_impossible': True, 'reason': 'User and/or item is unknown.'}),\n",
       " Prediction(uid='A2IDLA79NWQ3ZX', iid='B001SJVU24', r_ui=5.0, est=3.9618320610687023, details={'actual_k': 0, 'was_impossible': False}),\n",
       " Prediction(uid='A27L6BVPJER68A', iid='B000068ILF', r_ui=5.0, est=4.683673469387755, details={'actual_k': 0, 'was_impossible': False}),\n",
       " Prediction(uid='AFJPOB8GVMH03', iid='B0041Q38NU', r_ui=5.0, est=4.405922823810949, details={'actual_k': 0, 'was_impossible': False}),\n",
       " Prediction(uid='AO1GHEBI7LDWG', iid='B001UI4RTG', r_ui=5.0, est=4.063374480564824, details={'was_impossible': True, 'reason': 'User and/or item is unknown.'}),\n",
       " Prediction(uid='A27S7VTIBE3ILO', iid='B008R7EVE4', r_ui=4.0, est=5, details={'actual_k': 1, 'was_impossible': False}),\n",
       " Prediction(uid='A1SQ069RX8LNAP', iid='B0041OSQB6', r_ui=4.0, est=3.669642857142857, details={'actual_k': 0, 'was_impossible': False}),\n",
       " Prediction(uid='A2LB6Z1CQE97FW', iid='B0042I7AUE', r_ui=4.0, est=4.063374480564824, details={'was_impossible': True, 'reason': 'User and/or item is unknown.'}),\n",
       " Prediction(uid='A3D76O4K4BNGZ8', iid='B000652M6Y', r_ui=5.0, est=4.063374480564824, details={'was_impossible': True, 'reason': 'User and/or item is unknown.'}),\n",
       " Prediction(uid='AOBP58LPNIIDT', iid='B0055D66V4', r_ui=5.0, est=4.063374480564824, details={'was_impossible': True, 'reason': 'User and/or item is unknown.'}),\n",
       " Prediction(uid='A1D64L6FJ09TXP', iid='B002HHLOWC', r_ui=4.0, est=3.930517711171662, details={'actual_k': 0, 'was_impossible': False}),\n",
       " Prediction(uid='A1LDBTF5YTNPX6', iid='B0062AMSP2', r_ui=5.0, est=4.063374480564824, details={'was_impossible': True, 'reason': 'User and/or item is unknown.'}),\n",
       " Prediction(uid='A2OWZ052510R4K', iid='B000QS4FMA', r_ui=2.0, est=3.525252525252525, details={'actual_k': 0, 'was_impossible': False}),\n",
       " Prediction(uid='A2Q3GM3B3JEL0X', iid='B000DINCIQ', r_ui=5.0, est=4.063374480564824, details={'was_impossible': True, 'reason': 'User and/or item is unknown.'}),\n",
       " Prediction(uid='AZEP1T0UOTHNR', iid='B002L6GCP8', r_ui=1.0, est=4.063374480564824, details={'was_impossible': True, 'reason': 'User and/or item is unknown.'}),\n",
       " Prediction(uid='A21RIHQNKRI4DP', iid='B003QA5LA0', r_ui=5.0, est=3.0, details={'actual_k': 0, 'was_impossible': False}),\n",
       " Prediction(uid='AVATUU7ZC1U8A', iid='B006LEYQK4', r_ui=5.0, est=4.063374480564824, details={'was_impossible': True, 'reason': 'User and/or item is unknown.'}),\n",
       " Prediction(uid='AM58ZMD6N093G', iid='B000MWK7K4', r_ui=4.0, est=3.5304347826086957, details={'actual_k': 0, 'was_impossible': False}),\n",
       " Prediction(uid='AG0H1L11Y4MNA', iid='B00B3329WA', r_ui=1.0, est=4.063374480564824, details={'was_impossible': True, 'reason': 'User and/or item is unknown.'}),\n",
       " Prediction(uid='A36K7P2S41FSHE', iid='B006R2N8VS', r_ui=5.0, est=4.0907504363001745, details={'actual_k': 0, 'was_impossible': False}),\n",
       " Prediction(uid='A1XG201VAWQQKM', iid='B005CPGHAA', r_ui=5.0, est=4.063374480564824, details={'was_impossible': True, 'reason': 'User and/or item is unknown.'}),\n",
       " Prediction(uid='A1KB1GVABVUQ5Y', iid='B00CXMFP30', r_ui=5.0, est=4.442857142857143, details={'actual_k': 0, 'was_impossible': False}),\n",
       " Prediction(uid='A38E2XH392IATN', iid='B005LFYCM6', r_ui=5.0, est=4.063374480564824, details={'was_impossible': True, 'reason': 'User and/or item is unknown.'}),\n",
       " Prediction(uid='A3APIIBGE1D3MS', iid='B00902SFC4', r_ui=5.0, est=4.063374480564824, details={'was_impossible': True, 'reason': 'User and/or item is unknown.'}),\n",
       " Prediction(uid='AO6KYXHXWTN0A', iid='B000XHS4SK', r_ui=5.0, est=3.5789473684210527, details={'actual_k': 0, 'was_impossible': False}),\n",
       " Prediction(uid='A2RIXSMGE9VIBG', iid='B005L38VPC', r_ui=4.0, est=4.278787878787878, details={'actual_k': 0, 'was_impossible': False}),\n",
       " Prediction(uid='AWG5SF43WX1XL', iid='B003LLEG00', r_ui=1.0, est=4.063374480564824, details={'was_impossible': True, 'reason': 'User and/or item is unknown.'}),\n",
       " Prediction(uid='A177LOLNF62R9T', iid='B00BVGF6JC', r_ui=4.0, est=3.558892324237129, details={'actual_k': 1, 'was_impossible': False}),\n",
       " Prediction(uid='AH8FJTQA7F0ES', iid='B004PA2B6C', r_ui=1.0, est=4.063374480564824, details={'was_impossible': True, 'reason': 'User and/or item is unknown.'}),\n",
       " Prediction(uid='A2NFVPYPZMAQN4', iid='B0019RBJOE', r_ui=3.0, est=4.06855791962175, details={'actual_k': 0, 'was_impossible': False}),\n",
       " Prediction(uid='A3Q7A9UFZ9O0Z0', iid='B007MXGG5Q', r_ui=1.0, est=4.063374480564824, details={'was_impossible': True, 'reason': 'User and/or item is unknown.'}),\n",
       " Prediction(uid='A39L7IE0ZXJFR6', iid='B0032R6CPK', r_ui=5.0, est=3.266318537859008, details={'actual_k': 0, 'was_impossible': False}),\n",
       " Prediction(uid='A5899JIJRO9WT', iid='B004WONCQE', r_ui=5.0, est=4.063374480564824, details={'was_impossible': True, 'reason': 'User and/or item is unknown.'}),\n",
       " Prediction(uid='A1O3RRIJ6U0W05', iid='B009S2CWX4', r_ui=5.0, est=4.063374480564824, details={'was_impossible': True, 'reason': 'User and/or item is unknown.'}),\n",
       " Prediction(uid='A33VC18CPOW8YF', iid='B008HK3Y5S', r_ui=4.0, est=4.063374480564824, details={'was_impossible': True, 'reason': 'User and/or item is unknown.'}),\n",
       " Prediction(uid='A3LFZSOJQAI18S', iid='B0029U7PZM', r_ui=5.0, est=4.437037037037037, details={'actual_k': 0, 'was_impossible': False}),\n",
       " Prediction(uid='A2TL7NXVHEWPU8', iid='B009A6D01G', r_ui=4.0, est=4.063374480564824, details={'was_impossible': True, 'reason': 'User and/or item is unknown.'}),\n",
       " Prediction(uid='A3U7RN1I0EYN0D', iid='B001ELJO2E', r_ui=1.0, est=4.063374480564824, details={'was_impossible': True, 'reason': 'User and/or item is unknown.'}),\n",
       " Prediction(uid='A1CE07MG0UEQAJ', iid='B007MHFMMU', r_ui=5.0, est=3.236842105263158, details={'actual_k': 0, 'was_impossible': False}),\n",
       " Prediction(uid='A1YH4N1ILGHXC9', iid='B001413DF8', r_ui=5.0, est=4.640218878248974, details={'actual_k': 0, 'was_impossible': False}),\n",
       " Prediction(uid='AOMFV8BOEPR9Q', iid='B000PT18OS', r_ui=5.0, est=4.063374480564824, details={'was_impossible': True, 'reason': 'User and/or item is unknown.'}),\n",
       " Prediction(uid='A256HCO29MK9HD', iid='B00EN27SHY', r_ui=5.0, est=5, details={'actual_k': 1, 'was_impossible': False}),\n",
       " Prediction(uid='AQIA5GSVGL75I', iid='B005DKZTMG', r_ui=1.0, est=1.5708253836206731, details={'actual_k': 2, 'was_impossible': False}),\n",
       " Prediction(uid='A30MQ79YP86H0L', iid='B003N9PJDI', r_ui=5.0, est=4.13915857605178, details={'actual_k': 0, 'was_impossible': False}),\n",
       " Prediction(uid='A3B1MRVFCZU6RA', iid='B007WTAJTO', r_ui=5.0, est=5, details={'actual_k': 1, 'was_impossible': False}),\n",
       " Prediction(uid='A1T909MRTTF9Y', iid='B003VANOI6', r_ui=5.0, est=4.438842203548086, details={'actual_k': 0, 'was_impossible': False}),\n",
       " Prediction(uid='A24QFBCMLS5C3Y', iid='B00BCGRX9M', r_ui=4.0, est=4.41358024691358, details={'actual_k': 0, 'was_impossible': False}),\n",
       " Prediction(uid='A2F63SIKR1CFIY', iid='B008HYQ7ZI', r_ui=5.0, est=4.063374480564824, details={'was_impossible': True, 'reason': 'User and/or item is unknown.'}),\n",
       " Prediction(uid='A1CK6DNX5HHE4J', iid='B009SYZ8OC', r_ui=5.0, est=4.063374480564824, details={'was_impossible': True, 'reason': 'User and/or item is unknown.'}),\n",
       " Prediction(uid='ASW975OM0GIQY', iid='B006EWUOL8', r_ui=5.0, est=4.572093023255814, details={'actual_k': 0, 'was_impossible': False}),\n",
       " Prediction(uid='A1LNCVN827S3AR', iid='B000N4Z4JK', r_ui=5.0, est=4.063374480564824, details={'was_impossible': True, 'reason': 'User and/or item is unknown.'}),\n",
       " Prediction(uid='A26KJTTWO0FKUI', iid='B00AOAAMBS', r_ui=5.0, est=4.063374480564824, details={'was_impossible': True, 'reason': 'User and/or item is unknown.'}),\n",
       " Prediction(uid='A3ARDVTOKIHGAS', iid='B00BHHBV5I', r_ui=4.0, est=3.4827586206896552, details={'actual_k': 0, 'was_impossible': False}),\n",
       " Prediction(uid='A1NQ9J51TW5GP', iid='B007CJPAFC', r_ui=2.0, est=4.063374480564824, details={'was_impossible': True, 'reason': 'User and/or item is unknown.'}),\n",
       " Prediction(uid='A1S60PMQSW1MT9', iid='B00EO6X4XG', r_ui=5.0, est=4.063374480564824, details={'was_impossible': True, 'reason': 'User and/or item is unknown.'}),\n",
       " Prediction(uid='A1GTLBFO1FR7AK', iid='B003UE52ME', r_ui=1.0, est=4.063374480564824, details={'was_impossible': True, 'reason': 'User and/or item is unknown.'}),\n",
       " Prediction(uid='ALGZKFMTDD3DL', iid='B0002343AS', r_ui=5.0, est=4.0, details={'actual_k': 0, 'was_impossible': False}),\n",
       " Prediction(uid='AXZCAKY84NIGI', iid='B0012S4APK', r_ui=5.0, est=4.332313185411885, details={'actual_k': 0, 'was_impossible': False}),\n",
       " Prediction(uid='A2H8298OJZ06U6', iid='B006YLYYZ6', r_ui=4.0, est=4.438291139240507, details={'actual_k': 0, 'was_impossible': False}),\n",
       " Prediction(uid='A17569L35ZM38G', iid='B002771V48', r_ui=5.0, est=4.063374480564824, details={'was_impossible': True, 'reason': 'User and/or item is unknown.'}),\n",
       " Prediction(uid='A16NGM00GB6TEG', iid='B0041LYY6K', r_ui=1.0, est=3.6002805049088358, details={'actual_k': 0, 'was_impossible': False}),\n",
       " Prediction(uid='A1ZYFAO3FVVKP9', iid='B0019884K0', r_ui=4.0, est=4.5, details={'actual_k': 0, 'was_impossible': False}),\n",
       " Prediction(uid='A1205W15ZWCYJL', iid='B0031ESWP2', r_ui=5.0, est=4.063374480564824, details={'was_impossible': True, 'reason': 'User and/or item is unknown.'}),\n",
       " Prediction(uid='A1KB57XORQ9Z7B', iid='B0028IKXLS', r_ui=4.0, est=4.083333333333333, details={'actual_k': 0, 'was_impossible': False}),\n",
       " Prediction(uid='A189R3MZ77M6ME', iid='B005NF5NTK', r_ui=5.0, est=4.063374480564824, details={'was_impossible': True, 'reason': 'User and/or item is unknown.'}),\n",
       " Prediction(uid='APOA5YTJKBIU5', iid='B0009SCMKY', r_ui=5.0, est=4.063374480564824, details={'was_impossible': True, 'reason': 'User and/or item is unknown.'}),\n",
       " Prediction(uid='A61OIG3I0RDZ1', iid='B0000E658Q', r_ui=1.0, est=2.496, details={'actual_k': 0, 'was_impossible': False}),\n",
       " Prediction(uid='A1XSGNQ5Z48TQ9', iid='B002RM08RE', r_ui=5.0, est=4.063374480564824, details={'was_impossible': True, 'reason': 'User and/or item is unknown.'}),\n",
       " Prediction(uid='A49ITRCJIYSHM', iid='B004RKQMCY', r_ui=5.0, est=4.063374480564824, details={'was_impossible': True, 'reason': 'User and/or item is unknown.'}),\n",
       " Prediction(uid='A1QBEQ7S30JUUC', iid='B000QAUGO4', r_ui=5.0, est=4.487804878048781, details={'actual_k': 0, 'was_impossible': False}),\n",
       " Prediction(uid='A26S0R5B6D0BP9', iid='B0027VT6V4', r_ui=5.0, est=3.1173870248425417, details={'actual_k': 2, 'was_impossible': False}),\n",
       " Prediction(uid='ADQ395IMTHZ3S', iid='B00AXZWG8Q', r_ui=5.0, est=4.241433021806854, details={'actual_k': 0, 'was_impossible': False}),\n",
       " Prediction(uid='A2RCM9PN1V5YHW', iid='B002MYQTEI', r_ui=1.0, est=4.063374480564824, details={'was_impossible': True, 'reason': 'User and/or item is unknown.'}),\n",
       " Prediction(uid='A2HAMRIENKRFP9', iid='B004N6259G', r_ui=2.0, est=4.063374480564824, details={'was_impossible': True, 'reason': 'User and/or item is unknown.'}),\n",
       " Prediction(uid='A56OQ4S58T3W8', iid='B009RNU9W0', r_ui=5.0, est=4.063374480564824, details={'was_impossible': True, 'reason': 'User and/or item is unknown.'}),\n",
       " Prediction(uid='A186A9VLUVH0NG', iid='B006YLYYZ6', r_ui=4.0, est=4.438291139240507, details={'actual_k': 0, 'was_impossible': False}),\n",
       " Prediction(uid='A31CPSGEV6RTVK', iid='B00EB7UIO6', r_ui=4.0, est=4.2976190476190474, details={'actual_k': 0, 'was_impossible': False}),\n",
       " Prediction(uid='A2STYNTQ4NQTJ3', iid='B008V0H284', r_ui=3.0, est=3.652173913043478, details={'actual_k': 0, 'was_impossible': False}),\n",
       " Prediction(uid='A33SZPQX1I2EZ3', iid='B003QAB4Y2', r_ui=5.0, est=2.8933333333333335, details={'actual_k': 0, 'was_impossible': False}),\n",
       " Prediction(uid='ADCNTU82GI5U6', iid='B000BTL0OA', r_ui=5.0, est=4.063374480564824, details={'was_impossible': True, 'reason': 'User and/or item is unknown.'}),\n",
       " Prediction(uid='A239ZYF57H3DCX', iid='B00GTGETFG', r_ui=5.0, est=4.673633440514469, details={'actual_k': 0, 'was_impossible': False}),\n",
       " Prediction(uid='A1W8DGTJKDR545', iid='B001UFYFYG', r_ui=4.0, est=2.9930660532369364, details={'actual_k': 1, 'was_impossible': False}),\n",
       " Prediction(uid='A1E6EP3O5S6DET', iid='B0098F5W0Q', r_ui=1.0, est=4.267352185089974, details={'actual_k': 0, 'was_impossible': False}),\n",
       " Prediction(uid='A2UWT9BWQDV6EP', iid='B002MXWKAG', r_ui=4.0, est=4.063374480564824, details={'was_impossible': True, 'reason': 'User and/or item is unknown.'}),\n",
       " Prediction(uid='A74FLNFU7IBST', iid='B0019M7WCW', r_ui=5.0, est=4.063374480564824, details={'was_impossible': True, 'reason': 'User and/or item is unknown.'}),\n",
       " Prediction(uid='A2LLRDGZECLRVV', iid='B004O4G3RC', r_ui=5.0, est=4.063374480564824, details={'was_impossible': True, 'reason': 'User and/or item is unknown.'}),\n",
       " Prediction(uid='A106AIEAMLOVK3', iid='B000B5XU06', r_ui=5.0, est=4.063374480564824, details={'was_impossible': True, 'reason': 'User and/or item is unknown.'}),\n",
       " Prediction(uid='A2B9T4SXBYKWCW', iid='B008RM235I', r_ui=5.0, est=4.303571428571429, details={'actual_k': 0, 'was_impossible': False}),\n",
       " Prediction(uid='A3V820MM5QY1WB', iid='B000WW1YVU', r_ui=4.0, est=4.063374480564824, details={'was_impossible': True, 'reason': 'User and/or item is unknown.'}),\n",
       " Prediction(uid='A2DY50SAILLRIM', iid='B000067SGI', r_ui=4.0, est=4.063374480564824, details={'was_impossible': True, 'reason': 'User and/or item is unknown.'}),\n",
       " Prediction(uid='A2AY4YUOX2N1BQ', iid='B00DK2JQOQ', r_ui=5.0, est=5, details={'actual_k': 2, 'was_impossible': False}),\n",
       " Prediction(uid='AWF921B92QTB7', iid='B005T3GPXO', r_ui=5.0, est=4.063374480564824, details={'was_impossible': True, 'reason': 'User and/or item is unknown.'}),\n",
       " Prediction(uid='A1G5JGT5QE66NB', iid='B007T8S490', r_ui=5.0, est=4.063374480564824, details={'was_impossible': True, 'reason': 'User and/or item is unknown.'}),\n",
       " Prediction(uid='A1XGKE9C2AT8A7', iid='B000CSWCQA', r_ui=5.0, est=4.063374480564824, details={'was_impossible': True, 'reason': 'User and/or item is unknown.'}),\n",
       " Prediction(uid='AG0ILRBNIHOCK', iid='B001SER456', r_ui=5.0, est=4.063374480564824, details={'was_impossible': True, 'reason': 'User and/or item is unknown.'}),\n",
       " Prediction(uid='A3O3W7424UNY6T', iid='B0041Q38NU', r_ui=5.0, est=4.063374480564824, details={'was_impossible': True, 'reason': 'User and/or item is unknown.'}),\n",
       " Prediction(uid='A2Y8O6HF0DKC1', iid='B00428N9OK', r_ui=5.0, est=3.4228395061728394, details={'actual_k': 0, 'was_impossible': False}),\n",
       " Prediction(uid='AKYCL3RK6E2NI', iid='B0055D66V4', r_ui=5.0, est=3.858343337334934, details={'actual_k': 0, 'was_impossible': False}),\n",
       " Prediction(uid='A1G7XBS1MB4Z22', iid='B000Y7T5UU', r_ui=1.0, est=4.063374480564824, details={'was_impossible': True, 'reason': 'User and/or item is unknown.'}),\n",
       " Prediction(uid='A4F5EXG9A3P78', iid='B0030DL37I', r_ui=4.0, est=4.173076923076923, details={'actual_k': 0, 'was_impossible': False}),\n",
       " Prediction(uid='A398JAXMX4PQMG', iid='B000VVVMQY', r_ui=3.0, est=4.063374480564824, details={'was_impossible': True, 'reason': 'User and/or item is unknown.'}),\n",
       " Prediction(uid='A3TAI8XI9OFLJS', iid='B000MW7B0I', r_ui=5.0, est=4.237288135593221, details={'actual_k': 0, 'was_impossible': False}),\n",
       " Prediction(uid='A9U6EJ7S672SC', iid='B002JQNXZC', r_ui=5.0, est=4.23021582733813, details={'actual_k': 0, 'was_impossible': False}),\n",
       " Prediction(uid='A20T3V6PJJEI7G', iid='B0038JED80', r_ui=5.0, est=4.583333333333333, details={'actual_k': 0, 'was_impossible': False}),\n",
       " Prediction(uid='A3RV0ZGQO7ZZW', iid='B005FMM3Y4', r_ui=5.0, est=4.063374480564824, details={'was_impossible': True, 'reason': 'User and/or item is unknown.'}),\n",
       " Prediction(uid='A16NRR8BLG02QW', iid='B00FWQ7M2G', r_ui=4.0, est=4.063374480564824, details={'was_impossible': True, 'reason': 'User and/or item is unknown.'}),\n",
       " Prediction(uid='A2BYYAC37POD57', iid='B006TT91TW', r_ui=4.0, est=3.876834672846506, details={'actual_k': 1, 'was_impossible': False}),\n",
       " Prediction(uid='A2VR1SSOZG743G', iid='B000VJG356', r_ui=1.0, est=4.063374480564824, details={'was_impossible': True, 'reason': 'User and/or item is unknown.'}),\n",
       " Prediction(uid='A3M236KVY5AGMP', iid='B0002VAQR4', r_ui=5.0, est=4.721153846153846, details={'actual_k': 0, 'was_impossible': False}),\n",
       " Prediction(uid='A23OEXX9JTOJZY', iid='B00CXADBRY', r_ui=4.0, est=3.7269076305220885, details={'actual_k': 0, 'was_impossible': False}),\n",
       " Prediction(uid='A1TVORPVICYGPX', iid='B0075SUIOS', r_ui=5.0, est=4.063374480564824, details={'was_impossible': True, 'reason': 'User and/or item is unknown.'}),\n",
       " Prediction(uid='A3JKMT3CBFONZG', iid='B0007ZFLYI', r_ui=4.0, est=4.063374480564824, details={'was_impossible': True, 'reason': 'User and/or item is unknown.'}),\n",
       " Prediction(uid='A14Z7GH8GPX24R', iid='B005B28DOM', r_ui=2.0, est=3.6030013642564804, details={'actual_k': 0, 'was_impossible': False}),\n",
       " Prediction(uid='A18YAG7VW54X25', iid='B005DP8YJG', r_ui=4.0, est=4.063374480564824, details={'was_impossible': True, 'reason': 'User and/or item is unknown.'}),\n",
       " Prediction(uid='A1SFO7I0EB8QU8', iid='B0002CPBWI', r_ui=3.0, est=4.08964316797215, details={'actual_k': 0, 'was_impossible': False}),\n",
       " Prediction(uid='A27XHDVC8GYCTF', iid='B001L6LG5K', r_ui=3.0, est=4.078328981723238, details={'actual_k': 0, 'was_impossible': False}),\n",
       " Prediction(uid='A68Z1HMPZTDMD', iid='B000OX1WD2', r_ui=5.0, est=4.576271186440678, details={'actual_k': 0, 'was_impossible': False}),\n",
       " Prediction(uid='A3JY33OR3PCE8Z', iid='B009PK9SB8', r_ui=5.0, est=4.522292993630574, details={'actual_k': 0, 'was_impossible': False}),\n",
       " Prediction(uid='A1JIGL0PAQY9ZF', iid='B001ZUZ10I', r_ui=5.0, est=4.063374480564824, details={'was_impossible': True, 'reason': 'User and/or item is unknown.'}),\n",
       " Prediction(uid='ANGTN3EQ44DXZ', iid='B001SER46K', r_ui=1.0, est=4.063374480564824, details={'was_impossible': True, 'reason': 'User and/or item is unknown.'}),\n",
       " Prediction(uid='AOG2SF1WJPSCO', iid='B008C8LWYA', r_ui=5.0, est=4.063374480564824, details={'was_impossible': True, 'reason': 'User and/or item is unknown.'}),\n",
       " Prediction(uid='A37RTWIBEWF5F6', iid='B000Y7T5UU', r_ui=2.0, est=1.9702380952380953, details={'actual_k': 0, 'was_impossible': False}),\n",
       " Prediction(uid='A72FUAJQNPYRD', iid='B006VCP72W', r_ui=5.0, est=4.063374480564824, details={'was_impossible': True, 'reason': 'User and/or item is unknown.'}),\n",
       " Prediction(uid='A1ECHQTM1MTSE0', iid='B0014F9U6U', r_ui=1.0, est=3.1659574468085108, details={'actual_k': 0, 'was_impossible': False}),\n",
       " Prediction(uid='A30ABQO7I3FI6', iid='B0019EHU8G', r_ui=4.0, est=5, details={'actual_k': 1, 'was_impossible': False}),\n",
       " Prediction(uid='AJKKAU6WM9XCA', iid='B002SOZ5RY', r_ui=5.0, est=4.063374480564824, details={'was_impossible': True, 'reason': 'User and/or item is unknown.'}),\n",
       " Prediction(uid='A3QV94ORDAGQVS', iid='B0097BEDOC', r_ui=3.0, est=4.081924577373212, details={'actual_k': 0, 'was_impossible': False}),\n",
       " Prediction(uid='A13S866Q1RCJ25', iid='B000EH6GKM', r_ui=2.0, est=4.063374480564824, details={'was_impossible': True, 'reason': 'User and/or item is unknown.'}),\n",
       " Prediction(uid='AZL64EB9PBXJF', iid='B002WUVAVE', r_ui=5.0, est=3.523219814241486, details={'actual_k': 0, 'was_impossible': False}),\n",
       " Prediction(uid='A379H556LACT9C', iid='B008OHNZI0', r_ui=4.0, est=4.063374480564824, details={'was_impossible': True, 'reason': 'User and/or item is unknown.'}),\n",
       " Prediction(uid='A3PSCBLP3KA1V3', iid='B001UI2FPE', r_ui=4.0, est=4.063374480564824, details={'was_impossible': True, 'reason': 'User and/or item is unknown.'}),\n",
       " Prediction(uid='A39Y89KWBUZDAX', iid='B0070YJ7Z8', r_ui=3.0, est=4.063374480564824, details={'was_impossible': True, 'reason': 'User and/or item is unknown.'}),\n",
       " Prediction(uid='A70G3CJS3C4TS', iid='B006B1CF1O', r_ui=5.0, est=4.063374480564824, details={'was_impossible': True, 'reason': 'User and/or item is unknown.'}),\n",
       " Prediction(uid='APRGEWSO0H82G', iid='B006BCKDGW', r_ui=4.0, est=4.653061224489796, details={'actual_k': 0, 'was_impossible': False}),\n",
       " Prediction(uid='A38AL7LA75TXHS', iid='B001CGHH98', r_ui=4.0, est=4.063374480564824, details={'was_impossible': True, 'reason': 'User and/or item is unknown.'}),\n",
       " Prediction(uid='A2J4QHBJAHFN31', iid='B00575RN62', r_ui=5.0, est=4.1931330472103, details={'actual_k': 0, 'was_impossible': False}),\n",
       " Prediction(uid='A1O3VS7ASC3FKU', iid='B005FYNSPK', r_ui=5.0, est=4.461828463713478, details={'actual_k': 0, 'was_impossible': False}),\n",
       " Prediction(uid='AGY9G2XQ0A8DE', iid='B003M8HWDA', r_ui=5.0, est=4.063374480564824, details={'was_impossible': True, 'reason': 'User and/or item is unknown.'}),\n",
       " Prediction(uid='A2HAVQSKXK1Z50', iid='B0002XQDSS', r_ui=5.0, est=4.06145251396648, details={'actual_k': 0, 'was_impossible': False}),\n",
       " Prediction(uid='A1QLWBRICFUQBS', iid='B000P3X7OI', r_ui=5.0, est=4.230769230769231, details={'actual_k': 0, 'was_impossible': False}),\n",
       " Prediction(uid='A1PVQM7U9HUDZ0', iid='B008AF383S', r_ui=5.0, est=4.085171323771749, details={'actual_k': 1, 'was_impossible': False}),\n",
       " Prediction(uid='A2CNWKP7QVHCW5', iid='B000ONDRDU', r_ui=3.0, est=4.063374480564824, details={'was_impossible': True, 'reason': 'User and/or item is unknown.'}),\n",
       " Prediction(uid='A2IZMW0AQTZ56L', iid='B002MZZWT0', r_ui=4.0, est=3.493333333333333, details={'actual_k': 0, 'was_impossible': False}),\n",
       " Prediction(uid='AQIVZ4BMRR2JV', iid='B0074BW614', r_ui=3.0, est=4.49546520719312, details={'actual_k': 0, 'was_impossible': False}),\n",
       " Prediction(uid='AM1WSK1XGB1A6', iid='B001I3X3HU', r_ui=5.0, est=5, details={'actual_k': 1, 'was_impossible': False}),\n",
       " Prediction(uid='A2UD0V1WL1U708', iid='B001ASDHI8', r_ui=4.0, est=4.061538461538461, details={'actual_k': 0, 'was_impossible': False}),\n",
       " Prediction(uid='A5YVVGBCYBOT3', iid='B0050051QI', r_ui=5.0, est=3.9407407407407407, details={'actual_k': 0, 'was_impossible': False}),\n",
       " Prediction(uid='A1H5WDTJS8XETV', iid='B000I2WF6W', r_ui=1.0, est=3.0416666666666665, details={'actual_k': 0, 'was_impossible': False}),\n",
       " Prediction(uid='A1LK4BS5PRTOOQ', iid='B0032GTLH2', r_ui=5.0, est=4.063374480564824, details={'was_impossible': True, 'reason': 'User and/or item is unknown.'}),\n",
       " Prediction(uid='AVBTJMNKMKON7', iid='B003ZX8B2S', r_ui=5.0, est=4.063374480564824, details={'was_impossible': True, 'reason': 'User and/or item is unknown.'}),\n",
       " Prediction(uid='A9ZMWKI016U78', iid='B001DMEYCY', r_ui=2.0, est=3.6913183279742765, details={'actual_k': 0, 'was_impossible': False}),\n",
       " Prediction(uid='A1N792O7IMNLZQ', iid='B001N82KOC', r_ui=5.0, est=4.72972972972973, details={'actual_k': 0, 'was_impossible': False}),\n",
       " Prediction(uid='A13J7TEX59PWV0', iid='B004Y1AYAC', r_ui=5.0, est=4.063374480564824, details={'was_impossible': True, 'reason': 'User and/or item is unknown.'}),\n",
       " Prediction(uid='A2I3TA1QFI1SP4', iid='B006ZBWV0K', r_ui=5.0, est=4.063374480564824, details={'was_impossible': True, 'reason': 'User and/or item is unknown.'}),\n",
       " Prediction(uid='A3VSSIKPRA3LXT', iid='B005TN0MMY', r_ui=5.0, est=4.460850111856823, details={'actual_k': 0, 'was_impossible': False}),\n",
       " Prediction(uid='A29SUCM2FD90R9', iid='B002SZEOLG', r_ui=5.0, est=4.138197899391929, details={'actual_k': 0, 'was_impossible': False}),\n",
       " Prediction(uid='A1110CVIZ6X4MD', iid='B006HX676K', r_ui=3.0, est=4.142394822006472, details={'actual_k': 0, 'was_impossible': False}),\n",
       " Prediction(uid='A10D0EUCINREO7', iid='B00006F2MW', r_ui=4.0, est=4.063374480564824, details={'was_impossible': True, 'reason': 'User and/or item is unknown.'}),\n",
       " Prediction(uid='A3DTTWO2WHWX1L', iid='B000HCUTU2', r_ui=5.0, est=4.036697247706422, details={'actual_k': 0, 'was_impossible': False}),\n",
       " Prediction(uid='AI9KNFGJHKF69', iid='B00B89BN7G', r_ui=5.0, est=4.063374480564824, details={'was_impossible': True, 'reason': 'User and/or item is unknown.'}),\n",
       " Prediction(uid='AC1RR3NXAYU06', iid='B00ACVI202', r_ui=2.0, est=4.045584045584046, details={'actual_k': 0, 'was_impossible': False}),\n",
       " Prediction(uid='A39XMXZBKNZ0AO', iid='B00651CLCS', r_ui=5.0, est=4.011049723756906, details={'actual_k': 0, 'was_impossible': False}),\n",
       " Prediction(uid='AJS5YLMW1S3FQ', iid='B003NSBF32', r_ui=1.0, est=4.161417322834645, details={'actual_k': 0, 'was_impossible': False}),\n",
       " Prediction(uid='A2R45RQ8TKPMJU', iid='B003WGJYCY', r_ui=5.0, est=4.063374480564824, details={'was_impossible': True, 'reason': 'User and/or item is unknown.'}),\n",
       " Prediction(uid='A355JH1IPVZPJ', iid='B003DZ165W', r_ui=5.0, est=4.063374480564824, details={'was_impossible': True, 'reason': 'User and/or item is unknown.'}),\n",
       " Prediction(uid='AWA9OEI2GPT1C', iid='B000HGKF34', r_ui=4.0, est=4.063374480564824, details={'was_impossible': True, 'reason': 'User and/or item is unknown.'}),\n",
       " Prediction(uid='A3FIIHT9LGM08M', iid='B002VPE1Q6', r_ui=5.0, est=4.063374480564824, details={'was_impossible': True, 'reason': 'User and/or item is unknown.'}),\n",
       " Prediction(uid='A374JU4FZQZOE0', iid='B003VAHYNC', r_ui=5.0, est=4.242224316682375, details={'actual_k': 0, 'was_impossible': False}),\n",
       " Prediction(uid='A2NNZA0915GYUO', iid='B007PA1K84', r_ui=5.0, est=4.636757693974859, details={'actual_k': 0, 'was_impossible': False}),\n",
       " Prediction(uid='A2AJT38X9NQVPD', iid='B006MO0IYQ', r_ui=5.0, est=3.8392857142857144, details={'actual_k': 0, 'was_impossible': False}),\n",
       " Prediction(uid='A2N7FUX37IV2IP', iid='B0043WJRRS', r_ui=5.0, est=4.875070028011205, details={'actual_k': 0, 'was_impossible': False}),\n",
       " Prediction(uid='A2C69HQN0KGZ1E', iid='B008ZGKWQI', r_ui=5.0, est=4.253731343283582, details={'actual_k': 0, 'was_impossible': False}),\n",
       " Prediction(uid='ADHAULZE0Y2RT', iid='B004KNRYW0', r_ui=4.0, est=4.063374480564824, details={'was_impossible': True, 'reason': 'User and/or item is unknown.'}),\n",
       " Prediction(uid='A16PMKNN0RI2', iid='B0015M4G5C', r_ui=5.0, est=4.0, details={'actual_k': 0, 'was_impossible': False}),\n",
       " Prediction(uid='AVVK3WYO1TRZO', iid='B004DBIKOK', r_ui=5.0, est=4.5781157465473905, details={'actual_k': 2, 'was_impossible': False}),\n",
       " Prediction(uid='A1OE74RBXFPTFU', iid='B004J4VYEY', r_ui=3.0, est=4.063374480564824, details={'was_impossible': True, 'reason': 'User and/or item is unknown.'}),\n",
       " Prediction(uid='A3FIQGQ1VT1YKI', iid='B00A3YDT5Q', r_ui=5.0, est=4.063374480564824, details={'was_impossible': True, 'reason': 'User and/or item is unknown.'}),\n",
       " Prediction(uid='A2N9Y76VSB9P7H', iid='B000TEVQVO', r_ui=5.0, est=4.063374480564824, details={'was_impossible': True, 'reason': 'User and/or item is unknown.'}),\n",
       " Prediction(uid='A3BI2ZVSEAL5UB', iid='B001IBHUU8', r_ui=1.0, est=4.063374480564824, details={'was_impossible': True, 'reason': 'User and/or item is unknown.'}),\n",
       " Prediction(uid='AU29B9MZCAJ7', iid='B008NMCPTQ', r_ui=5.0, est=4.063374480564824, details={'was_impossible': True, 'reason': 'User and/or item is unknown.'}),\n",
       " Prediction(uid='A2JMN82NSSGFNI', iid='B001RB1XVQ', r_ui=5.0, est=3.8641975308641974, details={'actual_k': 0, 'was_impossible': False}),\n",
       " Prediction(uid='A2TTAOPA03TO26', iid='B005HIWD32', r_ui=5.0, est=4.395833333333333, details={'actual_k': 0, 'was_impossible': False}),\n",
       " Prediction(uid='A3OUZG982W1B7H', iid='B000WHSFYY', r_ui=5.0, est=4.063374480564824, details={'was_impossible': True, 'reason': 'User and/or item is unknown.'}),\n",
       " Prediction(uid='A2MSEZR80BP49C', iid='B005Z452LS', r_ui=3.0, est=4.063374480564824, details={'was_impossible': True, 'reason': 'User and/or item is unknown.'}),\n",
       " Prediction(uid='A1ELREQW3F8KW2', iid='B006GWO5WK', r_ui=5.0, est=4.063374480564824, details={'was_impossible': True, 'reason': 'User and/or item is unknown.'}),\n",
       " Prediction(uid='A1FFTMW3E9KKW9', iid='B004CGHDEO', r_ui=5.0, est=3.0417193426042983, details={'actual_k': 0, 'was_impossible': False}),\n",
       " Prediction(uid='AZ4B8TH9O5A8U', iid='B003VAGXZC', r_ui=5.0, est=4.1643582640812555, details={'actual_k': 0, 'was_impossible': False}),\n",
       " Prediction(uid='A1KAE1LOY4TBSV', iid='B000UHQVOW', r_ui=5.0, est=4.69249193194724, details={'actual_k': 1, 'was_impossible': False}),\n",
       " Prediction(uid='A37BALVBRHI9GM', iid='B002TLTG9E', r_ui=5.0, est=4.4, details={'actual_k': 0, 'was_impossible': False}),\n",
       " Prediction(uid='A1FDUXYA45MCYP', iid='B00DR0PDNE', r_ui=5.0, est=4.063374480564824, details={'was_impossible': True, 'reason': 'User and/or item is unknown.'}),\n",
       " Prediction(uid='A2T8TJYQ4Y15U3', iid='B009EE2EUW', r_ui=5.0, est=4.063374480564824, details={'was_impossible': True, 'reason': 'User and/or item is unknown.'}),\n",
       " Prediction(uid='A2QNGGNBIIU44S', iid='B000SMVQK8', r_ui=5.0, est=4.389513108614232, details={'actual_k': 0, 'was_impossible': False}),\n",
       " Prediction(uid='A1LGCVH9RDBY8L', iid='B0030MITDK', r_ui=4.0, est=3.644165863066538, details={'actual_k': 0, 'was_impossible': False}),\n",
       " Prediction(uid='A90WFHF1N8LP4', iid='B002L6HEAU', r_ui=5.0, est=3.969465648854962, details={'actual_k': 0, 'was_impossible': False}),\n",
       " Prediction(uid='A1QD3WC3D4BLXZ', iid='B0071BTJPI', r_ui=4.0, est=4.063374480564824, details={'was_impossible': True, 'reason': 'User and/or item is unknown.'}),\n",
       " Prediction(uid='A1UGC3J27B8ZO5', iid='B001J85BS8', r_ui=5.0, est=4.063374480564824, details={'was_impossible': True, 'reason': 'User and/or item is unknown.'}),\n",
       " Prediction(uid='AMWP4EVU1ILDX', iid='B00BQ4F9ZA', r_ui=5.0, est=4.637764932562621, details={'actual_k': 0, 'was_impossible': False}),\n",
       " Prediction(uid='A13IWTNSMYHOMU', iid='B0037NYQ7K', r_ui=5.0, est=4.063374480564824, details={'was_impossible': True, 'reason': 'User and/or item is unknown.'}),\n",
       " Prediction(uid='A1PLE52Y1HUEHH', iid='B000HPV3RW', r_ui=5.0, est=4.497524752475248, details={'actual_k': 0, 'was_impossible': False}),\n",
       " Prediction(uid='A2RF6YGMN08F1I', iid='B0097FM3PE', r_ui=5.0, est=4.371104815864022, details={'actual_k': 0, 'was_impossible': False}),\n",
       " Prediction(uid='A2SNXJJR88GUT5', iid='B004OVEVO2', r_ui=3.0, est=4.3603238866396765, details={'actual_k': 0, 'was_impossible': False}),\n",
       " Prediction(uid='A3GM0GOM1T8IWH', iid='B00622AG6S', r_ui=5.0, est=4.063374480564824, details={'was_impossible': True, 'reason': 'User and/or item is unknown.'}),\n",
       " Prediction(uid='A2DDIFJ4C4KWQD', iid='B006CZANTU', r_ui=5.0, est=4.3312101910828025, details={'actual_k': 0, 'was_impossible': False}),\n",
       " Prediction(uid='A1HB1AD9KWCCX2', iid='B0074BW614', r_ui=5.0, est=4.063374480564824, details={'was_impossible': True, 'reason': 'User and/or item is unknown.'}),\n",
       " Prediction(uid='A203G093F369V3', iid='B0055XKBW4', r_ui=5.0, est=4.063374480564824, details={'was_impossible': True, 'reason': 'User and/or item is unknown.'}),\n",
       " Prediction(uid='AFYLTAYKJH9ST', iid='B003H3L05Q', r_ui=1.0, est=4.063374480564824, details={'was_impossible': True, 'reason': 'User and/or item is unknown.'}),\n",
       " Prediction(uid='AHMSRH0RVQNVN', iid='B008GGH4FY', r_ui=2.0, est=4.1514774064984294, details={'actual_k': 4, 'was_impossible': False}),\n",
       " Prediction(uid='A1ZS67LXKVYH2H', iid='B005HSG3BA', r_ui=4.0, est=4.063374480564824, details={'was_impossible': True, 'reason': 'User and/or item is unknown.'}),\n",
       " Prediction(uid='A1JG2X96B8VVM7', iid='B00BGA9WK2', r_ui=5.0, est=2.6838766478729763, details={'actual_k': 1, 'was_impossible': False}),\n",
       " Prediction(uid='A04610971444VI4JQFYID', iid='B007ZH9OFI', r_ui=5.0, est=4.126984126984127, details={'actual_k': 0, 'was_impossible': False}),\n",
       " Prediction(uid='A2V0DP4Y0ZWEY8', iid='B0016OEV7C', r_ui=5.0, est=4.727491664276326, details={'actual_k': 1, 'was_impossible': False}),\n",
       " Prediction(uid='AVN6CNY4DLBXL', iid='B0038W0K2K', r_ui=2.0, est=4.063374480564824, details={'was_impossible': True, 'reason': 'User and/or item is unknown.'}),\n",
       " Prediction(uid='A3W1XUBJJC6Z0U', iid='B005JT8OT6', r_ui=5.0, est=4.063374480564824, details={'was_impossible': True, 'reason': 'User and/or item is unknown.'}),\n",
       " Prediction(uid='A2SRBELQZLWUA8', iid='B00FTROUXM', r_ui=5.0, est=4.063374480564824, details={'was_impossible': True, 'reason': 'User and/or item is unknown.'}),\n",
       " Prediction(uid='A39IDAUEE4VEFZ', iid='B0090EARTG', r_ui=4.0, est=4.3023255813953485, details={'actual_k': 0, 'was_impossible': False}),\n",
       " Prediction(uid='A140392E7666DT', iid='B00A439ISI', r_ui=4.0, est=4.063374480564824, details={'was_impossible': True, 'reason': 'User and/or item is unknown.'}),\n",
       " Prediction(uid='ALG4MEORXOLTU', iid='B0012S4APK', r_ui=5.0, est=4.063374480564824, details={'was_impossible': True, 'reason': 'User and/or item is unknown.'}),\n",
       " Prediction(uid='A31Z34UH19N2MK', iid='B005C31HC0', r_ui=1.0, est=4.039365452408931, details={'actual_k': 0, 'was_impossible': False}),\n",
       " Prediction(uid='A1HYSGP6UZE67W', iid='B00AM4DKYC', r_ui=1.0, est=4.063374480564824, details={'was_impossible': True, 'reason': 'User and/or item is unknown.'}),\n",
       " Prediction(uid='A3S13Z4KCKWL6Z', iid='B002Y6CJJ8', r_ui=5.0, est=4.616879511382566, details={'actual_k': 0, 'was_impossible': False}),\n",
       " Prediction(uid='A2VVFWWJ0JN1ED', iid='B0090BSSZO', r_ui=5.0, est=4.896367521367521, details={'actual_k': 1, 'was_impossible': False}),\n",
       " Prediction(uid='A257I4ALK6UW2I', iid='B00DR0PDNE', r_ui=5.0, est=4.691562277464198, details={'actual_k': 1, 'was_impossible': False}),\n",
       " Prediction(uid='AVYP1V4LQ430J', iid='B000G35S08', r_ui=2.0, est=3.681318681318681, details={'actual_k': 0, 'was_impossible': False}),\n",
       " Prediction(uid='A2YRN06TESOIJM', iid='B0014Z5XMK', r_ui=5.0, est=4.063374480564824, details={'was_impossible': True, 'reason': 'User and/or item is unknown.'}),\n",
       " Prediction(uid='AONF04U588AWZ', iid='B001TOD3KU', r_ui=3.0, est=4.063374480564824, details={'was_impossible': True, 'reason': 'User and/or item is unknown.'}),\n",
       " Prediction(uid='A1SU32NDE7UVVX', iid='B001DJ64CA', r_ui=2.0, est=4.2926829268292686, details={'actual_k': 0, 'was_impossible': False}),\n",
       " Prediction(uid='A117GLG5WWC2WF', iid='B0087NZ31S', r_ui=5.0, est=4.580330077467161, details={'actual_k': 0, 'was_impossible': False}),\n",
       " Prediction(uid='A3061402M0UB6K', iid='B004UDP4YK', r_ui=5.0, est=4.063374480564824, details={'was_impossible': True, 'reason': 'User and/or item is unknown.'}),\n",
       " Prediction(uid='A3N424DMIJVYAK', iid='B000UV8CTU', r_ui=1.0, est=4.063374480564824, details={'was_impossible': True, 'reason': 'User and/or item is unknown.'}),\n",
       " Prediction(uid='ASQ20WQQTXGOF', iid='B002PONXAI', r_ui=5.0, est=4.063374480564824, details={'was_impossible': True, 'reason': 'User and/or item is unknown.'}),\n",
       " Prediction(uid='A2P3FIUEMHICKN', iid='B000203PBY', r_ui=5.0, est=4.063374480564824, details={'was_impossible': True, 'reason': 'User and/or item is unknown.'}),\n",
       " Prediction(uid='A27GZ92KLXDJVJ', iid='B0007SM8OQ', r_ui=5.0, est=2.75, details={'actual_k': 0, 'was_impossible': False}),\n",
       " Prediction(uid='A1BY1TGMVBLN3S', iid='B000LRMS66', r_ui=5.0, est=4.063374480564824, details={'was_impossible': True, 'reason': 'User and/or item is unknown.'}),\n",
       " Prediction(uid='A384RLKPFCCEH3', iid='B005OFFH5Y', r_ui=5.0, est=5, details={'actual_k': 1, 'was_impossible': False}),\n",
       " Prediction(uid='A2YPRO5YYKOXIJ', iid='B003D5MY5I', r_ui=4.0, est=4.063374480564824, details={'was_impossible': True, 'reason': 'User and/or item is unknown.'}),\n",
       " Prediction(uid='A3054W56Z7UD6N', iid='B00426C56U', r_ui=5.0, est=4.063374480564824, details={'was_impossible': True, 'reason': 'User and/or item is unknown.'}),\n",
       " Prediction(uid='A1H6I01L90RMMC', iid='B00AGABISW', r_ui=5.0, est=4.063374480564824, details={'was_impossible': True, 'reason': 'User and/or item is unknown.'}),\n",
       " Prediction(uid='AANCSEWZ2KHU6', iid='B0002BAU84', r_ui=2.0, est=3.9761904761904763, details={'actual_k': 0, 'was_impossible': False}),\n",
       " Prediction(uid='A2JNK6TJXP788J', iid='B004D39RJU', r_ui=1.0, est=4.063374480564824, details={'was_impossible': True, 'reason': 'User and/or item is unknown.'}),\n",
       " Prediction(uid='A4E72ZV3ZDJPT', iid='B004JXVOEU', r_ui=5.0, est=4.063374480564824, details={'was_impossible': True, 'reason': 'User and/or item is unknown.'}),\n",
       " Prediction(uid='A1VISIIV4J9E00', iid='B007RRPPH2', r_ui=5.0, est=3.1149425287356323, details={'actual_k': 0, 'was_impossible': False}),\n",
       " Prediction(uid='A1K4G5YJDJQI6Q', iid='B00316WHJ2', r_ui=2.0, est=2.1866666666666665, details={'actual_k': 0, 'was_impossible': False}),\n",
       " Prediction(uid='ATAPKGL4ZNZQE', iid='B009F1INL8', r_ui=4.0, est=4.063374480564824, details={'was_impossible': True, 'reason': 'User and/or item is unknown.'}),\n",
       " Prediction(uid='A35FII2JL2XN0S', iid='B007FDE4Y8', r_ui=2.0, est=4.063374480564824, details={'was_impossible': True, 'reason': 'User and/or item is unknown.'}),\n",
       " Prediction(uid='A2182KEYV78JCM', iid='B0029DXWW4', r_ui=1.0, est=3.0, details={'actual_k': 0, 'was_impossible': False}),\n",
       " Prediction(uid='A16NEXLX3WXJFY', iid='B00B9996LA', r_ui=2.0, est=3.793002915451895, details={'actual_k': 0, 'was_impossible': False}),\n",
       " Prediction(uid='A24BSVJEWD0SZR', iid='B002HZW7CK', r_ui=5.0, est=4.063374480564824, details={'was_impossible': True, 'reason': 'User and/or item is unknown.'}),\n",
       " Prediction(uid='A28BX3MM90A6FI', iid='B000VX6XL6', r_ui=4.0, est=2.126832429262928, details={'actual_k': 4, 'was_impossible': False}),\n",
       " Prediction(uid='APHLMEPTFL9JK', iid='B00BQ9FYQO', r_ui=5.0, est=4.063374480564824, details={'was_impossible': True, 'reason': 'User and/or item is unknown.'}),\n",
       " Prediction(uid='A2V4UP9C7YJZ83', iid='B0052YFYFK', r_ui=4.0, est=4.317969963749353, details={'actual_k': 0, 'was_impossible': False}),\n",
       " Prediction(uid='A26DCUSHPRGSUP', iid='B004JU0E3A', r_ui=4.0, est=4.063374480564824, details={'was_impossible': True, 'reason': 'User and/or item is unknown.'}),\n",
       " Prediction(uid='A1UU7KQDN1UQ9B', iid='B000GAMMBO', r_ui=4.0, est=4.063374480564824, details={'was_impossible': True, 'reason': 'User and/or item is unknown.'}),\n",
       " Prediction(uid='AUAWGSUO5QXGB', iid='B003IRR0YQ', r_ui=4.0, est=4.889423076923077, details={'actual_k': 1, 'was_impossible': False}),\n",
       " Prediction(uid='AXZZYYFF0RHGF', iid='B001AO4MWW', r_ui=4.0, est=4.642556351831435, details={'actual_k': 1, 'was_impossible': False}),\n",
       " Prediction(uid='A1NSOWEF8V0C1G', iid='B000O6SI6S', r_ui=4.0, est=4.063374480564824, details={'was_impossible': True, 'reason': 'User and/or item is unknown.'}),\n",
       " Prediction(uid='A3FHFYEXZF21YW', iid='B0007QKXYU', r_ui=5.0, est=4.1328125, details={'actual_k': 0, 'was_impossible': False}),\n",
       " Prediction(uid='A2IWB9LGHQYDSN', iid='B002NO7PWC', r_ui=5.0, est=4.722543352601156, details={'actual_k': 0, 'was_impossible': False}),\n",
       " Prediction(uid='A34TYDLUUSXW2C', iid='B002ISXBFI', r_ui=3.0, est=4.063374480564824, details={'was_impossible': True, 'reason': 'User and/or item is unknown.'}),\n",
       " Prediction(uid='A3HC5YFS2VJNRE', iid='B009PJ2CQC', r_ui=5.0, est=3.9347826086956523, details={'actual_k': 0, 'was_impossible': False}),\n",
       " Prediction(uid='A1TAHDXXXWEWBW', iid='B00858I4F2', r_ui=4.0, est=4.063374480564824, details={'was_impossible': True, 'reason': 'User and/or item is unknown.'}),\n",
       " Prediction(uid='A1X8YM80GSTO66', iid='B002M3SOC4', r_ui=5.0, est=4.398252184769039, details={'actual_k': 0, 'was_impossible': False}),\n",
       " Prediction(uid='A2N0G8J3MC9MWQ', iid='B008V0H284', r_ui=2.0, est=4.063374480564824, details={'was_impossible': True, 'reason': 'User and/or item is unknown.'}),\n",
       " Prediction(uid='A248LSBZT4P38V', iid='B003B20F5E', r_ui=5.0, est=3.522727272727273, details={'actual_k': 0, 'was_impossible': False}),\n",
       " Prediction(uid='A91XK7ALTOJJJ', iid='B0090878BW', r_ui=3.0, est=4.5676761793826435, details={'actual_k': 1, 'was_impossible': False}),\n",
       " Prediction(uid='A1Z3QFW4VRS8DT', iid='B005LZR0DO', r_ui=5.0, est=5, details={'actual_k': 1, 'was_impossible': False}),\n",
       " Prediction(uid='A14XJOSIDS9NEI', iid='B004COIBFG', r_ui=1.0, est=3.720833333333333, details={'actual_k': 0, 'was_impossible': False}),\n",
       " Prediction(uid='A134WHSNYNWFZ', iid='B009OBCAW2', r_ui=5.0, est=4.531827515400411, details={'actual_k': 0, 'was_impossible': False}),\n",
       " Prediction(uid='A1TBPYUVW178FQ', iid='B00G1YKHHA', r_ui=5.0, est=4.146692096048024, details={'actual_k': 1, 'was_impossible': False}),\n",
       " Prediction(uid='A2ZA63NK18CL1O', iid='B000DZKNM2', r_ui=3.0, est=4.227571770334928, details={'actual_k': 1, 'was_impossible': False}),\n",
       " Prediction(uid='A2I4H8HN08EGGL', iid='B001LL5JDA', r_ui=4.0, est=3.048868879905264, details={'actual_k': 1, 'was_impossible': False}),\n",
       " Prediction(uid='A2ACP2I5RVUZ1Q', iid='B00BW6LXHA', r_ui=5.0, est=4.675675675675675, details={'actual_k': 0, 'was_impossible': False}),\n",
       " Prediction(uid='AP9IQGVY6A3V2', iid='B002QCIHSM', r_ui=4.0, est=4.063374480564824, details={'was_impossible': True, 'reason': 'User and/or item is unknown.'}),\n",
       " Prediction(uid='A1B7ZRL3PLQE8C', iid='B003QWYX8E', r_ui=5.0, est=4.063374480564824, details={'was_impossible': True, 'reason': 'User and/or item is unknown.'}),\n",
       " Prediction(uid='A2VYPA0RLH3Y8M', iid='B0090C7A3O', r_ui=5.0, est=4.351477449455676, details={'actual_k': 0, 'was_impossible': False}),\n",
       " Prediction(uid='AKS3O7F9OBNU7', iid='B003D7FC8M', r_ui=4.0, est=4.063374480564824, details={'was_impossible': True, 'reason': 'User and/or item is unknown.'}),\n",
       " Prediction(uid='A3IR0JM5C33QAZ', iid='B00FQ1NHA8', r_ui=5.0, est=4.063374480564824, details={'was_impossible': True, 'reason': 'User and/or item is unknown.'}),\n",
       " Prediction(uid='A1TTZLSY90MLX', iid='B00008NJEP', r_ui=4.0, est=3.361111111111111, details={'actual_k': 0, 'was_impossible': False}),\n",
       " Prediction(uid='AFFQ5K0IT2H0L', iid='B00004TS16', r_ui=4.0, est=4.565217391304348, details={'actual_k': 0, 'was_impossible': False}),\n",
       " Prediction(uid='A2Z41DD4YSDADW', iid='B00B588HY2', r_ui=5.0, est=4.5464344941956885, details={'actual_k': 0, 'was_impossible': False}),\n",
       " Prediction(uid='A2BQV451IW5N36', iid='B007B31IAK', r_ui=5.0, est=4.063374480564824, details={'was_impossible': True, 'reason': 'User and/or item is unknown.'}),\n",
       " Prediction(uid='A3O92V83X9TPYZ', iid='B00828G1K0', r_ui=5.0, est=4.142857142857143, details={'actual_k': 0, 'was_impossible': False}),\n",
       " Prediction(uid='A19X4BF861LQST', iid='B001H5T7LK', r_ui=4.0, est=3.06108851372203, details={'actual_k': 2, 'was_impossible': False}),\n",
       " Prediction(uid='A3LYH5BDCE7HF1', iid='B007TYUTY2', r_ui=5.0, est=4.724583551750247, details={'actual_k': 1, 'was_impossible': False}),\n",
       " Prediction(uid='A1XPXMKZT06UH0', iid='B00GHGMCN4', r_ui=5.0, est=4.331707317073171, details={'actual_k': 0, 'was_impossible': False}),\n",
       " Prediction(uid='A2ELD078GLDFJ8', iid='B00005T3G0', r_ui=5.0, est=4.6319824753559695, details={'actual_k': 0, 'was_impossible': False}),\n",
       " Prediction(uid='A23L45MKAG3WPL', iid='B00081A2DQ', r_ui=4.0, est=3.608695652173913, details={'actual_k': 0, 'was_impossible': False}),\n",
       " Prediction(uid='A3L9WOTHQV91P5', iid='B007UJ4TJ2', r_ui=2.0, est=4.063374480564824, details={'was_impossible': True, 'reason': 'User and/or item is unknown.'}),\n",
       " Prediction(uid='A18E1FPOIQ1DP0', iid='B000P3UB24', r_ui=1.0, est=4.063374480564824, details={'was_impossible': True, 'reason': 'User and/or item is unknown.'}),\n",
       " Prediction(uid='A2XOYRDD9AD4ZS', iid='B006MRAVFE', r_ui=5.0, est=5, details={'actual_k': 2, 'was_impossible': False}),\n",
       " Prediction(uid='A3NJ95R9UEAIJ7', iid='B00007KDVI', r_ui=4.0, est=3.664822134387352, details={'actual_k': 0, 'was_impossible': False}),\n",
       " Prediction(uid='A16VWZOYBXI5J0', iid='B000JJM8XE', r_ui=4.0, est=4.063374480564824, details={'was_impossible': True, 'reason': 'User and/or item is unknown.'}),\n",
       " Prediction(uid='APWIVOVNXIP2J', iid='B009V17TH6', r_ui=3.0, est=4.063374480564824, details={'was_impossible': True, 'reason': 'User and/or item is unknown.'}),\n",
       " Prediction(uid='A39V89JDMMC2T6', iid='B003TVWNAM', r_ui=3.0, est=4.063374480564824, details={'was_impossible': True, 'reason': 'User and/or item is unknown.'}),\n",
       " Prediction(uid='A3PBV43FOM2TSG', iid='B001202C44', r_ui=5.0, est=4.648484848484848, details={'actual_k': 0, 'was_impossible': False}),\n",
       " Prediction(uid='A96QJ52JRK8WT', iid='B000MU4LXA', r_ui=5.0, est=4.063374480564824, details={'was_impossible': True, 'reason': 'User and/or item is unknown.'}),\n",
       " Prediction(uid='A25C7T0FCXE397', iid='B005DCP280', r_ui=5.0, est=3.506849315068493, details={'actual_k': 0, 'was_impossible': False}),\n",
       " Prediction(uid='ATUKF93TWDAFT', iid='B000I4RFO2', r_ui=5.0, est=3.6623376623376624, details={'actual_k': 0, 'was_impossible': False}),\n",
       " Prediction(uid='A31CVXJAYDMGP6', iid='B003ZBZ64Q', r_ui=4.0, est=4.974159535515987, details={'actual_k': 2, 'was_impossible': False}),\n",
       " Prediction(uid='A1Z8BEDN2HD3F8', iid='B00IIVH2AE', r_ui=5.0, est=4.275510204081633, details={'actual_k': 0, 'was_impossible': False}),\n",
       " Prediction(uid='A1JDE082EJ0PG3', iid='B0071N3AYC', r_ui=3.0, est=4.063374480564824, details={'was_impossible': True, 'reason': 'User and/or item is unknown.'}),\n",
       " Prediction(uid='A17XMYGBT4UOZS', iid='B0055QYJKG', r_ui=5.0, est=4.063374480564824, details={'was_impossible': True, 'reason': 'User and/or item is unknown.'}),\n",
       " Prediction(uid='A20XIRPRWYICCH', iid='B000TEVQVO', r_ui=5.0, est=4.063374480564824, details={'was_impossible': True, 'reason': 'User and/or item is unknown.'}),\n",
       " Prediction(uid='A1Y2GH2L57B9M5', iid='B00D7OMDXS', r_ui=5.0, est=4.310344827586207, details={'actual_k': 0, 'was_impossible': False}),\n",
       " Prediction(uid='A6FC8S5FG4THZ', iid='B004T1YAEI', r_ui=5.0, est=4.063374480564824, details={'was_impossible': True, 'reason': 'User and/or item is unknown.'}),\n",
       " Prediction(uid='A33Y6ZBH9QO2RQ', iid='B0031B7DCS', r_ui=4.0, est=3.831578947368421, details={'actual_k': 0, 'was_impossible': False}),\n",
       " Prediction(uid='A2BAJ3C9GUOHRB', iid='B00004T8R2', r_ui=5.0, est=4.063374480564824, details={'was_impossible': True, 'reason': 'User and/or item is unknown.'}),\n",
       " Prediction(uid='AMXUKWYGA1P53', iid='B005A96Y74', r_ui=4.0, est=4.232704402515723, details={'actual_k': 0, 'was_impossible': False}),\n",
       " Prediction(uid='A245NPESWFIEGL', iid='B005DJ8VOU', r_ui=5.0, est=4.140740740740741, details={'actual_k': 0, 'was_impossible': False}),\n",
       " Prediction(uid='AT7F6GYEWRUPW', iid='B00A7MFRHC', r_ui=4.0, est=4.329268292682927, details={'actual_k': 0, 'was_impossible': False}),\n",
       " Prediction(uid='A357H8EEE6H4Z7', iid='B0035H4164', r_ui=1.0, est=4.063374480564824, details={'was_impossible': True, 'reason': 'User and/or item is unknown.'}),\n",
       " Prediction(uid='A17ZA62QZFRGK0', iid='B0036Q7MV0', r_ui=4.0, est=4.405940594059406, details={'actual_k': 0, 'was_impossible': False}),\n",
       " Prediction(uid='A32OE74RGZGBZM', iid='B00009R6WU', r_ui=5.0, est=4.516129032258065, details={'actual_k': 0, 'was_impossible': False}),\n",
       " Prediction(uid='A17V9XL4CWTQ6G', iid='B0082E9K7U', r_ui=5.0, est=5, details={'actual_k': 5, 'was_impossible': False}),\n",
       " Prediction(uid='A3SFHL0DT7V81F', iid='B005EOWBHC', r_ui=3.0, est=4.063374480564824, details={'was_impossible': True, 'reason': 'User and/or item is unknown.'}),\n",
       " Prediction(uid='A1LCW37EBB3JDW', iid='B008CS9M9C', r_ui=3.0, est=4.063374480564824, details={'was_impossible': True, 'reason': 'User and/or item is unknown.'}),\n",
       " Prediction(uid='A2NZUOCMEOEIB9', iid='B00AANMVNQ', r_ui=5.0, est=4.613333333333333, details={'actual_k': 0, 'was_impossible': False}),\n",
       " Prediction(uid='APJOSW5G4RQRP', iid='B000JE7GPY', r_ui=4.0, est=5, details={'actual_k': 1, 'was_impossible': False}),\n",
       " Prediction(uid='A36B5BZTZVYGFH', iid='B004T0EQP2', r_ui=5.0, est=4.0993865030674845, details={'actual_k': 0, 'was_impossible': False}),\n",
       " Prediction(uid='A1OZLH1876SNO4', iid='B0074BW614', r_ui=5.0, est=4.063374480564824, details={'was_impossible': True, 'reason': 'User and/or item is unknown.'}),\n",
       " Prediction(uid='A3QVFOAXKWW0H4', iid='B006BU4TQY', r_ui=5.0, est=4.038461538461538, details={'actual_k': 0, 'was_impossible': False}),\n",
       " Prediction(uid='A2373RDFI3LBF8', iid='B004NY9UV4', r_ui=5.0, est=4.063374480564824, details={'was_impossible': True, 'reason': 'User and/or item is unknown.'}),\n",
       " Prediction(uid='A277TN11JZLYBQ', iid='B0029Z9UNC', r_ui=5.0, est=4.063374480564824, details={'was_impossible': True, 'reason': 'User and/or item is unknown.'}),\n",
       " Prediction(uid='A2NZB0OT7QXBCW', iid='B004VHFNB4', r_ui=1.0, est=4.063374480564824, details={'was_impossible': True, 'reason': 'User and/or item is unknown.'}),\n",
       " Prediction(uid='A1FUXTGD90KMOB', iid='B001EMUE6I', r_ui=5.0, est=4.285714285714286, details={'actual_k': 0, 'was_impossible': False}),\n",
       " Prediction(uid='AMFOFNCOJ8WAB', iid='B006ZS4R46', r_ui=5.0, est=4.371794871794871, details={'actual_k': 0, 'was_impossible': False}),\n",
       " Prediction(uid='A3SMFRWGC8JDZD', iid='B001ISR9B6', r_ui=3.0, est=4.063374480564824, details={'was_impossible': True, 'reason': 'User and/or item is unknown.'}),\n",
       " Prediction(uid='A2EW8MMUT2N1GY', iid='B0067PLM5E', r_ui=1.0, est=3.5858407079646017, details={'actual_k': 0, 'was_impossible': False}),\n",
       " Prediction(uid='A1KJHXQR255K1W', iid='B000BULO5E', r_ui=2.0, est=4.029850746268656, details={'actual_k': 0, 'was_impossible': False}),\n",
       " Prediction(uid='A3DCTF6U6PZ2E', iid='B0028LGEYU', r_ui=3.0, est=3.77037037037037, details={'actual_k': 0, 'was_impossible': False}),\n",
       " Prediction(uid='A2QFYQ5YXKKQ3U', iid='B00A0LUG30', r_ui=4.0, est=4.063374480564824, details={'was_impossible': True, 'reason': 'User and/or item is unknown.'}),\n",
       " Prediction(uid='A2UKOHFEAN1XUZ', iid='B004SGSHD4', r_ui=5.0, est=3.84070796460177, details={'actual_k': 0, 'was_impossible': False}),\n",
       " Prediction(uid='A2P2VEQFD9H74M', iid='B004NY9UV4', r_ui=3.0, est=1.246974336462379, details={'actual_k': 1, 'was_impossible': False}),\n",
       " Prediction(uid='A28NKZPH5QTNRN', iid='B00B588HY2', r_ui=5.0, est=4.5464344941956885, details={'actual_k': 0, 'was_impossible': False}),\n",
       " Prediction(uid='A3IU8AK3FOQW5Z', iid='B000BUEMOO', r_ui=5.0, est=4.063374480564824, details={'was_impossible': True, 'reason': 'User and/or item is unknown.'}),\n",
       " Prediction(uid='A15QST6NBJGDVB', iid='B0015C30J0', r_ui=5.0, est=3.132300205283568, details={'actual_k': 2, 'was_impossible': False}),\n",
       " Prediction(uid='A3LY0YFX587Q1P', iid='B0009SCMKY', r_ui=5.0, est=4.643463662247275, details={'actual_k': 1, 'was_impossible': False}),\n",
       " Prediction(uid='A3MWFSPGB4HRXZ', iid='B007R5YDYA', r_ui=5.0, est=4.063374480564824, details={'was_impossible': True, 'reason': 'User and/or item is unknown.'}),\n",
       " Prediction(uid='A3QUSOKE2FMOQB', iid='B0045TZF66', r_ui=5.0, est=4.0625, details={'actual_k': 0, 'was_impossible': False}),\n",
       " Prediction(uid='AENP9KFDF2YUE', iid='B008CTM94G', r_ui=4.0, est=4.063374480564824, details={'was_impossible': True, 'reason': 'User and/or item is unknown.'}),\n",
       " Prediction(uid='A3H8R9RBN7MYD', iid='B0048IATQ0', r_ui=5.0, est=4.258594917787743, details={'actual_k': 0, 'was_impossible': False}),\n",
       " Prediction(uid='AA4WSR0U0AE1I', iid='B002FP0PO4', r_ui=5.0, est=4.028985507246377, details={'actual_k': 0, 'was_impossible': False}),\n",
       " Prediction(uid='ANSJIJO0AFTK4', iid='B005CLPP8E', r_ui=4.0, est=4.063374480564824, details={'was_impossible': True, 'reason': 'User and/or item is unknown.'}),\n",
       " Prediction(uid='A3B7TPIVH5JKN8', iid='B007HBLK9K', r_ui=5.0, est=4.063374480564824, details={'was_impossible': True, 'reason': 'User and/or item is unknown.'}),\n",
       " Prediction(uid='AU32WBNCB0HL9', iid='B008CQWOYY', r_ui=5.0, est=4.063374480564824, details={'was_impossible': True, 'reason': 'User and/or item is unknown.'}),\n",
       " Prediction(uid='AES2M77K2SY7Q', iid='B004FLWB1Q', r_ui=5.0, est=3.9879518072289155, details={'actual_k': 0, 'was_impossible': False}),\n",
       " Prediction(uid='A1ETRQSH74WTT1', iid='B00313JWSO', r_ui=1.0, est=4.063374480564824, details={'was_impossible': True, 'reason': 'User and/or item is unknown.'}),\n",
       " Prediction(uid='A2HGIA1CBW2S3L', iid='B006Z0Q2SI', r_ui=5.0, est=4.430188679245283, details={'actual_k': 0, 'was_impossible': False}),\n",
       " Prediction(uid='A240MH4N3SWJF0', iid='B004LPY204', r_ui=1.0, est=4.063374480564824, details={'was_impossible': True, 'reason': 'User and/or item is unknown.'}),\n",
       " Prediction(uid='A331XV5SGIC5KZ', iid='B000JMJWV2', r_ui=5.0, est=4.232083333333334, details={'actual_k': 0, 'was_impossible': False}),\n",
       " Prediction(uid='A3NUC07PCIWBCW', iid='B004M8ST36', r_ui=5.0, est=4.356363636363636, details={'actual_k': 0, 'was_impossible': False}),\n",
       " Prediction(uid='A1VU987WCH1DC9', iid='B003ELYQGG', r_ui=5.0, est=4.363424274720756, details={'actual_k': 1, 'was_impossible': False}),\n",
       " Prediction(uid='A1EX2QVMNPH0YJ', iid='B0074BW614', r_ui=5.0, est=4.063374480564824, details={'was_impossible': True, 'reason': 'User and/or item is unknown.'}),\n",
       " Prediction(uid='A1F5IRG9LIKM2H', iid='B004GF8TIK', r_ui=4.0, est=1.1114432273608976, details={'actual_k': 1, 'was_impossible': False}),\n",
       " Prediction(uid='A39LZY11HAW3KM', iid='B004KSMXVM', r_ui=5.0, est=4.063374480564824, details={'was_impossible': True, 'reason': 'User and/or item is unknown.'}),\n",
       " Prediction(uid='A2T94O79IDC1LA', iid='B0030FR08W', r_ui=1.0, est=4.063374480564824, details={'was_impossible': True, 'reason': 'User and/or item is unknown.'}),\n",
       " Prediction(uid='A7Y3S1OAXUFC0', iid='B001URY7SS', r_ui=3.0, est=4.063374480564824, details={'was_impossible': True, 'reason': 'User and/or item is unknown.'}),\n",
       " Prediction(uid='A2H8QTYB4OG1HI', iid='B001BZM998', r_ui=5.0, est=4.78816604825102, details={'actual_k': 1, 'was_impossible': False}),\n",
       " Prediction(uid='A2FQWA82QT4GW9', iid='B004JO16KG', r_ui=1.0, est=4.063374480564824, details={'was_impossible': True, 'reason': 'User and/or item is unknown.'}),\n",
       " Prediction(uid='AJ6327AK4UYTC', iid='B00FZ9SM4M', r_ui=5.0, est=4.063374480564824, details={'was_impossible': True, 'reason': 'User and/or item is unknown.'}),\n",
       " Prediction(uid='A34MMFZP9252GE', iid='B005KSATVC', r_ui=5.0, est=4.063374480564824, details={'was_impossible': True, 'reason': 'User and/or item is unknown.'}),\n",
       " Prediction(uid='A37RAX4JEO4AM5', iid='B0056BPUQC', r_ui=5.0, est=4.272445820433436, details={'actual_k': 0, 'was_impossible': False}),\n",
       " Prediction(uid='A18ZSJGX63DK0M', iid='B002VPE21A', r_ui=5.0, est=4.0754716981132075, details={'actual_k': 0, 'was_impossible': False}),\n",
       " Prediction(uid='A1O6MADFNBRX7H', iid='B002C9K3UO', r_ui=5.0, est=4.063374480564824, details={'was_impossible': True, 'reason': 'User and/or item is unknown.'}),\n",
       " Prediction(uid='A1MS0DX1YDI3S9', iid='B000AOTLP6', r_ui=5.0, est=4.063374480564824, details={'was_impossible': True, 'reason': 'User and/or item is unknown.'}),\n",
       " Prediction(uid='A1UTSBX32MAE39', iid='B003XU6H8I', r_ui=2.0, est=4.063374480564824, details={'was_impossible': True, 'reason': 'User and/or item is unknown.'}),\n",
       " Prediction(uid='A2SYHRNKY1RLVM', iid='B004SD27OC', r_ui=5.0, est=4.955053023200342, details={'actual_k': 1, 'was_impossible': False}),\n",
       " Prediction(uid='A14BHBOVBO1O5H', iid='B006P88VSE', r_ui=5.0, est=3.973421926910299, details={'actual_k': 0, 'was_impossible': False}),\n",
       " Prediction(uid='A3OTEJ3S88JCIV', iid='B004HKIB6E', r_ui=5.0, est=4.063374480564824, details={'was_impossible': True, 'reason': 'User and/or item is unknown.'}),\n",
       " Prediction(uid='A2H3WFXFZ75ADM', iid='B003I7YDQ4', r_ui=5.0, est=4.063374480564824, details={'was_impossible': True, 'reason': 'User and/or item is unknown.'}),\n",
       " Prediction(uid='AXTVP37GXDRK7', iid='B003TYDBYQ', r_ui=3.0, est=3.3936013590033975, details={'actual_k': 1, 'was_impossible': False}),\n",
       " Prediction(uid='A13FID00L0ZR4C', iid='B005CTKYB4', r_ui=5.0, est=4.243450585468969, details={'actual_k': 1, 'was_impossible': False}),\n",
       " Prediction(uid='AUOUS71KIULPV', iid='B000TG4BA0', r_ui=4.0, est=3.757425742574257, details={'actual_k': 0, 'was_impossible': False}),\n",
       " Prediction(uid='AHK0G6Z1AB3XJ', iid='B0000VYJRY', r_ui=5.0, est=4.063374480564824, details={'was_impossible': True, 'reason': 'User and/or item is unknown.'}),\n",
       " Prediction(uid='A248J5VN3RV3OX', iid='B00724G2P4', r_ui=5.0, est=4.063374480564824, details={'was_impossible': True, 'reason': 'User and/or item is unknown.'}),\n",
       " Prediction(uid='A2D6P7HVB4489L', iid='B004HHICKC', r_ui=5.0, est=4.063374480564824, details={'was_impossible': True, 'reason': 'User and/or item is unknown.'}),\n",
       " Prediction(uid='ARCMD7ODHWE4E', iid='B0007CGXU2', r_ui=5.0, est=4.418803418803419, details={'actual_k': 0, 'was_impossible': False}),\n",
       " Prediction(uid='AEMTWP2PM85AY', iid='B003O8682Y', r_ui=5.0, est=1, details={'actual_k': 1, 'was_impossible': False}),\n",
       " Prediction(uid='A2XS8SEQB7STFL', iid='B003SHN194', r_ui=5.0, est=3.918918918918919, details={'actual_k': 0, 'was_impossible': False}),\n",
       " Prediction(uid='A1LEO8HW3E9E80', iid='B00825BZUY', r_ui=4.0, est=4.063374480564824, details={'was_impossible': True, 'reason': 'User and/or item is unknown.'}),\n",
       " Prediction(uid='A29DE21EIBT7E3', iid='B00F6E8OUS', r_ui=4.0, est=4.063374480564824, details={'was_impossible': True, 'reason': 'User and/or item is unknown.'}),\n",
       " Prediction(uid='ASDSY7BSEWZO6', iid='B008AST7R6', r_ui=4.0, est=4.309466984884646, details={'actual_k': 0, 'was_impossible': False}),\n",
       " Prediction(uid='A11KUIOFITFT1I', iid='B0074BW614', r_ui=5.0, est=4.063374480564824, details={'was_impossible': True, 'reason': 'User and/or item is unknown.'}),\n",
       " Prediction(uid='A1U8F2COXHK49', iid='B007JPVT8G', r_ui=5.0, est=4.2894736842105265, details={'actual_k': 0, 'was_impossible': False}),\n",
       " Prediction(uid='A16I05Y8PQQJWT', iid='B007XOQ3BQ', r_ui=4.0, est=4.063374480564824, details={'was_impossible': True, 'reason': 'User and/or item is unknown.'}),\n",
       " Prediction(uid='A2ETFJJ0OX0SH0', iid='B009FU8BTI', r_ui=5.0, est=5, details={'actual_k': 1, 'was_impossible': False}),\n",
       " Prediction(uid='A2KQFRD7TIN1N', iid='B001QTXKF6', r_ui=4.0, est=4.063374480564824, details={'was_impossible': True, 'reason': 'User and/or item is unknown.'}),\n",
       " Prediction(uid='AGE5X7XG35QTN', iid='B002OB49SC', r_ui=1.0, est=4.063374480564824, details={'was_impossible': True, 'reason': 'User and/or item is unknown.'}),\n",
       " Prediction(uid='A16W4899RBX2BO', iid='B00365EBGK', r_ui=5.0, est=3.6808510638297873, details={'actual_k': 0, 'was_impossible': False}),\n",
       " Prediction(uid='A2KCDHLSK1H9HK', iid='B00D02AG7C', r_ui=5.0, est=4.093213409648405, details={'actual_k': 0, 'was_impossible': False}),\n",
       " Prediction(uid='A339ZKGUSJUXCV', iid='B00CFIDQZG', r_ui=5.0, est=4.063374480564824, details={'was_impossible': True, 'reason': 'User and/or item is unknown.'}),\n",
       " Prediction(uid='A2GPVW369SPLMP', iid='B00BALK9CM', r_ui=5.0, est=3.6704545454545454, details={'actual_k': 0, 'was_impossible': False}),\n",
       " Prediction(uid='A2H0QJXUFN7TA6', iid='B000629GES', r_ui=4.0, est=4.063374480564824, details={'was_impossible': True, 'reason': 'User and/or item is unknown.'}),\n",
       " Prediction(uid='A3DG6QF9K4NOXM', iid='B002RWJDB6', r_ui=1.0, est=3.1738035264483626, details={'actual_k': 0, 'was_impossible': False}),\n",
       " Prediction(uid='A1KOJYSIJH3HO6', iid='B005AFP1AY', r_ui=1.0, est=4.063374480564824, details={'was_impossible': True, 'reason': 'User and/or item is unknown.'}),\n",
       " Prediction(uid='A3HOLSXUTYEI24', iid='B003X1BEKI', r_ui=5.0, est=4.063374480564824, details={'was_impossible': True, 'reason': 'User and/or item is unknown.'}),\n",
       " Prediction(uid='AKX58803IELXU', iid='B003LNZ1L6', r_ui=2.0, est=4.063374480564824, details={'was_impossible': True, 'reason': 'User and/or item is unknown.'}),\n",
       " Prediction(uid='AS7R7YHZ36BS8', iid='B002BWOO0W', r_ui=1.0, est=4.063374480564824, details={'was_impossible': True, 'reason': 'User and/or item is unknown.'}),\n",
       " Prediction(uid='A3FSZL96BIYTLP', iid='B008PTTMGQ', r_ui=5.0, est=4.063374480564824, details={'was_impossible': True, 'reason': 'User and/or item is unknown.'}),\n",
       " Prediction(uid='A1KFXGQNUQHK0M', iid='B001BS3A3E', r_ui=5.0, est=4.1063829787234045, details={'actual_k': 0, 'was_impossible': False}),\n",
       " Prediction(uid='A3DLO29MNR9U2U', iid='B001MU49WC', r_ui=1.0, est=2.9210526315789473, details={'actual_k': 0, 'was_impossible': False}),\n",
       " Prediction(uid='AE3TVRAZ27HYW', iid='B00AXWGT46', r_ui=4.0, est=3.137323943661972, details={'actual_k': 0, 'was_impossible': False}),\n",
       " Prediction(uid='ANEJRH9N75JZ', iid='B004ZP74UA', r_ui=5.0, est=4.063374480564824, details={'was_impossible': True, 'reason': 'User and/or item is unknown.'}),\n",
       " Prediction(uid='A3054P4X1MG1Q4', iid='B001S2RCWI', r_ui=5.0, est=4.336941813261164, details={'actual_k': 0, 'was_impossible': False}),\n",
       " Prediction(uid='A2JJK64CKVI7KY', iid='B005PQ1V20', r_ui=4.0, est=3.2857142857142856, details={'actual_k': 0, 'was_impossible': False}),\n",
       " Prediction(uid='AEZLE2CUGVHS6', iid='B005DSPLDA', r_ui=5.0, est=4.063374480564824, details={'was_impossible': True, 'reason': 'User and/or item is unknown.'}),\n",
       " Prediction(uid='A2JNO1J8MRMECP', iid='B000LGFLXO', r_ui=3.0, est=4.063374480564824, details={'was_impossible': True, 'reason': 'User and/or item is unknown.'}),\n",
       " Prediction(uid='AY3L4HDKNZ7GE', iid='B004X6AJV2', r_ui=1.0, est=2.6666666666666665, details={'actual_k': 0, 'was_impossible': False}),\n",
       " Prediction(uid='A9APBXOHRORAF', iid='B001W6LGGS', r_ui=1.0, est=4.063374480564824, details={'was_impossible': True, 'reason': 'User and/or item is unknown.'}),\n",
       " Prediction(uid='A2IXR0IWF8MT9S', iid='B003E7YRWS', r_ui=1.0, est=4.063374480564824, details={'was_impossible': True, 'reason': 'User and/or item is unknown.'}),\n",
       " Prediction(uid='A2B5VKHQ3HN80H', iid='B00C5B18CQ', r_ui=3.0, est=4.063374480564824, details={'was_impossible': True, 'reason': 'User and/or item is unknown.'}),\n",
       " Prediction(uid='A1A90FVSS75VS', iid='B002M78JA2', r_ui=5.0, est=4.063374480564824, details={'was_impossible': True, 'reason': 'User and/or item is unknown.'}),\n",
       " Prediction(uid='A1ZB2PSORBWHFE', iid='B00F0RC4VQ', r_ui=4.0, est=4.063374480564824, details={'was_impossible': True, 'reason': 'User and/or item is unknown.'}),\n",
       " Prediction(uid='A2AF2WSQWCH6T9', iid='B0002XQJFA', r_ui=5.0, est=4.063374480564824, details={'was_impossible': True, 'reason': 'User and/or item is unknown.'}),\n",
       " Prediction(uid='A10G4BPT5MGBHY', iid='B003L1ZYZ6', r_ui=5.0, est=4.453560371517028, details={'actual_k': 0, 'was_impossible': False}),\n",
       " Prediction(uid='A38OHQZGSSE51Y', iid='B00264NZWS', r_ui=1.0, est=4.063374480564824, details={'was_impossible': True, 'reason': 'User and/or item is unknown.'}),\n",
       " Prediction(uid='AY0D6PTBBA6RZ', iid='B0030DL37I', r_ui=5.0, est=4.173076923076923, details={'actual_k': 0, 'was_impossible': False}),\n",
       " Prediction(uid='A19YY0GAMUFIJX', iid='B00A21L33K', r_ui=5.0, est=4.063374480564824, details={'was_impossible': True, 'reason': 'User and/or item is unknown.'}),\n",
       " Prediction(uid='A3QGS2NID0Y4RI', iid='B005OOM6HC', r_ui=4.0, est=4.063374480564824, details={'was_impossible': True, 'reason': 'User and/or item is unknown.'}),\n",
       " Prediction(uid='A1FKSRD4UEA241', iid='B008B1125W', r_ui=5.0, est=4.68582368720832, details={'actual_k': 1, 'was_impossible': False}),\n",
       " Prediction(uid='A2GOJ1ZW5KAB0W', iid='B000BDDOP4', r_ui=5.0, est=4.315789473684211, details={'actual_k': 0, 'was_impossible': False}),\n",
       " Prediction(uid='AWZVWOPG3KXGZ', iid='B00FB45SI4', r_ui=5.0, est=4.063374480564824, details={'was_impossible': True, 'reason': 'User and/or item is unknown.'}),\n",
       " Prediction(uid='A2QGSIS7MT537U', iid='B003XM9774', r_ui=5.0, est=4.063374480564824, details={'was_impossible': True, 'reason': 'User and/or item is unknown.'}),\n",
       " Prediction(uid='APJ95QWKXFCR4', iid='B003CN5NXG', r_ui=1.0, est=4.063374480564824, details={'was_impossible': True, 'reason': 'User and/or item is unknown.'}),\n",
       " Prediction(uid='A1T0WO5FLUKKNI', iid='B0013CXZZ6', r_ui=2.0, est=4.063374480564824, details={'was_impossible': True, 'reason': 'User and/or item is unknown.'}),\n",
       " Prediction(uid='A1WJSSCF4K4LFI', iid='B00009W3FR', r_ui=5.0, est=4.3090909090909095, details={'actual_k': 0, 'was_impossible': False}),\n",
       " Prediction(uid='A3MSZC88P5NKO9', iid='B000UIA6YM', r_ui=5.0, est=4.544186046511628, details={'actual_k': 0, 'was_impossible': False}),\n",
       " Prediction(uid='A4DY7OQC9KPYF', iid='B001D60LG8', r_ui=4.0, est=4.198979591836735, details={'actual_k': 0, 'was_impossible': False}),\n",
       " Prediction(uid='A1JSY5B1EJIMRP', iid='B006N1TF7E', r_ui=2.0, est=4.063374480564824, details={'was_impossible': True, 'reason': 'User and/or item is unknown.'}),\n",
       " Prediction(uid='A2ASNOYJJ8RLIQ', iid='B000UWX70S', r_ui=2.0, est=3.403010033444816, details={'actual_k': 0, 'was_impossible': False}),\n",
       " Prediction(uid='A3NQPRJLJTXST8', iid='B001RA1FN8', r_ui=1.0, est=4.063374480564824, details={'was_impossible': True, 'reason': 'User and/or item is unknown.'}),\n",
       " Prediction(uid='A3O3DNAJF13583', iid='B0046SQ8VW', r_ui=5.0, est=4.059701492537314, details={'actual_k': 0, 'was_impossible': False}),\n",
       " Prediction(uid='A2A99YVW6OTRS7', iid='B001CZ9ZEE', r_ui=5.0, est=4.063374480564824, details={'was_impossible': True, 'reason': 'User and/or item is unknown.'}),\n",
       " Prediction(uid='A3NMR6GAIZJ89F', iid='B0016LFN2C', r_ui=5.0, est=4.063374480564824, details={'was_impossible': True, 'reason': 'User and/or item is unknown.'}),\n",
       " Prediction(uid='A2UBU2BRCRZS3Q', iid='B00006LT11', r_ui=4.0, est=4.063374480564824, details={'was_impossible': True, 'reason': 'User and/or item is unknown.'}),\n",
       " Prediction(uid='A2KPL5EUK227P0', iid='B0002ZW5W4', r_ui=5.0, est=4.063374480564824, details={'was_impossible': True, 'reason': 'User and/or item is unknown.'}),\n",
       " Prediction(uid='A13XMMU3G5CCLF', iid='B001IBMLKM', r_ui=5.0, est=3.109677419354839, details={'actual_k': 0, 'was_impossible': False}),\n",
       " Prediction(uid='A3RG4ZTLOT22S7', iid='B008U6PQA0', r_ui=5.0, est=4.063374480564824, details={'was_impossible': True, 'reason': 'User and/or item is unknown.'}),\n",
       " Prediction(uid='A2CSZ1HPOD9E2T', iid='B001G0WNFS', r_ui=5.0, est=4.063374480564824, details={'was_impossible': True, 'reason': 'User and/or item is unknown.'}),\n",
       " Prediction(uid='AYHBDHK10YJTB', iid='B009IBX7Z2', r_ui=5.0, est=3.1524663677130045, details={'actual_k': 0, 'was_impossible': False}),\n",
       " Prediction(uid='A2I6C0YBCWSXUU', iid='B000EMDOD4', r_ui=5.0, est=3.757575757575758, details={'actual_k': 0, 'was_impossible': False}),\n",
       " Prediction(uid='A2JQRMVDK4SMUG', iid='B000R1E59O', r_ui=4.0, est=4.063374480564824, details={'was_impossible': True, 'reason': 'User and/or item is unknown.'}),\n",
       " Prediction(uid='A25LM23UM50GD', iid='B001RB24TG', r_ui=4.0, est=4.0344827586206895, details={'actual_k': 0, 'was_impossible': False}),\n",
       " Prediction(uid='A2CXB4Q5VTKI43', iid='B004V1DAC4', r_ui=5.0, est=4.063374480564824, details={'was_impossible': True, 'reason': 'User and/or item is unknown.'}),\n",
       " Prediction(uid='A3OYYVQWUXG141', iid='B001SER46K', r_ui=2.0, est=4.063374480564824, details={'was_impossible': True, 'reason': 'User and/or item is unknown.'}),\n",
       " Prediction(uid='AGCE6PYW1SAJ8', iid='B007X26T3A', r_ui=5.0, est=3.697674418604651, details={'actual_k': 0, 'was_impossible': False}),\n",
       " Prediction(uid='A3P51TFQ57T920', iid='B0044YU60M', r_ui=2.0, est=4.063374480564824, details={'was_impossible': True, 'reason': 'User and/or item is unknown.'}),\n",
       " Prediction(uid='A17VW66OGW0ZKA', iid='B007IV7KRU', r_ui=5.0, est=4.570749915167967, details={'actual_k': 0, 'was_impossible': False}),\n",
       " Prediction(uid='A1Q76XBG630F1I', iid='B003VKTJGW', r_ui=5.0, est=4.48936170212766, details={'actual_k': 0, 'was_impossible': False}),\n",
       " Prediction(uid='A2EMJPJ12JJ0ZT', iid='B0033VKKB2', r_ui=5.0, est=4.063374480564824, details={'was_impossible': True, 'reason': 'User and/or item is unknown.'}),\n",
       " Prediction(uid='AFN3BYC51HAN3', iid='B004MM3PAO', r_ui=4.0, est=4.063374480564824, details={'was_impossible': True, 'reason': 'User and/or item is unknown.'}),\n",
       " Prediction(uid='AXNZBEAXLVDBO', iid='B0007U83HU', r_ui=5.0, est=4.063374480564824, details={'was_impossible': True, 'reason': 'User and/or item is unknown.'}),\n",
       " Prediction(uid='A1NCUWCFEA0DQ6', iid='B007I7X1XG', r_ui=5.0, est=4.127725856697819, details={'actual_k': 0, 'was_impossible': False}),\n",
       " Prediction(uid='AG0X2TXHO6DU6', iid='B005KOZNBW', r_ui=5.0, est=4.063374480564824, details={'was_impossible': True, 'reason': 'User and/or item is unknown.'}),\n",
       " Prediction(uid='AHUCJDZBLT6YG', iid='B004X3TPJC', r_ui=4.0, est=3.46875, details={'actual_k': 0, 'was_impossible': False}),\n",
       " Prediction(uid='A2ACXG2KY4QXLC', iid='B00846V35I', r_ui=5.0, est=4.31, details={'actual_k': 0, 'was_impossible': False}),\n",
       " Prediction(uid='A1HNZXZNGTQWHV', iid='B004TM1JBE', r_ui=5.0, est=4.063374480564824, details={'was_impossible': True, 'reason': 'User and/or item is unknown.'}),\n",
       " Prediction(uid='A1STVYH4BVVG02', iid='B005ETA5K2', r_ui=5.0, est=3.450381679389313, details={'actual_k': 0, 'was_impossible': False}),\n",
       " Prediction(uid='A1OL723VJ6COMK', iid='B0071NWYP8', r_ui=4.0, est=4.063374480564824, details={'was_impossible': True, 'reason': 'User and/or item is unknown.'}),\n",
       " Prediction(uid='A2CX9OW10YSJQ9', iid='B0061ZFWDS', r_ui=5.0, est=4.063374480564824, details={'was_impossible': True, 'reason': 'User and/or item is unknown.'}),\n",
       " Prediction(uid='A4T06MTO6FU0M', iid='B000BREQN4', r_ui=5.0, est=4.063374480564824, details={'was_impossible': True, 'reason': 'User and/or item is unknown.'}),\n",
       " Prediction(uid='A1ER1B8GT0D5PD', iid='B001V9LPT4', r_ui=4.0, est=3.8342592592592593, details={'actual_k': 0, 'was_impossible': False}),\n",
       " Prediction(uid='A1PE8P7ECRFUXM', iid='B002QDCP3Y', r_ui=4.0, est=4.063374480564824, details={'was_impossible': True, 'reason': 'User and/or item is unknown.'}),\n",
       " Prediction(uid='A1482ISQT966WC', iid='B0036WT1V8', r_ui=5.0, est=3.6620689655172414, details={'actual_k': 0, 'was_impossible': False}),\n",
       " Prediction(uid='A1GH86634C3CX6', iid='B003VAHYTG', r_ui=3.0, est=4.063374480564824, details={'was_impossible': True, 'reason': 'User and/or item is unknown.'}),\n",
       " Prediction(uid='A1UABVD3QRAQZB', iid='B005ARQV6U', r_ui=5.0, est=4.063374480564824, details={'was_impossible': True, 'reason': 'User and/or item is unknown.'}),\n",
       " Prediction(uid='A1VM6XDJYUGJSL', iid='B002ORUUAC', r_ui=5.0, est=4.224489795918367, details={'actual_k': 0, 'was_impossible': False}),\n",
       " Prediction(uid='A2ZM6C4HHZ6GDE', iid='B000UV4EU6', r_ui=5.0, est=4.063374480564824, details={'was_impossible': True, 'reason': 'User and/or item is unknown.'}),\n",
       " Prediction(uid='A3HTSKEQBZ5A9R', iid='B003WGJYCY', r_ui=4.0, est=4.063374480564824, details={'was_impossible': True, 'reason': 'User and/or item is unknown.'}),\n",
       " Prediction(uid='A1UWBM22TU08EE', iid='B001B8R03U', r_ui=5.0, est=3.4785992217898833, details={'actual_k': 0, 'was_impossible': False}),\n",
       " Prediction(uid='AH3HF18AOSBGD', iid='B007POASC4', r_ui=1.0, est=4.063374480564824, details={'was_impossible': True, 'reason': 'User and/or item is unknown.'}),\n",
       " Prediction(uid='A1XU5BVB08FWQ2', iid='B002A8KIRU', r_ui=1.0, est=4.063374480564824, details={'was_impossible': True, 'reason': 'User and/or item is unknown.'}),\n",
       " Prediction(uid='A1MFN9PT864H9H', iid='B002IUG14O', r_ui=5.0, est=3.4220665499124343, details={'actual_k': 0, 'was_impossible': False}),\n",
       " Prediction(uid='A120RG9ADUD976', iid='B0096YOQDS', r_ui=5.0, est=4.063374480564824, details={'was_impossible': True, 'reason': 'User and/or item is unknown.'}),\n",
       " Prediction(uid='AKFDGASEZPCA3', iid='B004D8NZ52', r_ui=4.0, est=4.554049780656505, details={'actual_k': 1, 'was_impossible': False}),\n",
       " Prediction(uid='A1IH1OLFO9FSE9', iid='B00622AG6S', r_ui=5.0, est=4.063374480564824, details={'was_impossible': True, 'reason': 'User and/or item is unknown.'}),\n",
       " Prediction(uid='A2RK3N2EQ47RDH', iid='B00141AYM8', r_ui=5.0, est=4.158730158730159, details={'actual_k': 0, 'was_impossible': False}),\n",
       " Prediction(uid='A88H7FVEYXE3T', iid='B00BI22U3O', r_ui=2.0, est=3.9338235294117645, details={'actual_k': 0, 'was_impossible': False}),\n",
       " Prediction(uid='A3MG1I565VYHCE', iid='B002G0CWSU', r_ui=5.0, est=4.063374480564824, details={'was_impossible': True, 'reason': 'User and/or item is unknown.'}),\n",
       " Prediction(uid='A2PJE2608AKYTR', iid='B00HNFPZF0', r_ui=5.0, est=5, details={'actual_k': 2, 'was_impossible': False}),\n",
       " Prediction(uid='A12LAN1PU0ORI5', iid='B005HP3OB0', r_ui=5.0, est=4.158730158730159, details={'actual_k': 0, 'was_impossible': False}),\n",
       " Prediction(uid='AKMZX63A1BDI8', iid='B0031VVHSE', r_ui=5.0, est=3.918918918918919, details={'actual_k': 0, 'was_impossible': False}),\n",
       " Prediction(uid='A27JSOMYG5FAV4', iid='B00FCMV8ES', r_ui=5.0, est=4.030612244897959, details={'actual_k': 0, 'was_impossible': False}),\n",
       " Prediction(uid='A4JDZF0DOIKFS', iid='B00B0O1BWG', r_ui=4.0, est=4.179632248939179, details={'actual_k': 0, 'was_impossible': False}),\n",
       " Prediction(uid='A1XN44SS6KTUAP', iid='B004RL6QUQ', r_ui=4.0, est=4.516339869281046, details={'actual_k': 0, 'was_impossible': False}),\n",
       " Prediction(uid='A2K78SHBDIJ8ZM', iid='B006P88VSE', r_ui=5.0, est=3.973421926910299, details={'actual_k': 0, 'was_impossible': False}),\n",
       " Prediction(uid='ADXT545IX0V8', iid='B004NY9UV4', r_ui=5.0, est=4.063374480564824, details={'was_impossible': True, 'reason': 'User and/or item is unknown.'}),\n",
       " Prediction(uid='A2ASYPDFZNCX96', iid='B005NF5NTK', r_ui=2.0, est=4.063374480564824, details={'was_impossible': True, 'reason': 'User and/or item is unknown.'}),\n",
       " Prediction(uid='A4ZD7XDGI8DQI', iid='B005M1QP7O', r_ui=5.0, est=4.063374480564824, details={'was_impossible': True, 'reason': 'User and/or item is unknown.'}),\n",
       " Prediction(uid='A1L7DWA4GOO0L7', iid='B005SNPTRS', r_ui=2.0, est=4.063374480564824, details={'was_impossible': True, 'reason': 'User and/or item is unknown.'}),\n",
       " Prediction(uid='A28LCLQ0713OHA', iid='B00BT7RAPG', r_ui=5.0, est=4.063374480564824, details={'was_impossible': True, 'reason': 'User and/or item is unknown.'}),\n",
       " Prediction(uid='A3P19TWTTW2ARO', iid='B000VX6XL6', r_ui=3.0, est=4.063374480564824, details={'was_impossible': True, 'reason': 'User and/or item is unknown.'}),\n",
       " Prediction(uid='A18CKLZYLBZQ0I', iid='B001TIG36C', r_ui=5.0, est=4.063374480564824, details={'was_impossible': True, 'reason': 'User and/or item is unknown.'}),\n",
       " Prediction(uid='A17C643VME1YIQ', iid='B0032GU1LW', r_ui=3.0, est=3.1444444444444444, details={'actual_k': 0, 'was_impossible': False}),\n",
       " Prediction(uid='A1IWK2QPG2AXK5', iid='B00EZAX2LA', r_ui=3.0, est=4.063374480564824, details={'was_impossible': True, 'reason': 'User and/or item is unknown.'}),\n",
       " Prediction(uid='A2224YV8ORK7R0', iid='B00165XQWW', r_ui=5.0, est=4.063374480564824, details={'was_impossible': True, 'reason': 'User and/or item is unknown.'}),\n",
       " Prediction(uid='A2D3BBD9EQ7KVR', iid='B000RMQZ96', r_ui=1.0, est=3.4651162790697674, details={'actual_k': 0, 'was_impossible': False}),\n",
       " Prediction(uid='A16ESSU7FFQ09R', iid='B0013B2EWC', r_ui=5.0, est=4.36, details={'actual_k': 0, 'was_impossible': False}),\n",
       " Prediction(uid='A2F0EEJRERJQH', iid='B009USAJCC', r_ui=5.0, est=4.063374480564824, details={'was_impossible': True, 'reason': 'User and/or item is unknown.'}),\n",
       " Prediction(uid='A2K85QHOSCPTQ6', iid='B000CD8BGU', r_ui=5.0, est=3.5714285714285716, details={'actual_k': 0, 'was_impossible': False}),\n",
       " Prediction(uid='A3040IDJB1VLJW', iid='B003ZSP0WW', r_ui=5.0, est=4.063374480564824, details={'was_impossible': True, 'reason': 'User and/or item is unknown.'}),\n",
       " Prediction(uid='A2QY8VVLCHEU5L', iid='B001LL5JDA', r_ui=4.0, est=4.669239250275634, details={'actual_k': 0, 'was_impossible': False}),\n",
       " Prediction(uid='A3LAUPRB2YC4CX', iid='B003NS0UUQ', r_ui=5.0, est=4.063374480564824, details={'was_impossible': True, 'reason': 'User and/or item is unknown.'}),\n",
       " Prediction(uid='A135GQLATGAJ78', iid='B00ABMTV98', r_ui=5.0, est=4.063374480564824, details={'was_impossible': True, 'reason': 'User and/or item is unknown.'}),\n",
       " Prediction(uid='ACOY27B8M8MU9', iid='B004TIIBMS', r_ui=5.0, est=3.933422103861518, details={'actual_k': 0, 'was_impossible': False}),\n",
       " Prediction(uid='A1G2J24FORJY5', iid='B003XE3X8Q', r_ui=4.0, est=4.063374480564824, details={'was_impossible': True, 'reason': 'User and/or item is unknown.'}),\n",
       " Prediction(uid='AOXMNP16RWUMX', iid='B002RWJDB6', r_ui=1.0, est=3.6732204360693537, details={'actual_k': 1, 'was_impossible': False}),\n",
       " Prediction(uid='A28NNNFPZRHAO3', iid='B002C7481G', r_ui=5.0, est=4.876876876876877, details={'actual_k': 1, 'was_impossible': False}),\n",
       " Prediction(uid='A319KV7K503M0A', iid='B003IVZVDO', r_ui=5.0, est=3.682926829268293, details={'actual_k': 0, 'was_impossible': False}),\n",
       " Prediction(uid='A30WGI9NT5FTNR', iid='B004YIFKRM', r_ui=5.0, est=4.063374480564824, details={'was_impossible': True, 'reason': 'User and/or item is unknown.'}),\n",
       " Prediction(uid='A2C03U37733XYY', iid='B00AD7XOS0', r_ui=3.0, est=4.088235294117647, details={'actual_k': 0, 'was_impossible': False}),\n",
       " Prediction(uid='AI6GJ0TDRJFZP', iid='B00CXADBRY', r_ui=4.0, est=3.7269076305220885, details={'actual_k': 0, 'was_impossible': False}),\n",
       " Prediction(uid='A1MKJ1IFRQ9DU8', iid='B0023RRNP8', r_ui=5.0, est=4.063374480564824, details={'was_impossible': True, 'reason': 'User and/or item is unknown.'}),\n",
       " Prediction(uid='AI8IYKLXB7B87', iid='B004QX6E4S', r_ui=5.0, est=4.063374480564824, details={'was_impossible': True, 'reason': 'User and/or item is unknown.'}),\n",
       " Prediction(uid='A3D0A2ELY0VPUU', iid='B002LKWKWS', r_ui=1.0, est=2.051282051282051, details={'actual_k': 0, 'was_impossible': False}),\n",
       " Prediction(uid='A74XVZ1UKZ2ID', iid='B0035FZJKI', r_ui=1.0, est=3.853470437017995, details={'actual_k': 0, 'was_impossible': False}),\n",
       " Prediction(uid='AQCGI2Y22B8JE', iid='B001G0WPLK', r_ui=5.0, est=3.983957219251337, details={'actual_k': 0, 'was_impossible': False}),\n",
       " Prediction(uid='A12FEQHI898W1T', iid='B00IF4OATU', r_ui=5.0, est=4.634615384615385, details={'actual_k': 0, 'was_impossible': False}),\n",
       " Prediction(uid='A1D9DASHAMAS31', iid='B002ZIMEMW', r_ui=5.0, est=4.378262062771318, details={'actual_k': 1, 'was_impossible': False}),\n",
       " Prediction(uid='AUGKXQ63ANPE6', iid='B002LITT42', r_ui=1.0, est=4.359183673469388, details={'actual_k': 0, 'was_impossible': False}),\n",
       " Prediction(uid='A3O01XU6S09ULH', iid='B00D5T3QK4', r_ui=5.0, est=4.063374480564824, details={'was_impossible': True, 'reason': 'User and/or item is unknown.'}),\n",
       " Prediction(uid='AKET3SC2AJRJE', iid='B00A84E4BO', r_ui=5.0, est=4.063374480564824, details={'was_impossible': True, 'reason': 'User and/or item is unknown.'}),\n",
       " Prediction(uid='A2ABVBLJVCBVI1', iid='B005A0B7CA', r_ui=5.0, est=4.063374480564824, details={'was_impossible': True, 'reason': 'User and/or item is unknown.'}),\n",
       " Prediction(uid='A3QVCZNMGM2WWY', iid='B00127Y3SA', r_ui=1.0, est=4.063374480564824, details={'was_impossible': True, 'reason': 'User and/or item is unknown.'}),\n",
       " Prediction(uid='A3RNGT95JWJ6OV', iid='B0072XQI2W', r_ui=5.0, est=4.063374480564824, details={'was_impossible': True, 'reason': 'User and/or item is unknown.'}),\n",
       " Prediction(uid='A2W3CDY1E7KSZF', iid='B000S5Q9CA', r_ui=1.0, est=4.063374480564824, details={'was_impossible': True, 'reason': 'User and/or item is unknown.'}),\n",
       " Prediction(uid='AWIYZ69QUI5GZ', iid='B004D4N1PU', r_ui=3.0, est=2.893258426966292, details={'actual_k': 0, 'was_impossible': False}),\n",
       " Prediction(uid='A3YTPWV0KF03V', iid='B00139VKV0', r_ui=2.0, est=4.063374480564824, details={'was_impossible': True, 'reason': 'User and/or item is unknown.'}),\n",
       " Prediction(uid='A188Y0ZYBJ6GIH', iid='B008MCZHVU', r_ui=5.0, est=3.923076923076923, details={'actual_k': 0, 'was_impossible': False}),\n",
       " Prediction(uid='A2AR8J7GOHVJ5Y', iid='B0046ZH10M', r_ui=1.0, est=4.063374480564824, details={'was_impossible': True, 'reason': 'User and/or item is unknown.'}),\n",
       " Prediction(uid='A2NKFAT8FSV0OC', iid='B007G92MG8', r_ui=5.0, est=4.063374480564824, details={'was_impossible': True, 'reason': 'User and/or item is unknown.'}),\n",
       " Prediction(uid='A1PMU4ICEWIOZW', iid='B004HO58NO', r_ui=5.0, est=4.063374480564824, details={'was_impossible': True, 'reason': 'User and/or item is unknown.'}),\n",
       " Prediction(uid='AW9LD631X0HWK', iid='B0052SCU8U', r_ui=5.0, est=4.063374480564824, details={'was_impossible': True, 'reason': 'User and/or item is unknown.'}),\n",
       " Prediction(uid='A2I7UPE4NNTX8W', iid='B000BYCNM8', r_ui=5.0, est=4.063374480564824, details={'was_impossible': True, 'reason': 'User and/or item is unknown.'}),\n",
       " Prediction(uid='AQM1EZBCCJPS4', iid='B003AILH6A', r_ui=2.0, est=4.34375, details={'actual_k': 0, 'was_impossible': False}),\n",
       " Prediction(uid='ABYGNL7WLC81', iid='B0001GZ87I', r_ui=5.0, est=4.063374480564824, details={'was_impossible': True, 'reason': 'User and/or item is unknown.'}),\n",
       " Prediction(uid='AUSYHLF1A2F0E', iid='B00009R6TA', r_ui=1.0, est=4.063374480564824, details={'was_impossible': True, 'reason': 'User and/or item is unknown.'}),\n",
       " Prediction(uid='A2JGG29DD5OFAX', iid='B0027BUS0M', r_ui=5.0, est=4.063374480564824, details={'was_impossible': True, 'reason': 'User and/or item is unknown.'}),\n",
       " Prediction(uid='ADOYHBAL8UD7J', iid='B00AIRUOI8', r_ui=4.0, est=4.063374480564824, details={'was_impossible': True, 'reason': 'User and/or item is unknown.'}),\n",
       " Prediction(uid='AY8Y669E6EC3O', iid='B005J7YA3W', r_ui=5.0, est=4.063374480564824, details={'was_impossible': True, 'reason': 'User and/or item is unknown.'}),\n",
       " Prediction(uid='A2NPTQQJD2V6C5', iid='B001SEQPHE', r_ui=3.0, est=4.063374480564824, details={'was_impossible': True, 'reason': 'User and/or item is unknown.'}),\n",
       " Prediction(uid='A1E4LBO01JHNFL', iid='B00023JJV6', r_ui=5.0, est=4.063374480564824, details={'was_impossible': True, 'reason': 'User and/or item is unknown.'}),\n",
       " Prediction(uid='A36PV9MMA7B2PO', iid='B00083Y4B0', r_ui=5.0, est=3.7872340425531914, details={'actual_k': 0, 'was_impossible': False}),\n",
       " Prediction(uid='A30WPUS9CGB556', iid='B00020E4QO', r_ui=2.0, est=4.063374480564824, details={'was_impossible': True, 'reason': 'User and/or item is unknown.'}),\n",
       " Prediction(uid='AHBCQ1TOBU6UR', iid='B0039BPG1K', r_ui=5.0, est=4.375, details={'actual_k': 0, 'was_impossible': False}),\n",
       " Prediction(uid='A1E5WXNTI7EO2A', iid='B0097CZHAU', r_ui=4.0, est=4.1340129189773265, details={'actual_k': 3, 'was_impossible': False}),\n",
       " Prediction(uid='A2TE4QS5NEJ19F', iid='B005QBK5V2', r_ui=5.0, est=4.063374480564824, details={'was_impossible': True, 'reason': 'User and/or item is unknown.'}),\n",
       " Prediction(uid='AQQXJKDIEWHU3', iid='B00BHSI5QA', r_ui=1.0, est=4.063374480564824, details={'was_impossible': True, 'reason': 'User and/or item is unknown.'}),\n",
       " Prediction(uid='A1UV1S4FUI2JMF', iid='B00746LVOM', r_ui=1.0, est=1, details={'actual_k': 1, 'was_impossible': False}),\n",
       " Prediction(uid='A1F659NPV9OX86', iid='B000MFG44Y', r_ui=1.0, est=3.2915451895043732, details={'actual_k': 0, 'was_impossible': False}),\n",
       " Prediction(uid='A2N5XB0FHK6QW9', iid='B0018DQYQ2', r_ui=1.0, est=4.063374480564824, details={'was_impossible': True, 'reason': 'User and/or item is unknown.'}),\n",
       " Prediction(uid='A2IMADOBHWB3R6', iid='B005PSLFGA', r_ui=4.0, est=4.75447512442999, details={'actual_k': 1, 'was_impossible': False}),\n",
       " Prediction(uid='A2TJVZ8B1F0W72', iid='B000MSC4Z4', r_ui=4.0, est=4.063374480564824, details={'was_impossible': True, 'reason': 'User and/or item is unknown.'}),\n",
       " Prediction(uid='AO6UPF2DQI4BF', iid='B008U3038I', r_ui=4.0, est=4.083333333333333, details={'actual_k': 0, 'was_impossible': False}),\n",
       " Prediction(uid='A17FYFDILT57M0', iid='B0001FTVEK', r_ui=2.0, est=4.004541811381245, details={'actual_k': 0, 'was_impossible': False}),\n",
       " Prediction(uid='ATGG0Y12E01XA', iid='B002L5QGQ4', r_ui=5.0, est=4.063374480564824, details={'was_impossible': True, 'reason': 'User and/or item is unknown.'}),\n",
       " Prediction(uid='A1YJIG6JMX7LIU', iid='B0019FGK90', r_ui=4.0, est=4.063374480564824, details={'was_impossible': True, 'reason': 'User and/or item is unknown.'}),\n",
       " Prediction(uid='A1OMJ3MC0P1S1R', iid='B004M5H660', r_ui=5.0, est=4.063374480564824, details={'was_impossible': True, 'reason': 'User and/or item is unknown.'}),\n",
       " Prediction(uid='ARA16FJLTBFVB', iid='B002CIBK0W', r_ui=2.0, est=4.081081081081081, details={'actual_k': 0, 'was_impossible': False}),\n",
       " Prediction(uid='A3LZXUGYD2YF7Q', iid='B008ATLJGC', r_ui=5.0, est=4.391891891891892, details={'actual_k': 0, 'was_impossible': False}),\n",
       " Prediction(uid='A1R0ZCSU5GLRY3', iid='B002KGXB0I', r_ui=1.0, est=4.063374480564824, details={'was_impossible': True, 'reason': 'User and/or item is unknown.'}),\n",
       " Prediction(uid='A12GBRX2D1AEFH', iid='B00EZ9XG62', r_ui=3.0, est=3.8738317757009346, details={'actual_k': 0, 'was_impossible': False}),\n",
       " Prediction(uid='A19VE6AGCWVWCX', iid='B0018P7WZ2', r_ui=5.0, est=4.063374480564824, details={'was_impossible': True, 'reason': 'User and/or item is unknown.'}),\n",
       " Prediction(uid='AKDJ5OQVLP1VQ', iid='B000BDH2XY', r_ui=5.0, est=4.063374480564824, details={'was_impossible': True, 'reason': 'User and/or item is unknown.'}),\n",
       " Prediction(uid='A26U6HU35KBSWV', iid='B0017O3UHI', r_ui=4.0, est=4.225609756097561, details={'actual_k': 0, 'was_impossible': False}),\n",
       " Prediction(uid='A2K0C46FJ1K1AA', iid='B00DR0PDNE', r_ui=5.0, est=2.5651572896746972, details={'actual_k': 3, 'was_impossible': False}),\n",
       " Prediction(uid='A3N7LXF5MRFNDK', iid='B0034CL2ZI', r_ui=5.0, est=4.063374480564824, details={'was_impossible': True, 'reason': 'User and/or item is unknown.'}),\n",
       " Prediction(uid='A2HWA3EBKZT444', iid='B00932N46S', r_ui=5.0, est=5, details={'actual_k': 1, 'was_impossible': False}),\n",
       " Prediction(uid='AUIMJB0P73ZR9', iid='B005S0XYKK', r_ui=4.0, est=4.063374480564824, details={'was_impossible': True, 'reason': 'User and/or item is unknown.'}),\n",
       " Prediction(uid='AAIU4V0FTRZ2N', iid='B001AMSPAO', r_ui=5.0, est=3.860215053763441, details={'actual_k': 0, 'was_impossible': False}),\n",
       " Prediction(uid='AM8EA8ZW018UG', iid='B006W41W7S', r_ui=5.0, est=3.6370262390670556, details={'actual_k': 0, 'was_impossible': False}),\n",
       " Prediction(uid='A112CNJ08P5QO0', iid='B009ZGK6QS', r_ui=5.0, est=4.063374480564824, details={'was_impossible': True, 'reason': 'User and/or item is unknown.'}),\n",
       " Prediction(uid='AGHVYA0P4A24S', iid='B001TUYTZM', r_ui=5.0, est=4.063374480564824, details={'was_impossible': True, 'reason': 'User and/or item is unknown.'}),\n",
       " Prediction(uid='A1I3BT13CQPZJ', iid='B00CQ35C1Q', r_ui=4.0, est=4.124542124542124, details={'actual_k': 0, 'was_impossible': False}),\n",
       " Prediction(uid='A3UNE2Q4DLR7ZN', iid='B00894YP00', r_ui=5.0, est=5, details={'actual_k': 1, 'was_impossible': False}),\n",
       " Prediction(uid='A3DHISASZ7CMOF', iid='B000EFIJTA', r_ui=5.0, est=4.375, details={'actual_k': 0, 'was_impossible': False}),\n",
       " Prediction(uid='A35I68KBB52IUT', iid='B00025O7LQ', r_ui=5.0, est=4.491803278688525, details={'actual_k': 0, 'was_impossible': False}),\n",
       " Prediction(uid='A23WXDKU27KGQZ', iid='B000V5MBOM', r_ui=5.0, est=3.896551724137931, details={'actual_k': 0, 'was_impossible': False}),\n",
       " Prediction(uid='AJA0AZ7XGECKI', iid='B004GUT1QO', r_ui=5.0, est=4.063374480564824, details={'was_impossible': True, 'reason': 'User and/or item is unknown.'}),\n",
       " Prediction(uid='A2OZGK8B43K7CR', iid='B003H05MGC', r_ui=5.0, est=4.063374480564824, details={'was_impossible': True, 'reason': 'User and/or item is unknown.'}),\n",
       " Prediction(uid='ALJPJJ4383H32', iid='B008YFT6Q2', r_ui=5.0, est=4.063374480564824, details={'was_impossible': True, 'reason': 'User and/or item is unknown.'}),\n",
       " Prediction(uid='A3MSDZ7KLMRGRR', iid='B0002MQGKE', r_ui=5.0, est=4.063374480564824, details={'was_impossible': True, 'reason': 'User and/or item is unknown.'}),\n",
       " Prediction(uid='A33L1KI9JA0MEZ', iid='B0030BZ7HM', r_ui=3.0, est=4.063374480564824, details={'was_impossible': True, 'reason': 'User and/or item is unknown.'}),\n",
       " Prediction(uid='A38SSB785IUGTB', iid='B00EN27SHY', r_ui=5.0, est=4.063374480564824, details={'was_impossible': True, 'reason': 'User and/or item is unknown.'}),\n",
       " Prediction(uid='A1IFF0ILA0QEYM', iid='B000MVJ1M0', r_ui=5.0, est=4.063374480564824, details={'was_impossible': True, 'reason': 'User and/or item is unknown.'}),\n",
       " Prediction(uid='A1I0YXAF33JSYF', iid='B003ZUXXWO', r_ui=5.0, est=4.063374480564824, details={'was_impossible': True, 'reason': 'User and/or item is unknown.'}),\n",
       " Prediction(uid='A2FUMBORC5EMXG', iid='B000001OMI', r_ui=5.0, est=3.6578947368421053, details={'actual_k': 0, 'was_impossible': False}),\n",
       " Prediction(uid='A2G7HEM0AJTY2Z', iid='B009LL9VDG', r_ui=4.0, est=4.063374480564824, details={'was_impossible': True, 'reason': 'User and/or item is unknown.'}),\n",
       " Prediction(uid='A1S7YQQGJPPFLG', iid='B005KP473Q', r_ui=5.0, est=5, details={'actual_k': 1, 'was_impossible': False}),\n",
       " Prediction(uid='A25L8Z2GE7VPCX', iid='B002CMLDT6', r_ui=5.0, est=3.911594202898551, details={'actual_k': 0, 'was_impossible': False}),\n",
       " Prediction(uid='AJHA2EV70EZP1', iid='B002RWJD7A', r_ui=5.0, est=4.063374480564824, details={'was_impossible': True, 'reason': 'User and/or item is unknown.'}),\n",
       " Prediction(uid='A2ZPUPNKC6JEL7', iid='B001V9LA44', r_ui=4.0, est=4.093093093093093, details={'actual_k': 0, 'was_impossible': False}),\n",
       " Prediction(uid='A3UOSDW1Z32S68', iid='B00081A2KY', r_ui=5.0, est=4.915961631732342, details={'actual_k': 3, 'was_impossible': False}),\n",
       " Prediction(uid='AVIJBLNLEBGIM', iid='B0089VO7MY', r_ui=5.0, est=3.625730994152047, details={'actual_k': 0, 'was_impossible': False}),\n",
       " Prediction(uid='A3DV7EA7MSEPWI', iid='B00622AG6S', r_ui=5.0, est=5, details={'actual_k': 1, 'was_impossible': False}),\n",
       " Prediction(uid='ASISGEIK2DZEZ', iid='B0011ZCDKS', r_ui=5.0, est=4.063374480564824, details={'was_impossible': True, 'reason': 'User and/or item is unknown.'}),\n",
       " Prediction(uid='A2PI5XNEANFRM8', iid='B007S0X9YE', r_ui=5.0, est=4.063374480564824, details={'was_impossible': True, 'reason': 'User and/or item is unknown.'}),\n",
       " Prediction(uid='A3NPLW984IICX8', iid='B008B6UA8M', r_ui=5.0, est=4.063374480564824, details={'was_impossible': True, 'reason': 'User and/or item is unknown.'}),\n",
       " Prediction(uid='A1KHCQL3PSC9XO', iid='B001MQ88SC', r_ui=4.0, est=4.0, details={'actual_k': 0, 'was_impossible': False}),\n",
       " Prediction(uid='A32NQQW0PTULMD', iid='B008PO5CSI', r_ui=3.0, est=4.422413793103448, details={'actual_k': 0, 'was_impossible': False}),\n",
       " Prediction(uid='A1P8BE4GUQN3UT', iid='B007XOQ3BQ', r_ui=5.0, est=4.063374480564824, details={'was_impossible': True, 'reason': 'User and/or item is unknown.'}),\n",
       " Prediction(uid='A12X47944OAYY3', iid='B001498LIO', r_ui=5.0, est=4.063374480564824, details={'was_impossible': True, 'reason': 'User and/or item is unknown.'}),\n",
       " Prediction(uid='A32ORGSQGR0FFJ', iid='B0009JR82U', r_ui=5.0, est=4.063374480564824, details={'was_impossible': True, 'reason': 'User and/or item is unknown.'}),\n",
       " Prediction(uid='AO7Z2Q9N0VCRX', iid='B00EUVB2C0', r_ui=2.0, est=4.063374480564824, details={'was_impossible': True, 'reason': 'User and/or item is unknown.'}),\n",
       " Prediction(uid='A1P3I7YCWXF9YG', iid='B00CH643A8', r_ui=5.0, est=4.063374480564824, details={'was_impossible': True, 'reason': 'User and/or item is unknown.'}),\n",
       " Prediction(uid='A35CNEQ0JGP11A', iid='B007B31IAK', r_ui=4.0, est=4.063374480564824, details={'was_impossible': True, 'reason': 'User and/or item is unknown.'}),\n",
       " Prediction(uid='A7DGB35U3DLU6', iid='B00006B9HK', r_ui=5.0, est=3.8536585365853657, details={'actual_k': 0, 'was_impossible': False}),\n",
       " Prediction(uid='A3IC9ARCF81DCR', iid='B002AH2AH2', r_ui=2.0, est=4.063374480564824, details={'was_impossible': True, 'reason': 'User and/or item is unknown.'}),\n",
       " Prediction(uid='A3TPFCB3MHN9D7', iid='B0002ZW5W4', r_ui=5.0, est=4.063374480564824, details={'was_impossible': True, 'reason': 'User and/or item is unknown.'}),\n",
       " Prediction(uid='A5CTVT8XI9MR0', iid='B001FA1NZU', r_ui=4.0, est=4.922349585336221, details={'actual_k': 1, 'was_impossible': False}),\n",
       " Prediction(uid='AYHVV05GXJKMM', iid='B00FGOTA6K', r_ui=5.0, est=4.063374480564824, details={'was_impossible': True, 'reason': 'User and/or item is unknown.'}),\n",
       " Prediction(uid='A1OIYK29JO09YL', iid='B002RCNX8K', r_ui=4.0, est=4.063374480564824, details={'was_impossible': True, 'reason': 'User and/or item is unknown.'}),\n",
       " Prediction(uid='A1W3PY4STG3KBO', iid='B0079M711S', r_ui=5.0, est=4.063374480564824, details={'was_impossible': True, 'reason': 'User and/or item is unknown.'}),\n",
       " Prediction(uid='A2K0PSWJLZTY37', iid='B001FWBUUG', r_ui=3.0, est=4.056737588652482, details={'actual_k': 0, 'was_impossible': False}),\n",
       " Prediction(uid='A16CC1GK3TL3', iid='B004QKM5MG', r_ui=5.0, est=3.6413793103448278, details={'actual_k': 0, 'was_impossible': False}),\n",
       " Prediction(uid='A17X3FL5IQK7IT', iid='B00825BZUY', r_ui=5.0, est=4.063374480564824, details={'was_impossible': True, 'reason': 'User and/or item is unknown.'}),\n",
       " Prediction(uid='A2HTVOREDHM7UI', iid='B002OEBIHO', r_ui=5.0, est=4.063374480564824, details={'was_impossible': True, 'reason': 'User and/or item is unknown.'}),\n",
       " Prediction(uid='A1U98KYSKD7YUM', iid='B007R5YDYA', r_ui=5.0, est=4.6966551326412915, details={'actual_k': 0, 'was_impossible': False}),\n",
       " Prediction(uid='A1UZMYKAR7UK22', iid='B004I5BUSO', r_ui=4.0, est=4.063374480564824, details={'was_impossible': True, 'reason': 'User and/or item is unknown.'}),\n",
       " Prediction(uid='AP4PA4G5651C7', iid='B008CS9M9C', r_ui=3.0, est=4.063374480564824, details={'was_impossible': True, 'reason': 'User and/or item is unknown.'}),\n",
       " Prediction(uid='ASMMILSN6QOYH', iid='B004NY9UV4', r_ui=5.0, est=4.27035175879397, details={'actual_k': 0, 'was_impossible': False}),\n",
       " Prediction(uid='A3NVLXRZRHLBZE', iid='B007PJVB3Y', r_ui=4.0, est=4.707692307692308, details={'actual_k': 0, 'was_impossible': False}),\n",
       " Prediction(uid='A1EPULBN4HVVL9', iid='B007M50PTM', r_ui=5.0, est=3.0704092313683007, details={'actual_k': 1, 'was_impossible': False}),\n",
       " Prediction(uid='A1SCLUVBF4CTVP', iid='B0015HYPOO', r_ui=4.0, est=4.405099150141643, details={'actual_k': 0, 'was_impossible': False}),\n",
       " Prediction(uid='AH32BK6OVLY93', iid='B0000659A7', r_ui=5.0, est=4.59375, details={'actual_k': 0, 'was_impossible': False}),\n",
       " Prediction(uid='A1BGE3EXIJ42XA', iid='B0052RM8T2', r_ui=4.0, est=3.1790633608815426, details={'actual_k': 0, 'was_impossible': False}),\n",
       " Prediction(uid='A3PNZRK79055T4', iid='B0096TKA7E', r_ui=4.0, est=4.063374480564824, details={'was_impossible': True, 'reason': 'User and/or item is unknown.'}),\n",
       " Prediction(uid='A2HPDFNAMI2Z49', iid='B005UG3KS8', r_ui=5.0, est=4.063374480564824, details={'was_impossible': True, 'reason': 'User and/or item is unknown.'}),\n",
       " Prediction(uid='AJGGM748RTA40', iid='B001FA1O0O', r_ui=5.0, est=4.3392048314041265, details={'actual_k': 0, 'was_impossible': False}),\n",
       " Prediction(uid='A1LXGC30B9JVF8', iid='B00A7BGORU', r_ui=1.0, est=4.063374480564824, details={'was_impossible': True, 'reason': 'User and/or item is unknown.'}),\n",
       " Prediction(uid='A15ZOXD6S9Z885', iid='B002PV3UO0', r_ui=5.0, est=4.602739726027397, details={'actual_k': 0, 'was_impossible': False}),\n",
       " Prediction(uid='A3J6X4T595OI4J', iid='B00A8EYS6U', r_ui=4.0, est=4.063374480564824, details={'was_impossible': True, 'reason': 'User and/or item is unknown.'}),\n",
       " Prediction(uid='A1B66GHIHXNDM4', iid='B004SD2562', r_ui=5.0, est=4.063374480564824, details={'was_impossible': True, 'reason': 'User and/or item is unknown.'}),\n",
       " Prediction(uid='A22119ECY874M5', iid='B004HO58SO', r_ui=5.0, est=5, details={'actual_k': 2, 'was_impossible': False}),\n",
       " Prediction(uid='A8RBWRZEZIR4V', iid='B000WXH1Z2', r_ui=5.0, est=4.063374480564824, details={'was_impossible': True, 'reason': 'User and/or item is unknown.'}),\n",
       " Prediction(uid='A1BIM3QA59CXIS', iid='B001PIBE8I', r_ui=5.0, est=4.063374480564824, details={'was_impossible': True, 'reason': 'User and/or item is unknown.'}),\n",
       " Prediction(uid='AJ4NOSQU479D8', iid='B00BGA9WK2', r_ui=4.0, est=4.063374480564824, details={'was_impossible': True, 'reason': 'User and/or item is unknown.'}),\n",
       " Prediction(uid='A2XV531AM8AXVP', iid='B000BQ7GW8', r_ui=3.0, est=4.5518883974140865, details={'actual_k': 0, 'was_impossible': False}),\n",
       " Prediction(uid='A1DLI5DIMU9O6W', iid='B007XW2WTK', r_ui=5.0, est=4.403225806451613, details={'actual_k': 0, 'was_impossible': False}),\n",
       " Prediction(uid='A13VXOAGMALUK6', iid='B00EK3STEW', r_ui=5.0, est=4.063374480564824, details={'was_impossible': True, 'reason': 'User and/or item is unknown.'}),\n",
       " Prediction(uid='A3UA4DNF1EPFC2', iid='B000031KIM', r_ui=5.0, est=4.063374480564824, details={'was_impossible': True, 'reason': 'User and/or item is unknown.'}),\n",
       " Prediction(uid='A139LZVNEIM41V', iid='B0047BNRJ4', r_ui=5.0, est=1.6224489795918366, details={'actual_k': 0, 'was_impossible': False}),\n",
       " Prediction(uid='A30SNEP7O4AQRF', iid='B007AQ2W2Q', r_ui=1.0, est=4.642857142857143, details={'actual_k': 0, 'was_impossible': False}),\n",
       " Prediction(uid='A3LMPHUEIRUGSM', iid='B005P5MISM', r_ui=3.0, est=4.063374480564824, details={'was_impossible': True, 'reason': 'User and/or item is unknown.'}),\n",
       " Prediction(uid='A1FP2LA6M2OJX0', iid='B007B5P6Y2', r_ui=5.0, est=4.523809523809524, details={'actual_k': 0, 'was_impossible': False}),\n",
       " Prediction(uid='APLTHQ7JAM3U8', iid='B00CMQTVK0', r_ui=4.0, est=3.8756544502617802, details={'actual_k': 0, 'was_impossible': False}),\n",
       " Prediction(uid='A6JLNN1P41LOR', iid='B003DZ1652', r_ui=2.0, est=4.063374480564824, details={'was_impossible': True, 'reason': 'User and/or item is unknown.'}),\n",
       " Prediction(uid='A2M75R3GWZFX9V', iid='B009VPBLCG', r_ui=5.0, est=4.063374480564824, details={'was_impossible': True, 'reason': 'User and/or item is unknown.'}),\n",
       " Prediction(uid='A1JSJLN28S73CK', iid='B000I64NTA', r_ui=5.0, est=4.078947368421052, details={'actual_k': 0, 'was_impossible': False}),\n",
       " Prediction(uid='AXZUI8SXYF0XD', iid='B007HRHOZI', r_ui=5.0, est=4.213333333333333, details={'actual_k': 0, 'was_impossible': False}),\n",
       " Prediction(uid='AAYL4PB0EUBOQ', iid='B002JQNXZC', r_ui=5.0, est=4.23021582733813, details={'actual_k': 0, 'was_impossible': False}),\n",
       " Prediction(uid='ATFMZ0SKVJFK4', iid='B0045FM6SU', r_ui=5.0, est=4.0344827586206895, details={'actual_k': 0, 'was_impossible': False}),\n",
       " Prediction(uid='A4B815IX335W0', iid='B00HEYVAN6', r_ui=5.0, est=4.063374480564824, details={'was_impossible': True, 'reason': 'User and/or item is unknown.'}),\n",
       " Prediction(uid='A2QYXLCEWNRTB0', iid='B000094Q77', r_ui=3.0, est=3.946078431372549, details={'actual_k': 0, 'was_impossible': False}),\n",
       " Prediction(uid='A2X04U1DHXJ7BW', iid='B00483WRZ6', r_ui=3.0, est=4.063374480564824, details={'was_impossible': True, 'reason': 'User and/or item is unknown.'}),\n",
       " Prediction(uid='A3CTT0I137G63J', iid='B005TN0MMY', r_ui=5.0, est=4.063374480564824, details={'was_impossible': True, 'reason': 'User and/or item is unknown.'}),\n",
       " Prediction(uid='A39TNV3DSQPGKN', iid='B00DR0BOSC', r_ui=4.0, est=4.063374480564824, details={'was_impossible': True, 'reason': 'User and/or item is unknown.'}),\n",
       " Prediction(uid='A2L96DXCXT76QY', iid='B0036SHAVK', r_ui=5.0, est=4.063374480564824, details={'was_impossible': True, 'reason': 'User and/or item is unknown.'}),\n",
       " Prediction(uid='ACNOQPMX93G7U', iid='B003VANOI6', r_ui=5.0, est=4.063374480564824, details={'was_impossible': True, 'reason': 'User and/or item is unknown.'}),\n",
       " Prediction(uid='A1R3GN9MEJFXM3', iid='B00G024X32', r_ui=5.0, est=4.970619571686827, details={'actual_k': 3, 'was_impossible': False}),\n",
       " Prediction(uid='A195SXKILLJEDX', iid='B002OHDFOA', r_ui=2.0, est=2.938202247191011, details={'actual_k': 0, 'was_impossible': False}),\n",
       " Prediction(uid='A6NKDO2UXIDVB', iid='B0049LBJ56', r_ui=5.0, est=4.063374480564824, details={'was_impossible': True, 'reason': 'User and/or item is unknown.'}),\n",
       " Prediction(uid='A3ISH8HDX2JYOI', iid='B00CRXZMXI', r_ui=5.0, est=4.063374480564824, details={'was_impossible': True, 'reason': 'User and/or item is unknown.'}),\n",
       " Prediction(uid='A2WHEYUOUVQYNZ', iid='B000HX6SFQ', r_ui=4.0, est=2.803921568627451, details={'actual_k': 0, 'was_impossible': False}),\n",
       " Prediction(uid='A135TQE2905ZBP', iid='B00BI4KSMM', r_ui=4.0, est=4.063374480564824, details={'was_impossible': True, 'reason': 'User and/or item is unknown.'}),\n",
       " Prediction(uid='AMW8ZKETKA9Y6', iid='B006R3231I', r_ui=1.0, est=3.6188811188811187, details={'actual_k': 0, 'was_impossible': False}),\n",
       " Prediction(uid='A17J42FHM2Q6MG', iid='B0069TC4Q4', r_ui=5.0, est=4.063374480564824, details={'was_impossible': True, 'reason': 'User and/or item is unknown.'}),\n",
       " Prediction(uid='A29DVV1OGO30U0', iid='B00EB7812C', r_ui=5.0, est=4.252525252525253, details={'actual_k': 0, 'was_impossible': False}),\n",
       " Prediction(uid='A1Z0X6TWHSLT1B', iid='B002MRMCKU', r_ui=5.0, est=4.063374480564824, details={'was_impossible': True, 'reason': 'User and/or item is unknown.'}),\n",
       " Prediction(uid='A5T9V94UQAZPK', iid='B000JCQKVM', r_ui=3.0, est=4.063374480564824, details={'was_impossible': True, 'reason': 'User and/or item is unknown.'}),\n",
       " Prediction(uid='A2XFBCZIIOV1CY', iid='B003MATPQK', r_ui=3.0, est=4.063374480564824, details={'was_impossible': True, 'reason': 'User and/or item is unknown.'}),\n",
       " Prediction(uid='A3JVCZPRJNBBKI', iid='B0019WF4FE', r_ui=3.0, est=4.063374480564824, details={'was_impossible': True, 'reason': 'User and/or item is unknown.'}),\n",
       " Prediction(uid='A2NB7RYHIC3WRN', iid='B004YLAYHA', r_ui=1.0, est=4.063374480564824, details={'was_impossible': True, 'reason': 'User and/or item is unknown.'}),\n",
       " Prediction(uid='A187W90AEU48VN', iid='B000HI9O5W', r_ui=5.0, est=4.063374480564824, details={'was_impossible': True, 'reason': 'User and/or item is unknown.'}),\n",
       " Prediction(uid='A7C3DBG4GJ4S7', iid='B006XAGB1S', r_ui=4.0, est=4.063374480564824, details={'was_impossible': True, 'reason': 'User and/or item is unknown.'}),\n",
       " Prediction(uid='A1V68FKRVCHHYM', iid='B005LFYCM6', r_ui=5.0, est=4.063374480564824, details={'was_impossible': True, 'reason': 'User and/or item is unknown.'}),\n",
       " Prediction(uid='AI965287LVSTR', iid='B0007XJSQC', r_ui=5.0, est=4.085782366957903, details={'actual_k': 0, 'was_impossible': False}),\n",
       " Prediction(uid='A3U4L44YZ8DT9T', iid='B004N85YB0', r_ui=2.0, est=2.928888888888889, details={'actual_k': 0, 'was_impossible': False}),\n",
       " Prediction(uid='A1JFGMY0QWOWF4', iid='B005FVNGRI', r_ui=5.0, est=4.063374480564824, details={'was_impossible': True, 'reason': 'User and/or item is unknown.'}),\n",
       " Prediction(uid='A2ZCWNXAPYPNA3', iid='B0019WF4FE', r_ui=5.0, est=3.406926406926407, details={'actual_k': 0, 'was_impossible': False}),\n",
       " Prediction(uid='A2YW9GTM4KHVZ', iid='B004WONCQE', r_ui=4.0, est=4.063374480564824, details={'was_impossible': True, 'reason': 'User and/or item is unknown.'}),\n",
       " Prediction(uid='A350Q8038YQHXN', iid='B005DIYQA4', r_ui=5.0, est=4.432098765432099, details={'actual_k': 0, 'was_impossible': False}),\n",
       " Prediction(uid='A26AEKIXZMOL9Z', iid='B005DKZTMG', r_ui=5.0, est=4.2783613445378155, details={'actual_k': 0, 'was_impossible': False}),\n",
       " Prediction(uid='A2UB09Y1HYMQ0R', iid='B004VM1T5S', r_ui=4.0, est=2.06657094835404, details={'actual_k': 1, 'was_impossible': False}),\n",
       " Prediction(uid='A1XS1O54TDNZLW', iid='B004J6GMLM', r_ui=1.0, est=4.0, details={'actual_k': 0, 'was_impossible': False}),\n",
       " Prediction(uid='A3806IQJSQDK8Z', iid='B009613MVS', r_ui=5.0, est=4.403323262839879, details={'actual_k': 0, 'was_impossible': False}),\n",
       " Prediction(uid='A1AH1VAFDN701K', iid='B00ATQF0DC', r_ui=5.0, est=4.063374480564824, details={'was_impossible': True, 'reason': 'User and/or item is unknown.'}),\n",
       " Prediction(uid='A3XUCE5ZE0ASI', iid='B006ZP8UOW', r_ui=1.0, est=4.097410241318423, details={'actual_k': 0, 'was_impossible': False}),\n",
       " Prediction(uid='A15YZIIKUDW4O6', iid='B001B077PO', r_ui=4.0, est=3.1574225122349104, details={'actual_k': 0, 'was_impossible': False}),\n",
       " Prediction(uid='A1K5HJEOS5CEGE', iid='B0041Q38NU', r_ui=5.0, est=4.063374480564824, details={'was_impossible': True, 'reason': 'User and/or item is unknown.'}),\n",
       " Prediction(uid='A1Y3CL24269GAV', iid='B000QUUFRW', r_ui=5.0, est=5, details={'actual_k': 3, 'was_impossible': False}),\n",
       " Prediction(uid='A13FN3T14KLPPU', iid='B0017U0WM8', r_ui=5.0, est=4.063374480564824, details={'was_impossible': True, 'reason': 'User and/or item is unknown.'}),\n",
       " Prediction(uid='A146BLER3DYYN', iid='B002BET3FG', r_ui=1.0, est=4.063374480564824, details={'was_impossible': True, 'reason': 'User and/or item is unknown.'}),\n",
       " Prediction(uid='A1EYR62PQGP42A', iid='B004ALYGI2', r_ui=5.0, est=4.063374480564824, details={'was_impossible': True, 'reason': 'User and/or item is unknown.'}),\n",
       " Prediction(uid='A1N5RLIE2ZTPOM', iid='B004K1EOB6', r_ui=1.0, est=4.063374480564824, details={'was_impossible': True, 'reason': 'User and/or item is unknown.'}),\n",
       " Prediction(uid='A16RU3SNS2ZOMF', iid='B000PCH3FI', r_ui=5.0, est=4.063374480564824, details={'was_impossible': True, 'reason': 'User and/or item is unknown.'}),\n",
       " Prediction(uid='A2V838J41OD6DS', iid='B00C8T7CXO', r_ui=4.0, est=3.9457142857142857, details={'actual_k': 0, 'was_impossible': False}),\n",
       " Prediction(uid='A2JCF1EGAN4ZWG', iid='B006NGHN5A', r_ui=5.0, est=4.063374480564824, details={'was_impossible': True, 'reason': 'User and/or item is unknown.'}),\n",
       " Prediction(uid='A172SKTBX0QH94', iid='B00A2L3J1Y', r_ui=4.0, est=4.063374480564824, details={'was_impossible': True, 'reason': 'User and/or item is unknown.'}),\n",
       " Prediction(uid='A3USQRTBFYE81Z', iid='B0074BW614', r_ui=5.0, est=4.49546520719312, details={'actual_k': 0, 'was_impossible': False}),\n",
       " Prediction(uid='A3DFPWTJHLOF8V', iid='B0002CPBWI', r_ui=5.0, est=4.063374480564824, details={'was_impossible': True, 'reason': 'User and/or item is unknown.'}),\n",
       " Prediction(uid='AWUM8CWDH7PWK', iid='B0015F1L7A', r_ui=4.0, est=4.136125654450262, details={'actual_k': 0, 'was_impossible': False}),\n",
       " Prediction(uid='A1NS66XYFCK50Q', iid='B000V1MLBE', r_ui=4.0, est=3.9809782608695654, details={'actual_k': 0, 'was_impossible': False}),\n",
       " Prediction(uid='A2UIZ2SUO4LCFD', iid='B007OY5V68', r_ui=4.0, est=4.063374480564824, details={'was_impossible': True, 'reason': 'User and/or item is unknown.'}),\n",
       " Prediction(uid='A24QVDV6RVI5V9', iid='B006WAGG14', r_ui=5.0, est=4.063374480564824, details={'was_impossible': True, 'reason': 'User and/or item is unknown.'}),\n",
       " Prediction(uid='A1TKWE78MT6BBM', iid='B00BGA9WK2', r_ui=5.0, est=4.063374480564824, details={'was_impossible': True, 'reason': 'User and/or item is unknown.'}),\n",
       " Prediction(uid='A327Z3X65QX9HC', iid='B002RWJD7A', r_ui=5.0, est=4.201165731251435, details={'actual_k': 2, 'was_impossible': False}),\n",
       " Prediction(uid='A2IRP9LTY6WDDQ', iid='B003C1AO2I', r_ui=5.0, est=4.063374480564824, details={'was_impossible': True, 'reason': 'User and/or item is unknown.'}),\n",
       " Prediction(uid='A35LAMM8WKY00I', iid='B00B71FJU2', r_ui=5.0, est=4.4125, details={'actual_k': 0, 'was_impossible': False}),\n",
       " Prediction(uid='A366KRWIN669D0', iid='B005DOUJL8', r_ui=1.0, est=4.063374480564824, details={'was_impossible': True, 'reason': 'User and/or item is unknown.'}),\n",
       " Prediction(uid='AYR86BSO26S5L', iid='B003X26VV4', r_ui=3.0, est=4.063374480564824, details={'was_impossible': True, 'reason': 'User and/or item is unknown.'}),\n",
       " Prediction(uid='A3U9A12ARRBFQ3', iid='B00D02AG7C', r_ui=5.0, est=4.063374480564824, details={'was_impossible': True, 'reason': 'User and/or item is unknown.'}),\n",
       " Prediction(uid='A3RMATWGSQVOW1', iid='B002HU629E', r_ui=4.0, est=4.063374480564824, details={'was_impossible': True, 'reason': 'User and/or item is unknown.'}),\n",
       " Prediction(uid='A2P0PLNACNF6CQ', iid='B00AGABISW', r_ui=5.0, est=4.063374480564824, details={'was_impossible': True, 'reason': 'User and/or item is unknown.'}),\n",
       " Prediction(uid='A10QK9UNKZG0IN', iid='B00009XVCZ', r_ui=5.0, est=4.063374480564824, details={'was_impossible': True, 'reason': 'User and/or item is unknown.'}),\n",
       " Prediction(uid='A1LW93HGONNQUU', iid='B0019RBJOE', r_ui=3.0, est=4.530096381160211, details={'actual_k': 1, 'was_impossible': False}),\n",
       " Prediction(uid='A3ROFM5ML3C4QU', iid='B009LL4VUE', r_ui=1.0, est=4.063374480564824, details={'was_impossible': True, 'reason': 'User and/or item is unknown.'}),\n",
       " Prediction(uid='A1JZZJSKU8JD2P', iid='B00DIOALPE', r_ui=4.0, est=4.063374480564824, details={'was_impossible': True, 'reason': 'User and/or item is unknown.'}),\n",
       " Prediction(uid='A2HEAHXQLMT21P', iid='B005GM5QTW', r_ui=5.0, est=4.063374480564824, details={'was_impossible': True, 'reason': 'User and/or item is unknown.'}),\n",
       " Prediction(uid='A29YNG10HWEFKN', iid='B002HWRJBM', r_ui=1.0, est=4.063374480564824, details={'was_impossible': True, 'reason': 'User and/or item is unknown.'}),\n",
       " Prediction(uid='AWKKOHZW1PJRU', iid='B0000AQI9E', r_ui=4.0, est=3.5421686746987953, details={'actual_k': 0, 'was_impossible': False}),\n",
       " Prediction(uid='A1COZ142K0QV6A', iid='B00542NV32', r_ui=5.0, est=4.063374480564824, details={'was_impossible': True, 'reason': 'User and/or item is unknown.'}),\n",
       " Prediction(uid='A2DC5Q839X6UZW', iid='B001NJTZUS', r_ui=1.0, est=4.059021922428331, details={'actual_k': 0, 'was_impossible': False}),\n",
       " Prediction(uid='A3HNMKMU0YJAN7', iid='B00609B3J2', r_ui=5.0, est=4.797941372225093, details={'actual_k': 1, 'was_impossible': False}),\n",
       " Prediction(uid='A10FRGQSF4E5KE', iid='B00EVVGAC6', r_ui=4.0, est=3.3338345864661654, details={'actual_k': 0, 'was_impossible': False}),\n",
       " Prediction(uid='A3EZSXBXQ8UO6R', iid='B0077V88VI', r_ui=5.0, est=3.6808510638297873, details={'actual_k': 0, 'was_impossible': False}),\n",
       " Prediction(uid='A1Q9D5O0RI21LJ', iid='B002VKMO0G', r_ui=3.0, est=3.556756756756757, details={'actual_k': 0, 'was_impossible': False}),\n",
       " Prediction(uid='AAP84AP9C626F', iid='B002OK5RMA', r_ui=4.0, est=3.9215686274509802, details={'actual_k': 0, 'was_impossible': False}),\n",
       " Prediction(uid='A1NHUUIJ8HXARE', iid='B00429N16A', r_ui=1.0, est=3.060419235511714, details={'actual_k': 0, 'was_impossible': False}),\n",
       " Prediction(uid='A2SYASIVSM702R', iid='B002CMLDT6', r_ui=5.0, est=4.063374480564824, details={'was_impossible': True, 'reason': 'User and/or item is unknown.'}),\n",
       " Prediction(uid='A1WZYP4PLD6JF8', iid='B0077E730M', r_ui=5.0, est=4.063374480564824, details={'was_impossible': True, 'reason': 'User and/or item is unknown.'}),\n",
       " Prediction(uid='A3KWA0UBXNC2QZ', iid='B0000510T7', r_ui=5.0, est=4.063374480564824, details={'was_impossible': True, 'reason': 'User and/or item is unknown.'}),\n",
       " Prediction(uid='A1SMZ18DUYXUBF', iid='B005HMKKH4', r_ui=3.0, est=4.3654117647058825, details={'actual_k': 0, 'was_impossible': False}),\n",
       " Prediction(uid='A1NC3198BZ3MTL', iid='B00768SBAU', r_ui=5.0, est=5, details={'actual_k': 1, 'was_impossible': False}),\n",
       " Prediction(uid='A12I1E0HR3BKY7', iid='B003FVJYF8', r_ui=5.0, est=5, details={'actual_k': 6, 'was_impossible': False}),\n",
       " Prediction(uid='A11TVZ4CXQ21SE', iid='B001NTFATI', r_ui=5.0, est=4.317073170731708, details={'actual_k': 0, 'was_impossible': False}),\n",
       " Prediction(uid='ACEWXAPIQJIZ3', iid='B000EGI7V4', r_ui=5.0, est=4.063374480564824, details={'was_impossible': True, 'reason': 'User and/or item is unknown.'}),\n",
       " Prediction(uid='A2B20VXXWWFGZZ', iid='B0098F5W0Q', r_ui=5.0, est=4.267352185089974, details={'actual_k': 0, 'was_impossible': False}),\n",
       " Prediction(uid='AEDA4WES03SZ5', iid='B0018P0S1M', r_ui=5.0, est=4.063374480564824, details={'was_impossible': True, 'reason': 'User and/or item is unknown.'}),\n",
       " Prediction(uid='AKTB8R7ACR3K0', iid='B0042AM7JQ', r_ui=5.0, est=4.063374480564824, details={'was_impossible': True, 'reason': 'User and/or item is unknown.'}),\n",
       " Prediction(uid='A2UW5001GS9RVS', iid='B00005QBUU', r_ui=5.0, est=3.9693251533742333, details={'actual_k': 0, 'was_impossible': False}),\n",
       " Prediction(uid='A2E8Z1CHLQYP7J', iid='B008AJNF78', r_ui=1.0, est=4.063374480564824, details={'was_impossible': True, 'reason': 'User and/or item is unknown.'}),\n",
       " Prediction(uid='A3O2DCLQ0N39MM', iid='B002EL4MY8', r_ui=5.0, est=4.063374480564824, details={'was_impossible': True, 'reason': 'User and/or item is unknown.'}),\n",
       " Prediction(uid='A3JR2EA400ZAD7', iid='B00698WP50', r_ui=5.0, est=4.063374480564824, details={'was_impossible': True, 'reason': 'User and/or item is unknown.'}),\n",
       " Prediction(uid='AQ04OGJAONXQU', iid='B003BYRO1K', r_ui=5.0, est=4.063374480564824, details={'was_impossible': True, 'reason': 'User and/or item is unknown.'}),\n",
       " Prediction(uid='ACV4JJQWGA3QE', iid='B008IEGSGU', r_ui=4.0, est=4.063374480564824, details={'was_impossible': True, 'reason': 'User and/or item is unknown.'}),\n",
       " Prediction(uid='ARNJV2H6IMSS0', iid='B000WAT79S', r_ui=2.0, est=1.8961653937617886, details={'actual_k': 1, 'was_impossible': False}),\n",
       " Prediction(uid='AOHWRW4PHXH3T', iid='B005CLPP84', r_ui=5.0, est=3.9735342019543975, details={'actual_k': 0, 'was_impossible': False}),\n",
       " Prediction(uid='A2IRCVXIBLCL1I', iid='B0098F5W0Q', r_ui=5.0, est=4.267352185089974, details={'actual_k': 0, 'was_impossible': False}),\n",
       " Prediction(uid='A16W7O32FVZVJ7', iid='B001MXLD4G', r_ui=5.0, est=4.063374480564824, details={'was_impossible': True, 'reason': 'User and/or item is unknown.'}),\n",
       " Prediction(uid='A33YRWSNVIQVIF', iid='B0047XUFH4', r_ui=4.0, est=3.7346938775510203, details={'actual_k': 0, 'was_impossible': False}),\n",
       " Prediction(uid='A1U9IR8272TAKM', iid='B00A6SZWHC', r_ui=1.0, est=4.063374480564824, details={'was_impossible': True, 'reason': 'User and/or item is unknown.'}),\n",
       " Prediction(uid='A2JUJET88T3B32', iid='B0068MSGZA', r_ui=5.0, est=4.356060606060606, details={'actual_k': 0, 'was_impossible': False}),\n",
       " Prediction(uid='A356YPOG6TOXJQ', iid='B00176BDD4', r_ui=5.0, est=4.2936507936507935, details={'actual_k': 0, 'was_impossible': False}),\n",
       " Prediction(uid='AB498OT901TBY', iid='B00AQUMZRA', r_ui=4.0, est=4.249122807017544, details={'actual_k': 0, 'was_impossible': False}),\n",
       " Prediction(uid='A1JC1S0QRPDWC4', iid='B000VX6XL6', r_ui=5.0, est=4.978043306067943, details={'actual_k': 2, 'was_impossible': False}),\n",
       " Prediction(uid='A3I1FDH21P5VSL', iid='B001KB21KA', r_ui=5.0, est=4.714285714285714, details={'actual_k': 0, 'was_impossible': False}),\n",
       " Prediction(uid='A3BJIK0G1JCMN6', iid='B00160GOR6', r_ui=1.0, est=4.063374480564824, details={'was_impossible': True, 'reason': 'User and/or item is unknown.'}),\n",
       " Prediction(uid='A1ZKY8IR5TDNJY', iid='B004C3AW40', r_ui=3.0, est=4.063374480564824, details={'was_impossible': True, 'reason': 'User and/or item is unknown.'}),\n",
       " Prediction(uid='AJY5Y77KR8FJO', iid='B008OHNZI0', r_ui=5.0, est=4.2944489139179405, details={'actual_k': 0, 'was_impossible': False}),\n",
       " Prediction(uid='AJ3MZVQAXYZ41', iid='B004EIJXES', r_ui=2.0, est=3.3089005235602094, details={'actual_k': 0, 'was_impossible': False}),\n",
       " Prediction(uid='A9WSVN0NQDMCM', iid='B000V2FJAS', r_ui=5.0, est=4.483516483516484, details={'actual_k': 0, 'was_impossible': False}),\n",
       " Prediction(uid='A1ID3NYHYKARI5', iid='B000RZNI4S', r_ui=5.0, est=4.063374480564824, details={'was_impossible': True, 'reason': 'User and/or item is unknown.'}),\n",
       " Prediction(uid='A1HRZJKKO0V2DF', iid='B009SYZ8OC', r_ui=5.0, est=4.771889339014115, details={'actual_k': 1, 'was_impossible': False}),\n",
       " Prediction(uid='A33XAGW43Y7XH3', iid='B005I6BSRA', r_ui=4.0, est=3.203048307930767, details={'actual_k': 1, 'was_impossible': False}),\n",
       " Prediction(uid='AO4Y5YZIZ9CX', iid='B004JMZPJQ', r_ui=5.0, est=4.497737556561086, details={'actual_k': 0, 'was_impossible': False}),\n",
       " Prediction(uid='A29MIY6Z4D80CE', iid='B004I7IGX4', r_ui=3.0, est=4.063374480564824, details={'was_impossible': True, 'reason': 'User and/or item is unknown.'}),\n",
       " Prediction(uid='A14GVE98M7JOJK', iid='B004IV6FYW', r_ui=1.0, est=4.063374480564824, details={'was_impossible': True, 'reason': 'User and/or item is unknown.'}),\n",
       " Prediction(uid='A2I0FSIQ0G82GL', iid='B0000510T7', r_ui=5.0, est=4.063374480564824, details={'was_impossible': True, 'reason': 'User and/or item is unknown.'}),\n",
       " Prediction(uid='A26NVJQBQ90IHH', iid='B002HWJT1A', r_ui=3.0, est=4.310225761586205, details={'actual_k': 1, 'was_impossible': False}),\n",
       " Prediction(uid='A1CX0WM6HH0WIY', iid='B006H06TVG', r_ui=5.0, est=4.063374480564824, details={'was_impossible': True, 'reason': 'User and/or item is unknown.'}),\n",
       " Prediction(uid='A3N7M3UCGIDZ8Z', iid='B000BQ7GW8', r_ui=4.0, est=4.5518883974140865, details={'actual_k': 0, 'was_impossible': False}),\n",
       " Prediction(uid='A1OD7W6D5XGLD7', iid='B007N6N1NC', r_ui=5.0, est=4.907472928058325, details={'actual_k': 1, 'was_impossible': False}),\n",
       " Prediction(uid='A1A3DZGW8QKKL2', iid='B0046BTK14', r_ui=5.0, est=4.063374480564824, details={'was_impossible': True, 'reason': 'User and/or item is unknown.'}),\n",
       " Prediction(uid='A35XR79MEGM5BY', iid='B004QMH8KI', r_ui=3.0, est=4.063374480564824, details={'was_impossible': True, 'reason': 'User and/or item is unknown.'}),\n",
       " Prediction(uid='A3FPWRUYMREB3S', iid='B001078FV8', r_ui=5.0, est=3.015015015015015, details={'actual_k': 0, 'was_impossible': False}),\n",
       " Prediction(uid='AZAC8O310IK4E', iid='B003VANO7C', r_ui=5.0, est=5, details={'actual_k': 3, 'was_impossible': False}),\n",
       " Prediction(uid='A109KADMXQC19Z', iid='B000MVEC0Q', r_ui=5.0, est=4.484210526315789, details={'actual_k': 0, 'was_impossible': False}),\n",
       " Prediction(uid='A32A37G7JZI7V2', iid='B005HP3OB0', r_ui=5.0, est=4.158730158730159, details={'actual_k': 0, 'was_impossible': False}),\n",
       " Prediction(uid='A30NNLD0AT6J8T', iid='B009A5204K', r_ui=3.0, est=4.072624571313295, details={'actual_k': 0, 'was_impossible': False}),\n",
       " Prediction(uid='A3ILWWIRW974BN', iid='B004OBYWD2', r_ui=4.0, est=3.4551724137931035, details={'actual_k': 0, 'was_impossible': False}),\n",
       " Prediction(uid='A2X8HAVUHS97NZ', iid='B0049H89F8', r_ui=5.0, est=4.69583931133429, details={'actual_k': 1, 'was_impossible': False}),\n",
       " Prediction(uid='A3GZGWYLUOBNOQ', iid='B00CAFPF26', r_ui=1.0, est=4.063374480564824, details={'was_impossible': True, 'reason': 'User and/or item is unknown.'}),\n",
       " Prediction(uid='A3R7GJ8QA8OJQS', iid='B00D1KBG5Y', r_ui=4.0, est=4.063374480564824, details={'was_impossible': True, 'reason': 'User and/or item is unknown.'}),\n",
       " Prediction(uid='AOUMI7UCEPT6B', iid='B003Y30334', r_ui=4.0, est=4.236734693877551, details={'actual_k': 0, 'was_impossible': False}),\n",
       " Prediction(uid='A19AF0RQ0967ZI', iid='B003J2V8AC', r_ui=5.0, est=3.8640226628895182, details={'actual_k': 0, 'was_impossible': False}),\n",
       " Prediction(uid='AY2RL3TIJ0IWA', iid='B003ES5ZUU', r_ui=5.0, est=4.063374480564824, details={'was_impossible': True, 'reason': 'User and/or item is unknown.'}),\n",
       " Prediction(uid='A24UKWHUGZTJR7', iid='B001S2RCXW', r_ui=4.0, est=4.063374480564824, details={'was_impossible': True, 'reason': 'User and/or item is unknown.'}),\n",
       " Prediction(uid='A34OD5GD02R6KN', iid='B000MUBEDU', r_ui=3.0, est=2.942989248997542, details={'actual_k': 2, 'was_impossible': False}),\n",
       " Prediction(uid='AH3CV608XJSWY', iid='B003CJTR8M', r_ui=4.0, est=4.063374480564824, details={'was_impossible': True, 'reason': 'User and/or item is unknown.'}),\n",
       " Prediction(uid='A1TWIC3PNXPH1J', iid='B001ELJ9P6', r_ui=5.0, est=4.063374480564824, details={'was_impossible': True, 'reason': 'User and/or item is unknown.'}),\n",
       " Prediction(uid='A7U359NTX7VBZ', iid='B009ON95KU', r_ui=5.0, est=3.891304347826087, details={'actual_k': 0, 'was_impossible': False}),\n",
       " Prediction(uid='A712PU0UQOR9W', iid='B001ELJ9QK', r_ui=2.0, est=4.026168224299066, details={'actual_k': 0, 'was_impossible': False}),\n",
       " Prediction(uid='A2FSY72AX1D28M', iid='B009F1INL8', r_ui=5.0, est=4.063374480564824, details={'was_impossible': True, 'reason': 'User and/or item is unknown.'}),\n",
       " ...]"
      ]
     },
     "execution_count": 47,
     "metadata": {},
     "output_type": "execute_result"
    }
   ],
   "source": [
    "test_pred_cf_mem"
   ]
  },
  {
   "cell_type": "code",
   "execution_count": 48,
   "metadata": {},
   "outputs": [
    {
     "name": "stdout",
     "output_type": "stream",
     "text": [
      "Item-based Model : Test Set\n",
      "RMSE: 1.3342\n"
     ]
    },
    {
     "data": {
      "text/plain": [
       "1.3342227213782727"
      ]
     },
     "execution_count": 48,
     "metadata": {},
     "output_type": "execute_result"
    }
   ],
   "source": [
    "# get RMSE\n",
    "print(\"Item-based Model : Test Set\")\n",
    "accuracy.rmse(test_pred_cf_mem, verbose=True)"
   ]
  },
  {
   "cell_type": "markdown",
   "metadata": {},
   "source": [
    "#### <span style=\"font-family: Arial; font-weight:bold;font-size:1.25em;color:#00b3e5;\">Observation :\n",
    "<font color=darkblue>\n",
    "<ul>\n",
    "<li>With Memory based approach RSME is 1.33</li>\n",
    "</ul>\n",
    "</font>"
   ]
  },
  {
   "cell_type": "markdown",
   "metadata": {},
   "source": [
    "#### <span style=\"font-family: Arial; font-weight:bold;font-size:1.25em;color:#00b3e5;\">Model Based Approach :\n",
    "<font color=darkblue>\n",
    "</font>"
   ]
  },
  {
   "cell_type": "code",
   "execution_count": 49,
   "metadata": {},
   "outputs": [
    {
     "data": {
      "text/plain": [
       "<surprise.prediction_algorithms.matrix_factorization.SVD at 0x1b50bbf6be0>"
      ]
     },
     "execution_count": 49,
     "metadata": {},
     "output_type": "execute_result"
    }
   ],
   "source": [
    "algo_cf_svd = SVD()\n",
    "algo_cf_svd.fit(trainset)"
   ]
  },
  {
   "cell_type": "code",
   "execution_count": 50,
   "metadata": {},
   "outputs": [],
   "source": [
    "test_pred_cf_svd = algo_cf_svd.test(testset)"
   ]
  },
  {
   "cell_type": "code",
   "execution_count": 51,
   "metadata": {},
   "outputs": [
    {
     "name": "stdout",
     "output_type": "stream",
     "text": [
      "Item-based Model : Test Set\n",
      "RMSE: 1.2695\n"
     ]
    },
    {
     "data": {
      "text/plain": [
       "1.2695385580753693"
      ]
     },
     "execution_count": 51,
     "metadata": {},
     "output_type": "execute_result"
    }
   ],
   "source": [
    "# get RMSE\n",
    "print(\"Item-based Model : Test Set\")\n",
    "accuracy.rmse(test_pred_cf_svd, verbose=True)"
   ]
  },
  {
   "cell_type": "markdown",
   "metadata": {},
   "source": [
    "#### <span style=\"font-family: Arial; font-weight:bold;font-size:1.25em;color:#00b3e5;\">Observation :\n",
    "<font color=darkblue>\n",
    "<ul>\n",
    "<li>With Model based approach RSME is 1.26</li>\n",
    "</ul>\n",
    "</font>"
   ]
  },
  {
   "cell_type": "markdown",
   "metadata": {},
   "source": [
    "## <span style=\"font-family: Arial; font-weight:bold;font-size:1.25em;color:#00b3e5;\">6. Evaluate the Models\n",
    "<font color=darkblue>\n",
    "</font>"
   ]
  },
  {
   "cell_type": "markdown",
   "metadata": {},
   "source": [
    "#### <span style=\"font-family: Arial; font-weight:bold;font-size:1.25em;color:#00b3e5;\">Evaluate Popularity based Model :\n",
    "<font color=darkblue>\n",
    "</font>"
   ]
  },
  {
   "cell_type": "code",
   "execution_count": 52,
   "metadata": {},
   "outputs": [
    {
     "data": {
      "text/html": [
       "<div>\n",
       "<style scoped>\n",
       "    .dataframe tbody tr th:only-of-type {\n",
       "        vertical-align: middle;\n",
       "    }\n",
       "\n",
       "    .dataframe tbody tr th {\n",
       "        vertical-align: top;\n",
       "    }\n",
       "\n",
       "    .dataframe thead th {\n",
       "        text-align: right;\n",
       "    }\n",
       "</style>\n",
       "<table border=\"1\" class=\"dataframe\">\n",
       "  <thead>\n",
       "    <tr style=\"text-align: right;\">\n",
       "      <th></th>\n",
       "      <th>Rating</th>\n",
       "      <th>Rating_Counts</th>\n",
       "    </tr>\n",
       "    <tr>\n",
       "      <th>ProductId</th>\n",
       "      <th></th>\n",
       "      <th></th>\n",
       "    </tr>\n",
       "  </thead>\n",
       "  <tbody>\n",
       "    <tr>\n",
       "      <th>B0074BW614</th>\n",
       "      <td>4.491504</td>\n",
       "      <td>18244</td>\n",
       "    </tr>\n",
       "    <tr>\n",
       "      <th>B00DR0PDNE</th>\n",
       "      <td>3.931020</td>\n",
       "      <td>16454</td>\n",
       "    </tr>\n",
       "    <tr>\n",
       "      <th>B007WTAJTO</th>\n",
       "      <td>4.424005</td>\n",
       "      <td>14172</td>\n",
       "    </tr>\n",
       "    <tr>\n",
       "      <th>B0019EHU8G</th>\n",
       "      <td>4.754497</td>\n",
       "      <td>12285</td>\n",
       "    </tr>\n",
       "    <tr>\n",
       "      <th>B006GWO5WK</th>\n",
       "      <td>4.314657</td>\n",
       "      <td>12226</td>\n",
       "    </tr>\n",
       "    <tr>\n",
       "      <th>B003ELYQGG</th>\n",
       "      <td>4.392528</td>\n",
       "      <td>11617</td>\n",
       "    </tr>\n",
       "    <tr>\n",
       "      <th>B003ES5ZUU</th>\n",
       "      <td>4.704749</td>\n",
       "      <td>10276</td>\n",
       "    </tr>\n",
       "    <tr>\n",
       "      <th>B007R5YDYA</th>\n",
       "      <td>4.690926</td>\n",
       "      <td>9907</td>\n",
       "    </tr>\n",
       "    <tr>\n",
       "      <th>B00622AG6S</th>\n",
       "      <td>4.420136</td>\n",
       "      <td>9823</td>\n",
       "    </tr>\n",
       "    <tr>\n",
       "      <th>B0002L5R78</th>\n",
       "      <td>4.448614</td>\n",
       "      <td>9487</td>\n",
       "    </tr>\n",
       "  </tbody>\n",
       "</table>\n",
       "</div>"
      ],
      "text/plain": [
       "              Rating  Rating_Counts\n",
       "ProductId                          \n",
       "B0074BW614  4.491504          18244\n",
       "B00DR0PDNE  3.931020          16454\n",
       "B007WTAJTO  4.424005          14172\n",
       "B0019EHU8G  4.754497          12285\n",
       "B006GWO5WK  4.314657          12226\n",
       "B003ELYQGG  4.392528          11617\n",
       "B003ES5ZUU  4.704749          10276\n",
       "B007R5YDYA  4.690926           9907\n",
       "B00622AG6S  4.420136           9823\n",
       "B0002L5R78  4.448614           9487"
      ]
     },
     "execution_count": 52,
     "metadata": {},
     "output_type": "execute_result"
    }
   ],
   "source": [
    "ratings_ecommerce_df_popular_products.head(10)"
   ]
  },
  {
   "cell_type": "markdown",
   "metadata": {},
   "source": [
    "#### <span style=\"font-family: Arial; font-weight:bold;font-size:1.25em;color:#00b3e5;\">Observation :\n",
    "<font color=darkblue>\n",
    "<ul>\n",
    "<li>Top Product B0074BW614 with 18244 user ratings has average rating of 4.49</li>\n",
    "</ul>\n",
    "</font>"
   ]
  },
  {
   "cell_type": "markdown",
   "metadata": {},
   "source": [
    "#### <span style=\"font-family: Arial; font-weight:bold;font-size:1.25em;color:#00b3e5;\">Evaluate CF Model (Memory based approach) :\n",
    "<font color=darkblue>\n",
    "</font>"
   ]
  },
  {
   "cell_type": "code",
   "execution_count": 53,
   "metadata": {},
   "outputs": [
    {
     "name": "stdout",
     "output_type": "stream",
     "text": [
      "RMSE: 1.3342\n"
     ]
    }
   ],
   "source": [
    "rmse_cf_mem = accuracy.rmse(test_pred_cf_mem, verbose=True)"
   ]
  },
  {
   "cell_type": "code",
   "execution_count": 54,
   "metadata": {},
   "outputs": [
    {
     "name": "stdout",
     "output_type": "stream",
     "text": [
      "RMSE for Memory Based Collaborative Filtering of all Test data is = 1.3342227213782727\n"
     ]
    }
   ],
   "source": [
    "print('RMSE for Memory Based Collaborative Filtering of all Test data is = {}'.format(rmse_cf_mem))"
   ]
  },
  {
   "cell_type": "markdown",
   "metadata": {},
   "source": [
    "#### <span style=\"font-family: Arial; font-weight:bold;font-size:1.25em;color:#00b3e5;\">Observation :\n",
    "<font color=darkblue>\n",
    "<ul>\n",
    "<li>RMSE for Memory Based Collaborative Filtering of all Test data is 1.33</li>\n",
    "</ul>\n",
    "</font>"
   ]
  },
  {
   "cell_type": "markdown",
   "metadata": {},
   "source": [
    "#### <span style=\"font-family: Arial; font-weight:bold;font-size:1.25em;color:#00b3e5;\">Evaluate CF Model (SVD Model based approach :\n",
    "<font color=darkblue>\n",
    "</font>"
   ]
  },
  {
   "cell_type": "code",
   "execution_count": 55,
   "metadata": {},
   "outputs": [
    {
     "name": "stdout",
     "output_type": "stream",
     "text": [
      "RMSE: 1.2695\n"
     ]
    }
   ],
   "source": [
    "rmse_cf_svd = accuracy.rmse(test_pred_cf_svd, verbose=True)"
   ]
  },
  {
   "cell_type": "code",
   "execution_count": 56,
   "metadata": {},
   "outputs": [
    {
     "name": "stdout",
     "output_type": "stream",
     "text": [
      "RMSE for Model (SVD) Based Collaborative Filtering of all Test data is = 1.2695385580753693\n"
     ]
    }
   ],
   "source": [
    "print('RMSE for Model (SVD) Based Collaborative Filtering of all Test data is = {}'.format(rmse_cf_svd))"
   ]
  },
  {
   "cell_type": "markdown",
   "metadata": {},
   "source": [
    "#### <span style=\"font-family: Arial; font-weight:bold;font-size:1.25em;color:#00b3e5;\">Observation :\n",
    "<font color=darkblue>\n",
    "<ul>\n",
    "<li>RMSE for Model (svd) Based Collaborative Filtering of all Test data is 1.26</li>\n",
    "</ul>\n",
    "</font>"
   ]
  },
  {
   "cell_type": "markdown",
   "metadata": {},
   "source": [
    "## <span style=\"font-family: Arial; font-weight:bold;font-size:1.25em;color:#00b3e5;\">7. Top K (K=5) Recommendations\n",
    "<font color=darkblue>\n",
    "</font>"
   ]
  },
  {
   "cell_type": "code",
   "execution_count": 57,
   "metadata": {},
   "outputs": [],
   "source": [
    "# function to get top n product recommendation for each user\n",
    "def get_top_n(predictions, n=5):\n",
    "    # map predictions to each user\n",
    "    top_n = defaultdict(list)\n",
    "    for uid, iid, true_r, est, _ in predictions:\n",
    "        top_n[uid].append((iid, est))\n",
    "        \n",
    "    # sort the predictions for each user and get k highest ones\n",
    "    for uid, user_ratings in top_n.items():\n",
    "        user_ratings.sort(key=lambda x: x[1], reverse=True)\n",
    "        top_n[uid] = user_ratings[:n]\n",
    "        \n",
    "    return top_n"
   ]
  },
  {
   "cell_type": "code",
   "execution_count": 58,
   "metadata": {},
   "outputs": [],
   "source": [
    "top_n = get_top_n(test_pred_cf_svd, n=5)"
   ]
  },
  {
   "cell_type": "code",
   "execution_count": 59,
   "metadata": {},
   "outputs": [
    {
     "name": "stdout",
     "output_type": "stream",
     "text": [
      "A2SXFH0L3JGU9 ['B003ES5ZUU', 'B00005T3G0', 'B001QNBUA4', 'B000075UZ7']\n",
      "A1Q1X71W1C9KKR ['B0048IW030']\n",
      "A2WJLP768EMKR2 ['B009SJNTIY', 'B00BIULEJC']\n",
      "A26H1ZN85O1EXL ['B0029F21LA']\n",
      "AEY6F9T36MYG8 ['B000NVVDKC']\n",
      "A1VOS9VVNTDT3H ['B003ELYQGG']\n",
      "AIGV6RMVQXGFE ['B000Q8UAWY', 'B00008VELA']\n",
      "A19RSE6RJWOYCM ['B0031GGQC6', 'B0088PUEPK']\n",
      "A2N823Q3BZ46IP ['B008Z2661W']\n",
      "A2QBTMT4YR5I3A ['B003962DXE']\n",
      "A1R0TFPX8GO0RL ['B000EXTXSI']\n",
      "A1DH5ZLKZ1TM0V ['B004LWL9A8', 'B0011E4N2K', 'B003KE3SJI', 'B000MWDIOG']\n",
      "A1CHRFTYGHQPWJ ['B0001YGIB0']\n",
      "A1OCRKQM87O8CF ['B001R69DOA']\n",
      "A39YO0G4G6TRTP ['B005NGQWL2', 'B001715BIC', 'B005P12QME']\n",
      "AUVZIUQLMZP7L ['B0009H5VVM']\n",
      "A2PREDH9B7WPK5 ['B00B5HE3UU']\n",
      "A2ZXOYBMLLDPWP ['B00D02AHEO']\n",
      "AAUSIU3W3GT5V ['B008CS5QTW']\n",
      "APMQOY8T1G1M1 ['B00291N83O']\n",
      "A1S8OSN7OXKE0V ['B00763WKZW']\n",
      "ALPO9ZL70PZVJ ['B0044YU60M', 'B003SX0P1A', 'B002SW3MP8']\n",
      "A2BEO5JCPR7BEM ['B0058UUR6E']\n",
      "A2I7ZZNKHZ2MJR ['B000CKVOOY']\n",
      "A17RJDSS1X6Y1G ['B0097FM3PE']\n",
      "A366AX8LU9MEVW ['B0017H4G0A']\n",
      "ADRDM69WRIM9K ['B00CRFK24K']\n",
      "A3N0Z0QVRS1PP9 ['B0002Z241Q', 'B0015A8Y5M', 'B000067S60', 'B004LWT6Q2', 'B007JOO4XE']\n",
      "ANS22CDEYSZD8 ['B00006B9H9']\n",
      "AIOPI7X1QYPO4 ['B001M09MUG']\n",
      "A3NU49HCZ7DABS ['B003OWKM3G']\n",
      "A3OZ16UM7MQB3U ['B00284VD02']\n",
      "A2JAEUD17E1SHF ['B002008RVC']\n",
      "A2NS35RWE25VPL ['B002OHDIWY', 'B000S5Q9CA', 'B001TH7GSW', 'B001QW1ONI', 'B004S7Q8CA']\n",
      "A1RIPKDF03ZFB9 ['B004LU1CA2']\n",
      "A3T0OIBXBJVC9U ['B005E7KMH0']\n",
      "A1EQQWHJOMWHM ['B009X0167Y']\n",
      "A6ZJWTMQAMFS8 ['B004OYP634']\n",
      "A1VU30VSPRYLFI ['B00D5Q75RC']\n",
      "AOF2R2KSHSDH8 ['B00BIP6G9K', 'B006JGXOSY', 'B000QUUFRW']\n",
      "A2OA9P5H8PZ87G ['B002WE6D44', 'B009STMN9K']\n",
      "AMVXR3NPL0GWX ['B000I1X3W8', 'B005KEL4NI', 'B0096PVLL2', 'B002V88HFE', 'B0019CSVMW']\n",
      "A2YEFP9M5S6NG9 ['B001UE6MIO']\n",
      "AVW70XMDUN5LI ['B00AOAAMBS']\n",
      "AN4CUD7PS6QWR ['B006ZP8UOW']\n",
      "A2Q8OPF84SAH57 ['B00A8OWALU']\n",
      "ALBKZY15IEWO0 ['B00AWYMXZY', 'B00F0XQWUO']\n",
      "AK49MII32OIKT ['B0029LDIS4', 'B008HDOEG8']\n",
      "A32FU8PV8DFCM7 ['B001441L9A']\n",
      "A23NQLJ2DEOJCJ ['B003PJI9II', 'B0025VKUPW', 'B00B588HY2', 'B0049MPQA4', 'B008DW95NA']\n",
      "A1IZGIXTKY6EB5 ['B007WTAJTO']\n"
     ]
    }
   ],
   "source": [
    "# print recommended items of first 50 users\n",
    "count=0\n",
    "for uid, user_ratings in top_n.items():\n",
    "    print(uid, [iid for (iid, _) in user_ratings])\n",
    "    if(count>49):\n",
    "        break\n",
    "    count=count+1"
   ]
  },
  {
   "cell_type": "markdown",
   "metadata": {},
   "source": [
    "#### <span style=\"font-family: Arial; font-weight:bold;font-size:1.25em;color:#00b3e5;\">Observation :\n",
    "<font color=darkblue>\n",
    "<ul>\n",
    "<li>Top 5 product recommendations for first 50 users are shown above</li>\n",
    "</ul>\n",
    "</font>"
   ]
  },
  {
   "cell_type": "markdown",
   "metadata": {},
   "source": [
    "## <span style=\"font-family: Arial; font-weight:bold;font-size:1.25em;color:#00b3e5;\">8. Summary - Insights\n",
    "<font color=darkblue>\n",
    "</font>"
   ]
  },
  {
   "cell_type": "markdown",
   "metadata": {},
   "source": [
    "#### <span style=\"font-family: Arial; font-weight:bold;font-size:1.25em;color:#00b3e5;\">\n",
    "<font color=darkblue>\n",
    "<ul>\n",
    "<li>There were totally 7824481 ratings in dataset</li>\n",
    "<li>No missing or null values in any of the columns</li>\n",
    "<li>Most of the users had given Rating as 5</li>\n",
    "<li>Most of the products has 0 - 100 ratings, some products has ratings upto 1200</li>\n",
    "<li>Peak rating is 5, Most of the users has given just 1 rating</li>\n",
    "<li>For our analysis we considered only 68.7% of data with users given 50 or more rating</li>\n",
    "<li>We built Collaborative Filtering using Memory Based and Model Based, using memory based approach RSME is 1.33 and using model (svd) based approach RSME is 1.26</li>\n",
    "<li>With 18244 user ratings and average rating of 4.49, Product B0074BW614 stands at top</li>\n",
    "<li>We got the Top 5 product recommendations</li>\n",
    "</ul>\n",
    "</font>"
   ]
  },
  {
   "cell_type": "markdown",
   "metadata": {},
   "source": [
    "#### <span style=\"font-family: Arial; font-weight:bold;font-size:1.25em;color:#00b3e5;\">Conclusion :\n",
    "<font color=darkblue>\n",
    "<ul>\n",
    "<li>Objective is to make a recommendation system that recommends at least five(5) new products based on the user's habits</li>\n",
    "<li>There were totally 7824481 ratings in dataset, No missing or null values in any of the columns</li>\n",
    "<li>For our analysis we sparsed the data and considered only 68.7% of original data with users given 50 or more rating</li>\n",
    "<li>We built popularity based recommender model</li>\n",
    "<li>We built Collaborative Filtering using Memory Based and Model Based, using memory based approach RSME is 1.33 and using model (svd) based approach RSME is 1.26</li>\n",
    "<li>With 18244 user ratings and average rating of 4.49, Product B0074BW614 stands at top</li>\n",
    "<li>We got the Top 5 product recommendations</li>\n",
    "</ul>\n",
    "</font>"
   ]
  }
 ],
 "metadata": {
  "kernelspec": {
   "display_name": "Python 3",
   "language": "python",
   "name": "python3"
  },
  "language_info": {
   "codemirror_mode": {
    "name": "ipython",
    "version": 3
   },
   "file_extension": ".py",
   "mimetype": "text/x-python",
   "name": "python",
   "nbconvert_exporter": "python",
   "pygments_lexer": "ipython3",
   "version": "3.8.3"
  }
 },
 "nbformat": 4,
 "nbformat_minor": 4
}
