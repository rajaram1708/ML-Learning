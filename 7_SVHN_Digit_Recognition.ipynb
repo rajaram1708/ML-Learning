{
 "cells": [
  {
   "cell_type": "markdown",
   "metadata": {},
   "source": [
    "## <span style=\"font-family: Arial; font-weight:bold;font-size:1.5em;color:#00b3e5;\">Project Assignment : Neural Network"
   ]
  },
  {
   "cell_type": "markdown",
   "metadata": {},
   "source": [
    "## <span style=\"font-family: Arial; font-weight:bold;font-size:1.25em;color:#00b3e5;\">Domain: Street View Housing Number Digit Recognition"
   ]
  },
  {
   "cell_type": "markdown",
   "metadata": {},
   "source": [
    "### <span style=\"font-family: Arial; font-weight:bold;font-size:1.25em;color:#00b3e5;\">Problem Description:\n",
    "<font color=darkblue>\n",
    "<ul>\n",
    "<li>Recognizing multi-digit numbers in photographs captured at street level is an important component of modern-day map making.</li>\n",
    "<li>A classic example of a corpus of such street-level photographs is Google’s Street View imagery comprised of hundreds of millions of geo-located 360-degree panoramic images. The ability to automatically transcribe an address number from a geo-located patch of pixels and associate the transcribed number with a known street address helps pinpoint, with a high degree of accuracy, the location of the building it represents.</li>\n",
    "<li>More broadly, recognizing numbers in photographs is a problem of interest to the optical character recognition community. While OCR on constrained domains like document processing is well studied, arbitrary multi-character text recognition in photographs is still highly challenging. This difficulty arises due to the wide variability in the visual appearance of text in the wild on account of a large range of fonts, colours, styles, orientations, and character arrangements.</li>\n",
    "<li>The recognition problem is further complicated by environmental factors such as lighting, shadows, specularities and occlusions as well as by image acquisition factors such as resolution, motion, and focus blurs.</li>\n",
    "<li>In this project, we will use the dataset with images centred around a single digit (many of the images do contain some distractors at the sides). Although we are taking a sample of the data which is simpler, it is more complex than MNIST because of the distractors.</li>\n",
    "</ul>\n",
    "</font> "
   ]
  },
  {
   "cell_type": "markdown",
   "metadata": {},
   "source": [
    "### <span style=\"font-family: Arial; font-weight:bold;font-size:1.25em;color:#00b3e5;\">Dataset:\n",
    "<font color=darkblue>SVHN is a real-world image dataset for developing machine learning and object recognition algorithms with the minimal requirement on data formatting but comes from a significantly harder, unsolved, real-world problem (recognizing digits and numbers in natural scene images). SVHN is obtained from house numbers in Google Street View images</font> "
   ]
  },
  {
   "cell_type": "markdown",
   "metadata": {},
   "source": [
    "### <span style=\"font-family: Arial; font-weight:bold;font-size:1.25em;color:#00b3e5;\">Learning Outcomes:\n",
    "<font color=darkblue>\n",
    "<ul>\n",
    "<li>Understand the basics of Image Classification</li>\n",
    "<li>implement a simple image classification pipeline based on a deep neural network</li>\n",
    "</ul>"
   ]
  },
  {
   "cell_type": "markdown",
   "metadata": {},
   "source": [
    "### <span style=\"font-family: Arial; font-weight:bold;font-size:1.25em;color:#00b3e5;\">Objective:\n",
    "<font color=darkblue>Using the given dataset (testing and training data), train a model that accurately identifies house numbers in an image (with difficulties like picture brightness, blurriness)</font>"
   ]
  },
  {
   "cell_type": "markdown",
   "metadata": {},
   "source": [
    "### <span style=\"font-family: Arial; font-weight:bold;font-size:1.25em;color:#00b3e5;\">Import the necessary libraries"
   ]
  },
  {
   "cell_type": "code",
   "execution_count": 1,
   "metadata": {},
   "outputs": [],
   "source": [
    "import numpy as np\n",
    "#import pandas as pd\n",
    "import seaborn as sns\n",
    "import matplotlib.pyplot as plt\n",
    "\n",
    "import h5py\n",
    "\n",
    "import tensorflow\n",
    "from tensorflow.keras.layers import Dense, Reshape, BatchNormalization, Dropout, Flatten\n",
    "from tensorflow.keras.models import Sequential\n",
    "from tensorflow.keras import regularizers, optimizers, callbacks\n",
    "from tensorflow.keras.utils import to_categorical\n",
    "\n",
    "import math\n",
    "\n",
    "import os\n",
    "import warnings"
   ]
  },
  {
   "cell_type": "code",
   "execution_count": 2,
   "metadata": {},
   "outputs": [
    {
     "name": "stdout",
     "output_type": "stream",
     "text": [
      "2.3.1\n"
     ]
    }
   ],
   "source": [
    "print(tensorflow.__version__)"
   ]
  },
  {
   "cell_type": "markdown",
   "metadata": {},
   "source": [
    "#### <span style=\"font-family: Arial; font-weight:bold;font-size:1.25em;color:#00b3e5;\">Observation :\n",
    "<font color=darkblue>\n",
    "We use tensorflow 2.3.1\n",
    "</font>"
   ]
  },
  {
   "cell_type": "markdown",
   "metadata": {},
   "source": [
    "### <span style=\"font-family: Arial; font-weight:bold;font-size:1.25em;color:#00b3e5;\">Setting Options"
   ]
  },
  {
   "cell_type": "code",
   "execution_count": 3,
   "metadata": {},
   "outputs": [],
   "source": [
    "sns.set()\n",
    "%matplotlib inline\n",
    "\n",
    "warnings.filterwarnings('ignore')\n",
    "\n",
    "#pd.options.display.max_columns = None\n",
    "#pd.options.display.float_format = '{:.7f}'.format\n",
    "#pd.options.display.max_rows = None\n"
   ]
  },
  {
   "cell_type": "markdown",
   "metadata": {},
   "source": [
    "### <span style=\"font-family: Arial; font-weight:bold;font-size:1.25em;color:#00b3e5;\">1. Read the Data & Understand Train/Test split"
   ]
  },
  {
   "cell_type": "markdown",
   "metadata": {},
   "source": [
    "#### <span style=\"font-family: Arial; font-weight:bold;font-size:1.25em;color:#00b3e5;\">Read the data"
   ]
  },
  {
   "cell_type": "code",
   "execution_count": 4,
   "metadata": {},
   "outputs": [
    {
     "data": {
      "text/plain": [
       "<KeysViewHDF5 ['X_test', 'X_train', 'X_val', 'y_test', 'y_train', 'y_val']>"
      ]
     },
     "execution_count": 4,
     "metadata": {},
     "output_type": "execute_result"
    }
   ],
   "source": [
    "h5f = h5py.File('SVHN_single_grey1.h5', 'r')\n",
    "\n",
    "h5f.keys()"
   ]
  },
  {
   "cell_type": "markdown",
   "metadata": {},
   "source": [
    "#### <span style=\"font-family: Arial; font-weight:bold;font-size:1.25em;color:#00b3e5;\">Data Analysis and Preparation"
   ]
  },
  {
   "cell_type": "code",
   "execution_count": 5,
   "metadata": {},
   "outputs": [],
   "source": [
    "# Load Train, Test and Validation set\n",
    "X_train = h5f['X_train'][:]\n",
    "y_train = h5f['y_train'][:]\n",
    "\n",
    "X_val = h5f['X_val'][:]\n",
    "y_val = h5f['y_val'][:]\n",
    "\n",
    "X_test = h5f['X_test'][:]\n",
    "y_test = h5f['y_test'][:]"
   ]
  },
  {
   "cell_type": "markdown",
   "metadata": {},
   "source": [
    "### <span style=\"font-family: Arial; font-weight:bold;font-size:1.25em;color:#00b3e5;\">\n",
    "<font color=darkblue>Lets check the contents of features and labels of one example from the images</font> "
   ]
  },
  {
   "cell_type": "code",
   "execution_count": 6,
   "metadata": {},
   "outputs": [
    {
     "data": {
      "text/plain": [
       "array([[[ 33.0704,  30.2601,  26.852 , ...,  71.4471,  58.2204,\n",
       "          42.9939],\n",
       "        [ 25.2283,  25.5533,  29.9765, ..., 113.0209, 103.3639,\n",
       "          84.2949],\n",
       "        [ 26.2775,  22.6137,  40.4763, ..., 113.3028, 121.775 ,\n",
       "         115.4228],\n",
       "        ...,\n",
       "        [ 28.5502,  36.212 ,  45.0801, ...,  24.1359,  25.0927,\n",
       "          26.0603],\n",
       "        [ 38.4352,  26.4733,  23.2717, ...,  28.1094,  29.4683,\n",
       "          30.0661],\n",
       "        [ 50.2984,  26.0773,  24.0389, ...,  49.6682,  50.853 ,\n",
       "          53.0377]]], dtype=float32)"
      ]
     },
     "execution_count": 6,
     "metadata": {},
     "output_type": "execute_result"
    }
   ],
   "source": [
    "X_train[:1]"
   ]
  },
  {
   "cell_type": "code",
   "execution_count": 7,
   "metadata": {},
   "outputs": [
    {
     "data": {
      "text/plain": [
       "array([2], dtype=uint8)"
      ]
     },
     "execution_count": 7,
     "metadata": {},
     "output_type": "execute_result"
    }
   ],
   "source": [
    "y_train[:1]"
   ]
  },
  {
   "cell_type": "code",
   "execution_count": 8,
   "metadata": {},
   "outputs": [
    {
     "data": {
      "text/plain": [
       "array([[[ 44.299 ,  45.9999,  51.3306, ...,  25.2764,  27.515 ,\n",
       "          27.156 ],\n",
       "        [ 49.1351,  60.3081,  70.1222, ...,  23.7002,  25.2378,\n",
       "          24.2918],\n",
       "        [ 60.7595,  83.7141, 102.1961, ...,  24.5044,  24.9712,\n",
       "          22.8512],\n",
       "        ...,\n",
       "        [ 67.1072,  93.2464, 109.2017, ...,  26.6444,  24.6015,\n",
       "          22.9607],\n",
       "        [ 24.7569,  36.6417,  48.9071, ...,  21.9268,  21.5309,\n",
       "          21.5479],\n",
       "        [ 22.6584,  22.7724,  27.2666, ...,  21.443 ,  20.8191,\n",
       "          20.0812]]], dtype=float32)"
      ]
     },
     "execution_count": 8,
     "metadata": {},
     "output_type": "execute_result"
    }
   ],
   "source": [
    "X_val[:1]"
   ]
  },
  {
   "cell_type": "code",
   "execution_count": 9,
   "metadata": {},
   "outputs": [
    {
     "data": {
      "text/plain": [
       "array([0], dtype=uint8)"
      ]
     },
     "execution_count": 9,
     "metadata": {},
     "output_type": "execute_result"
    }
   ],
   "source": [
    "y_val[:1]"
   ]
  },
  {
   "cell_type": "code",
   "execution_count": 10,
   "metadata": {},
   "outputs": [
    {
     "data": {
      "text/plain": [
       "array([[[ 40.558 ,  46.7917,  48.9764, ..., 112.1153, 112.9904,\n",
       "         112.1646],\n",
       "        [ 39.4379,  44.2911,  47.1768, ..., 111.0122, 110.9475,\n",
       "         109.9368],\n",
       "        [ 38.4488,  43.6394,  48.7098, ..., 109.8921, 109.9414,\n",
       "         109.1048],\n",
       "        ...,\n",
       "        [ 34.9869,  35.4707,  39.6676, ..., 109.211 , 109.9074,\n",
       "         112.7346],\n",
       "        [ 35.6602,  35.5462,  40.3193, ..., 110.9998, 112.049 ,\n",
       "         114.3431],\n",
       "        [ 36.1871,  35.4214,  40.6998, ..., 110.0169, 111.2017,\n",
       "         114.1906]]], dtype=float32)"
      ]
     },
     "execution_count": 10,
     "metadata": {},
     "output_type": "execute_result"
    }
   ],
   "source": [
    "X_test[:1]"
   ]
  },
  {
   "cell_type": "code",
   "execution_count": 11,
   "metadata": {},
   "outputs": [
    {
     "data": {
      "text/plain": [
       "array([1], dtype=uint8)"
      ]
     },
     "execution_count": 11,
     "metadata": {},
     "output_type": "execute_result"
    }
   ],
   "source": [
    "y_test[:1]"
   ]
  },
  {
   "cell_type": "markdown",
   "metadata": {},
   "source": [
    "#### <span style=\"font-family: Arial; font-weight:bold;font-size:1.25em;color:#00b3e5;\">Visualize the data\n",
    "<font color=darkblue>\n",
    "Let's check out some sample images\n",
    "</font>"
   ]
  },
  {
   "cell_type": "code",
   "execution_count": 12,
   "metadata": {},
   "outputs": [
    {
     "name": "stdout",
     "output_type": "stream",
     "text": [
      "Label for each of the image : 6\n"
     ]
    },
    {
     "data": {
      "image/png": "[encoded data removed]",
      "text/plain": [
       "<Figure size 432x288 with 1 Axes>"
      ]
     },
     "metadata": {
      "needs_background": "light"
     },
     "output_type": "display_data"
    }
   ],
   "source": [
    "plt.imshow(X_train[1], cmap='gray')\n",
    "print('Label for each of the image : %s' % (y_train[1]))"
   ]
  },
  {
   "cell_type": "markdown",
   "metadata": {},
   "source": [
    "#### <span style=\"font-family: Arial; font-weight:bold;font-size:1.25em;color:#00b3e5;\">Observation :\n",
    "<font color=darkblue>\n",
    "We can clearly see that we have a partial view of digit 3, that is Noise\n",
    "</font>"
   ]
  },
  {
   "cell_type": "code",
   "execution_count": 13,
   "metadata": {},
   "outputs": [
    {
     "data": {
      "image/png": "[encoded data removed]",
      "text/plain": [
       "<Figure size 1080x72 with 15 Axes>"
      ]
     },
     "metadata": {
      "needs_background": "light"
     },
     "output_type": "display_data"
    },
    {
     "name": "stdout",
     "output_type": "stream",
     "text": [
      "Label for each of the above images : [2 6 7 4 4 0 3 0 7 3 1 0 1 3 1]\n"
     ]
    }
   ],
   "source": [
    "#Lets try visualising the first 10 images and their labels\n",
    "plt.figure(figsize=(15, 1))\n",
    "for i in range(15):\n",
    "    plt.subplot(1, 15, i+1)\n",
    "    plt.imshow(X_train[i], cmap='gray')\n",
    "    plt.axis('off')\n",
    "\n",
    "plt.show()\n",
    "print('Label for each of the above images : %s' % (y_train[0:15]))\n"
   ]
  },
  {
   "cell_type": "markdown",
   "metadata": {},
   "source": [
    "#### <span style=\"font-family: Arial; font-weight:bold;font-size:1.25em;color:#00b3e5;\">Observation :\n",
    "<font color=darkblue>\n",
    "We can clearly see there are lots of noise in data images\n",
    "</font>"
   ]
  },
  {
   "cell_type": "markdown",
   "metadata": {},
   "source": [
    "#### <span style=\"font-family: Arial; font-weight:bold;font-size:1.25em;color:#00b3e5;\">Shape of Data"
   ]
  },
  {
   "cell_type": "code",
   "execution_count": 14,
   "metadata": {},
   "outputs": [
    {
     "name": "stdout",
     "output_type": "stream",
     "text": [
      "Size of X_train is (42000, 32, 32)\n",
      "Size of y_train is (42000,)\n",
      "\n",
      "Size of X_val is (60000, 32, 32)\n",
      "Size of y_val is (60000,)\n",
      "\n",
      "Size of X_test is (18000, 32, 32)\n",
      "Size of y_test is (18000,)\n"
     ]
    }
   ],
   "source": [
    "print(f'Size of X_train is {X_train.shape}')\n",
    "print(f'Size of y_train is {y_train.shape}\\n')\n",
    "\n",
    "print(f'Size of X_val is {X_val.shape}')\n",
    "print(f'Size of y_val is {y_val.shape}\\n')\n",
    "\n",
    "print(f'Size of X_test is {X_test.shape}')\n",
    "print(f'Size of y_test is {y_test.shape}')"
   ]
  },
  {
   "cell_type": "markdown",
   "metadata": {},
   "source": [
    "#### <span style=\"font-family: Arial; font-weight:bold;font-size:1.25em;color:#00b3e5;\">Observation :\n",
    "<font color=darkblue>\n",
    "<ul>\n",
    "<li>Training dataset(X_train) has 42k records on which we can train upon of matrix size of 32x32 i.e. image size of 32x32</li>\n",
    "<li>Test dataset(X_test) has 18k records each record being 32x32 in size</li>\n",
    "<li>y_train, y_test contain label for the given image matrix</li>\n",
    "</ul>\n",
    "</font>"
   ]
  },
  {
   "cell_type": "markdown",
   "metadata": {},
   "source": [
    "### <span style=\"font-family: Arial; font-weight:bold;font-size:1.25em;color:#00b3e5;\">2. Reshape and Normalize the Train and Test features"
   ]
  },
  {
   "cell_type": "markdown",
   "metadata": {},
   "source": [
    "#### <span style=\"font-family: Arial; font-weight:bold;font-size:1.25em;color:#00b3e5;\">Reshape"
   ]
  },
  {
   "cell_type": "code",
   "execution_count": 15,
   "metadata": {},
   "outputs": [],
   "source": [
    "X_train = X_train.reshape(X_train.shape[0], 32*32)\n",
    "X_val = X_val.reshape(X_val.shape[0], 32*32)\n",
    "X_test = X_test.reshape(X_test.shape[0], 32*32)"
   ]
  },
  {
   "cell_type": "code",
   "execution_count": 16,
   "metadata": {},
   "outputs": [
    {
     "name": "stdout",
     "output_type": "stream",
     "text": [
      "Shape of X_train is (42000, 1024)\n",
      "Shape of X_val is (60000, 1024)\n",
      "Shape of X_test is (18000, 1024)\n"
     ]
    }
   ],
   "source": [
    "print(f'Shape of X_train is {X_train.shape}')\n",
    "print(f'Shape of X_val is {X_val.shape}')\n",
    "print(f'Shape of X_test is {X_test.shape}')"
   ]
  },
  {
   "cell_type": "markdown",
   "metadata": {},
   "source": [
    "#### <span style=\"font-family: Arial; font-weight:bold;font-size:1.25em;color:#00b3e5;\">Normalize"
   ]
  },
  {
   "cell_type": "code",
   "execution_count": 17,
   "metadata": {},
   "outputs": [
    {
     "name": "stdout",
     "output_type": "stream",
     "text": [
      "Min value for Train = 0.0, Validation = 0.0, Test = 0.0\n",
      "Max value for Train = 254.97450256347656, Validation = 254.97450256347656, Test = 254.97450256347656\n"
     ]
    }
   ],
   "source": [
    "print(f'Min value for Train = {X_train.min()}, Validation = {X_val.min()}, Test = {X_test.min()}')\n",
    "print(f'Max value for Train = {X_train.max()}, Validation = {X_val.max()}, Test = {X_test.max()}')"
   ]
  },
  {
   "cell_type": "markdown",
   "metadata": {},
   "source": [
    "#### <span style=\"font-family: Arial; font-weight:bold;font-size:1.25em;color:#00b3e5;\">Observation :\n",
    "<font color=darkblue>\n",
    "We see Min value as 0 and Max value as 255\n",
    "</font>"
   ]
  },
  {
   "cell_type": "code",
   "execution_count": 18,
   "metadata": {},
   "outputs": [
    {
     "name": "stdout",
     "output_type": "stream",
     "text": [
      "Before Normalization\n",
      "Min value is 0.0\n",
      "Max value is 254.97450256347656\n"
     ]
    }
   ],
   "source": [
    "print('Before Normalization')\n",
    "print(f'Min value is {X_train.min()}')\n",
    "print(f'Max value is {X_train.max()}')"
   ]
  },
  {
   "cell_type": "code",
   "execution_count": 19,
   "metadata": {},
   "outputs": [],
   "source": [
    "X_train = X_train/255.0\n",
    "X_val = X_val/255.0\n",
    "X_test = X_test/255.0"
   ]
  },
  {
   "cell_type": "code",
   "execution_count": 20,
   "metadata": {},
   "outputs": [
    {
     "name": "stdout",
     "output_type": "stream",
     "text": [
      "After Normalization\n",
      "Min value is 0.0\n",
      "Max value is 0.9998999834060669\n"
     ]
    }
   ],
   "source": [
    "print('After Normalization')\n",
    "print(f'Min value is {X_train.min()}')\n",
    "print(f'Max value is {X_train.max()}')"
   ]
  },
  {
   "cell_type": "markdown",
   "metadata": {},
   "source": [
    "#### <span style=\"font-family: Arial; font-weight:bold;font-size:1.25em;color:#00b3e5;\">Observation :\n",
    "<font color=darkblue>\n",
    "Normalized the data to update Mix and Max value to 0 and 1\n",
    "</font>"
   ]
  },
  {
   "cell_type": "markdown",
   "metadata": {},
   "source": [
    "### <span style=\"font-family: Arial; font-weight:bold;font-size:1.25em;color:#00b3e5;\">3. One Hot Encode the labels of Train/Test data"
   ]
  },
  {
   "cell_type": "code",
   "execution_count": 21,
   "metadata": {},
   "outputs": [
    {
     "name": "stdout",
     "output_type": "stream",
     "text": [
      "Sample value before One Hot Encode 2\n",
      "\n",
      "Sample value after One Hot Encode [0. 0. 1. 0. 0. 0. 0. 0. 0. 0.]\n"
     ]
    }
   ],
   "source": [
    "print(f'Sample value before One Hot Encode {y_train[0]}\\n')\n",
    "y_train = to_categorical(y_train, num_classes=10)\n",
    "y_val = to_categorical(y_val, num_classes=10)\n",
    "y_test = to_categorical(y_test, num_classes=10)\n",
    "print(f'Sample value after One Hot Encode {y_train[0]}')"
   ]
  },
  {
   "cell_type": "markdown",
   "metadata": {},
   "source": [
    "#### <span style=\"font-family: Arial; font-weight:bold;font-size:1.25em;color:#00b3e5;\">\n",
    "<font color=darkblue>\n",
    "Let's check some other images and labels\n",
    "</font>"
   ]
  },
  {
   "cell_type": "code",
   "execution_count": 22,
   "metadata": {},
   "outputs": [
    {
     "name": "stdout",
     "output_type": "stream",
     "text": [
      "Label for image at index 1 is 2\n",
      "Label for image at index 2 is 6\n",
      "Label for image at index 3 is 7\n",
      "Label for image at index 4 is 4\n",
      "Label for image at index 5 is 4\n",
      "Label for image at index 6 is 0\n",
      "Label for image at index 7 is 3\n",
      "Label for image at index 8 is 0\n",
      "Label for image at index 9 is 7\n",
      "Label for image at index 10 is 3\n",
      "Label for image at index 11 is 1\n",
      "Label for image at index 12 is 0\n",
      "Label for image at index 13 is 1\n",
      "Label for image at index 14 is 3\n",
      "Label for image at index 15 is 1\n"
     ]
    },
    {
     "data": {
      "image/png": "[encoded data removed]",
      "text/plain": [
       "<Figure size 1080x72 with 15 Axes>"
      ]
     },
     "metadata": {
      "needs_background": "light"
     },
     "output_type": "display_data"
    }
   ],
   "source": [
    "plt.figure(figsize=(15,1))\n",
    "for i in range(15):\n",
    "    plt.subplot(1,15,i+1)\n",
    "    plt.imshow(X_train[i].reshape(32,32),cmap='gray')\n",
    "    print(f'Label for image at index {i+1} is {np.argmax(y_train[0:15][i])}')"
   ]
  },
  {
   "cell_type": "markdown",
   "metadata": {},
   "source": [
    "### <span style=\"font-family: Arial; font-weight:bold;font-size:1.25em;color:#00b3e5;\">4. Define the Model with ReLu and softmax"
   ]
  },
  {
   "cell_type": "markdown",
   "metadata": {},
   "source": [
    "#### <span style=\"font-family: Arial; font-weight:bold;font-size:1.25em;color:#00b3e5;\">Create Basic Model with default values and SGD Optimizer"
   ]
  },
  {
   "cell_type": "code",
   "execution_count": 23,
   "metadata": {},
   "outputs": [],
   "source": [
    "def build_model(iterations):\n",
    "    hidden_nodes=256\n",
    "    output_nodes=10\n",
    "    iterations=iterations\n",
    "\n",
    "    #build the model\n",
    "    model = Sequential()\n",
    "    model.add(Flatten())\n",
    "    model.add(Reshape((1024,), input_shape=(32,32,), name='Input_layer'))\n",
    "    model.add(BatchNormalization())\n",
    "    model.add(Dense(hidden_nodes,activation='relu'))\n",
    "    model.add(Dense(hidden_nodes,activation='relu'))\n",
    "\n",
    "    model.add(Dense(output_nodes, activation='softmax'))\n",
    "\n",
    "    #Compile the model\n",
    "    model.compile(loss='categorical_crossentropy', optimizer='sgd', metrics=['accuracy'])\n",
    "\n",
    "    #Fit the model\n",
    "    model.fit(X_train, y_train, epochs=iterations, batch_size=1000, verbose=1)\n",
    "    \n",
    "    scores=[]\n",
    "    score = model.evaluate(X_train, y_train, verbose=0)\n",
    "    scores.append(score)\n",
    "    score = model.evaluate(X_val, y_val, verbose=0)\n",
    "    scores.append(score)\n",
    "    score = model.evaluate(X_test, y_test, verbose=0)\n",
    "    scores.append(score)\n",
    "    return scores\n"
   ]
  },
  {
   "cell_type": "markdown",
   "metadata": {},
   "source": [
    "##### <span style=\"font-family: Arial; font-weight:bold;font-size:1.25em;color:#00b3e5;\">Build / Compile / Fit Model"
   ]
  },
  {
   "cell_type": "code",
   "execution_count": 24,
   "metadata": {},
   "outputs": [
    {
     "name": "stdout",
     "output_type": "stream",
     "text": [
      "42/42 [==============================] - 1s 23ms/step - loss: 2.3426 - accuracy: 0.1363\n"
     ]
    }
   ],
   "source": [
    "iterations = 1\n",
    "lr=0.0001\n",
    "Lambda=0\n",
    "\n",
    "scores = build_model(iterations)"
   ]
  },
  {
   "cell_type": "code",
   "execution_count": 25,
   "metadata": {},
   "outputs": [
    {
     "name": "stdout",
     "output_type": "stream",
     "text": [
      "Training Dataset Loss is 2.2903120517730713 Accuracy is 0.14945238828659058\n",
      "\n",
      "Validation Dataset Loss is 2.290642499923706 Accuracy is 0.1490333378314972\n",
      "\n",
      "Test Dataset Loss is 2.2914154529571533 Accuracy is 0.1480555534362793\n",
      "\n"
     ]
    }
   ],
   "source": [
    "print(f'Training Dataset Loss is {scores[0][0]} Accuracy is {scores[0][1]}\\n')\n",
    "print(f'Validation Dataset Loss is {scores[1][0]} Accuracy is {scores[1][1]}\\n')\n",
    "print(f'Test Dataset Loss is {scores[2][0]} Accuracy is {scores[2][1]}\\n')"
   ]
  },
  {
   "cell_type": "markdown",
   "metadata": {},
   "source": [
    "#### <span style=\"font-family: Arial; font-weight:bold;font-size:1.25em;color:#00b3e5;\">Observation :\n",
    "<font color=darkblue>\n",
    "<ul>\n",
    "<li>Both Loss and Accuracy looking reasonable</li>\n",
    "<li>Loss here is calculated via softmax and crossentropy</li>\n",
    "<li>Accuracy is probability of being a certain digit among 10 classes is 10%</li>\n",
    "</ul>\n",
    "</font>"
   ]
  },
  {
   "cell_type": "code",
   "execution_count": 26,
   "metadata": {},
   "outputs": [
    {
     "name": "stdout",
     "output_type": "stream",
     "text": [
      "Epoch 1/100\n",
      "42/42 [==============================] - 1s 25ms/step - loss: 2.3758 - accuracy: 0.1155 0s - los\n",
      "Epoch 2/100\n",
      "42/42 [==============================] - 1s 24ms/step - loss: 2.2635 - accuracy: 0.1644\n",
      "Epoch 3/100\n",
      "42/42 [==============================] - 1s 24ms/step - loss: 2.1926 - accuracy: 0.2231\n",
      "Epoch 4/100\n",
      "42/42 [==============================] - 1s 24ms/step - loss: 2.1274 - accuracy: 0.2728\n",
      "Epoch 5/100\n",
      "42/42 [==============================] - 1s 24ms/step - loss: 2.0616 - accuracy: 0.3194\n",
      "Epoch 6/100\n",
      "42/42 [==============================] - 1s 25ms/step - loss: 1.9948 - accuracy: 0.3579\n",
      "Epoch 7/100\n",
      "42/42 [==============================] - 1s 25ms/step - loss: 1.9259 - accuracy: 0.3935\n",
      "Epoch 8/100\n",
      "42/42 [==============================] - 1s 24ms/step - loss: 1.8562 - accuracy: 0.4286\n",
      "Epoch 9/100\n",
      "42/42 [==============================] - 1s 31ms/step - loss: 1.7871 - accuracy: 0.4586\n",
      "Epoch 10/100\n",
      "42/42 [==============================] - 1s 26ms/step - loss: 1.7189 - accuracy: 0.4879\n",
      "Epoch 11/100\n",
      "42/42 [==============================] - 1s 29ms/step - loss: 1.6538 - accuracy: 0.5152\n",
      "Epoch 12/100\n",
      "42/42 [==============================] - 1s 24ms/step - loss: 1.5919 - accuracy: 0.5393\n",
      "Epoch 13/100\n",
      "42/42 [==============================] - 1s 24ms/step - loss: 1.5347 - accuracy: 0.5595\n",
      "Epoch 14/100\n",
      "42/42 [==============================] - 1s 25ms/step - loss: 1.4818 - accuracy: 0.5770\n",
      "Epoch 15/100\n",
      "42/42 [==============================] - 1s 25ms/step - loss: 1.4340 - accuracy: 0.5920\n",
      "Epoch 16/100\n",
      "42/42 [==============================] - 1s 25ms/step - loss: 1.3896 - accuracy: 0.6064\n",
      "Epoch 17/100\n",
      "42/42 [==============================] - 1s 26ms/step - loss: 1.3493 - accuracy: 0.6190\n",
      "Epoch 18/100\n",
      "42/42 [==============================] - 1s 25ms/step - loss: 1.3130 - accuracy: 0.6299\n",
      "Epoch 19/100\n",
      "42/42 [==============================] - 1s 25ms/step - loss: 1.2805 - accuracy: 0.6381\n",
      "Epoch 20/100\n",
      "42/42 [==============================] - 1s 25ms/step - loss: 1.2500 - accuracy: 0.6465\n",
      "Epoch 21/100\n",
      "42/42 [==============================] - 1s 25ms/step - loss: 1.2224 - accuracy: 0.6551\n",
      "Epoch 22/100\n",
      "42/42 [==============================] - 1s 25ms/step - loss: 1.1968 - accuracy: 0.6620\n",
      "Epoch 23/100\n",
      "42/42 [==============================] - 1s 25ms/step - loss: 1.1733 - accuracy: 0.6680\n",
      "Epoch 24/100\n",
      "42/42 [==============================] - 1s 25ms/step - loss: 1.1511 - accuracy: 0.6756\n",
      "Epoch 25/100\n",
      "42/42 [==============================] - 1s 25ms/step - loss: 1.1315 - accuracy: 0.6789\n",
      "Epoch 26/100\n",
      "42/42 [==============================] - 1s 25ms/step - loss: 1.1130 - accuracy: 0.6851\n",
      "Epoch 27/100\n",
      "42/42 [==============================] - 1s 25ms/step - loss: 1.0951 - accuracy: 0.6894\n",
      "Epoch 28/100\n",
      "42/42 [==============================] - 1s 25ms/step - loss: 1.0788 - accuracy: 0.6938\n",
      "Epoch 29/100\n",
      "42/42 [==============================] - 1s 25ms/step - loss: 1.0627 - accuracy: 0.6973\n",
      "Epoch 30/100\n",
      "42/42 [==============================] - 1s 25ms/step - loss: 1.0489 - accuracy: 0.7018\n",
      "Epoch 31/100\n",
      "42/42 [==============================] - 1s 26ms/step - loss: 1.0338 - accuracy: 0.7066\n",
      "Epoch 32/100\n",
      "42/42 [==============================] - 1s 34ms/step - loss: 1.0207 - accuracy: 0.7091\n",
      "Epoch 33/100\n",
      "42/42 [==============================] - 1s 26ms/step - loss: 1.0075 - accuracy: 0.7143\n",
      "Epoch 34/100\n",
      "42/42 [==============================] - 1s 25ms/step - loss: 0.9955 - accuracy: 0.7168\n",
      "Epoch 35/100\n",
      "42/42 [==============================] - 1s 26ms/step - loss: 0.9843 - accuracy: 0.7190\n",
      "Epoch 36/100\n",
      "42/42 [==============================] - 1s 30ms/step - loss: 0.9726 - accuracy: 0.7241\n",
      "Epoch 37/100\n",
      "42/42 [==============================] - 1s 31ms/step - loss: 0.9619 - accuracy: 0.7254\n",
      "Epoch 38/100\n",
      "42/42 [==============================] - 1s 24ms/step - loss: 0.9516 - accuracy: 0.7289\n",
      "Epoch 39/100\n",
      "42/42 [==============================] - 1s 25ms/step - loss: 0.9402 - accuracy: 0.7322\n",
      "Epoch 40/100\n",
      "42/42 [==============================] - 1s 25ms/step - loss: 0.9309 - accuracy: 0.7346\n",
      "Epoch 41/100\n",
      "42/42 [==============================] - 1s 25ms/step - loss: 0.9200 - accuracy: 0.7386\n",
      "Epoch 42/100\n",
      "42/42 [==============================] - 1s 25ms/step - loss: 0.9116 - accuracy: 0.7399\n",
      "Epoch 43/100\n",
      "42/42 [==============================] - 1s 26ms/step - loss: 0.9028 - accuracy: 0.7415\n",
      "Epoch 44/100\n",
      "42/42 [==============================] - 1s 25ms/step - loss: 0.8933 - accuracy: 0.7456\n",
      "Epoch 45/100\n",
      "42/42 [==============================] - 1s 25ms/step - loss: 0.8849 - accuracy: 0.7467\n",
      "Epoch 46/100\n",
      "42/42 [==============================] - 1s 25ms/step - loss: 0.8771 - accuracy: 0.7500\n",
      "Epoch 47/100\n",
      "42/42 [==============================] - 1s 26ms/step - loss: 0.8682 - accuracy: 0.7511\n",
      "Epoch 48/100\n",
      "42/42 [==============================] - 1s 25ms/step - loss: 0.8613 - accuracy: 0.7532\n",
      "Epoch 49/100\n",
      "42/42 [==============================] - 1s 25ms/step - loss: 0.8535 - accuracy: 0.7562\n",
      "Epoch 50/100\n",
      "42/42 [==============================] - 1s 25ms/step - loss: 0.8452 - accuracy: 0.7571\n",
      "Epoch 51/100\n",
      "42/42 [==============================] - 1s 26ms/step - loss: 0.8383 - accuracy: 0.7608\n",
      "Epoch 52/100\n",
      "42/42 [==============================] - 1s 26ms/step - loss: 0.8313 - accuracy: 0.7619\n",
      "Epoch 53/100\n",
      "42/42 [==============================] - 1s 25ms/step - loss: 0.8232 - accuracy: 0.7649\n",
      "Epoch 54/100\n",
      "42/42 [==============================] - 1s 25ms/step - loss: 0.8165 - accuracy: 0.7663\n",
      "Epoch 55/100\n",
      "42/42 [==============================] - 1s 25ms/step - loss: 0.8100 - accuracy: 0.7672\n",
      "Epoch 56/100\n",
      "42/42 [==============================] - 1s 25ms/step - loss: 0.8034 - accuracy: 0.7692\n",
      "Epoch 57/100\n",
      "42/42 [==============================] - 1s 26ms/step - loss: 0.7967 - accuracy: 0.7721\n",
      "Epoch 58/100\n",
      "42/42 [==============================] - 1s 29ms/step - loss: 0.7908 - accuracy: 0.7737\n",
      "Epoch 59/100\n",
      "42/42 [==============================] - 1s 32ms/step - loss: 0.7840 - accuracy: 0.7749\n",
      "Epoch 60/100\n",
      "42/42 [==============================] - 1s 29ms/step - loss: 0.7780 - accuracy: 0.7771\n",
      "Epoch 61/100\n",
      "42/42 [==============================] - 1s 28ms/step - loss: 0.7720 - accuracy: 0.7788\n",
      "Epoch 62/100\n",
      "42/42 [==============================] - 1s 25ms/step - loss: 0.7664 - accuracy: 0.7812\n",
      "Epoch 63/100\n",
      "42/42 [==============================] - 1s 27ms/step - loss: 0.7613 - accuracy: 0.7820\n",
      "Epoch 64/100\n",
      "42/42 [==============================] - 1s 29ms/step - loss: 0.7548 - accuracy: 0.7841\n",
      "Epoch 65/100\n",
      "42/42 [==============================] - 1s 29ms/step - loss: 0.7489 - accuracy: 0.7851\n",
      "Epoch 66/100\n",
      "42/42 [==============================] - 1s 29ms/step - loss: 0.7445 - accuracy: 0.7877\n",
      "Epoch 67/100\n",
      "42/42 [==============================] - 1s 29ms/step - loss: 0.7395 - accuracy: 0.7879\n",
      "Epoch 68/100\n",
      "42/42 [==============================] - 1s 29ms/step - loss: 0.7336 - accuracy: 0.7892\n",
      "Epoch 69/100\n",
      "42/42 [==============================] - 1s 31ms/step - loss: 0.7292 - accuracy: 0.7907\n",
      "Epoch 70/100\n",
      "42/42 [==============================] - 1s 28ms/step - loss: 0.7234 - accuracy: 0.7937\n",
      "Epoch 71/100\n",
      "42/42 [==============================] - 1s 29ms/step - loss: 0.7193 - accuracy: 0.7934\n",
      "Epoch 72/100\n",
      "42/42 [==============================] - 1s 26ms/step - loss: 0.7140 - accuracy: 0.7950\n",
      "Epoch 73/100\n",
      "42/42 [==============================] - 1s 26ms/step - loss: 0.7092 - accuracy: 0.7960\n",
      "Epoch 74/100\n",
      "42/42 [==============================] - 1s 27ms/step - loss: 0.7037 - accuracy: 0.7976\n",
      "Epoch 75/100\n",
      "42/42 [==============================] - 1s 27ms/step - loss: 0.6995 - accuracy: 0.7999\n",
      "Epoch 76/100\n",
      "42/42 [==============================] - 1s 28ms/step - loss: 0.6955 - accuracy: 0.8004\n",
      "Epoch 77/100\n",
      "42/42 [==============================] - 1s 27ms/step - loss: 0.6909 - accuracy: 0.8010\n",
      "Epoch 78/100\n",
      "42/42 [==============================] - 1s 26ms/step - loss: 0.6861 - accuracy: 0.8033\n",
      "Epoch 79/100\n",
      "42/42 [==============================] - 1s 27ms/step - loss: 0.6816 - accuracy: 0.8047\n",
      "Epoch 80/100\n",
      "42/42 [==============================] - 1s 28ms/step - loss: 0.6776 - accuracy: 0.8054\n",
      "Epoch 81/100\n",
      "42/42 [==============================] - 1s 28ms/step - loss: 0.6732 - accuracy: 0.8064\n",
      "Epoch 82/100\n"
     ]
    },
    {
     "name": "stdout",
     "output_type": "stream",
     "text": [
      "42/42 [==============================] - 1s 25ms/step - loss: 0.6692 - accuracy: 0.8071\n",
      "Epoch 83/100\n",
      "42/42 [==============================] - 1s 25ms/step - loss: 0.6648 - accuracy: 0.8078\n",
      "Epoch 84/100\n",
      "42/42 [==============================] - 1s 25ms/step - loss: 0.6612 - accuracy: 0.8107\n",
      "Epoch 85/100\n",
      "42/42 [==============================] - 1s 26ms/step - loss: 0.6565 - accuracy: 0.8123\n",
      "Epoch 86/100\n",
      "42/42 [==============================] - 1s 26ms/step - loss: 0.6531 - accuracy: 0.8117\n",
      "Epoch 87/100\n",
      "42/42 [==============================] - 1s 26ms/step - loss: 0.6495 - accuracy: 0.8133\n",
      "Epoch 88/100\n",
      "42/42 [==============================] - 1s 27ms/step - loss: 0.6457 - accuracy: 0.8147\n",
      "Epoch 89/100\n",
      "42/42 [==============================] - 1s 26ms/step - loss: 0.6432 - accuracy: 0.8148\n",
      "Epoch 90/100\n",
      "42/42 [==============================] - 1s 26ms/step - loss: 0.6388 - accuracy: 0.8168\n",
      "Epoch 91/100\n",
      "42/42 [==============================] - 1s 27ms/step - loss: 0.6344 - accuracy: 0.8169\n",
      "Epoch 92/100\n",
      "42/42 [==============================] - 1s 26ms/step - loss: 0.6315 - accuracy: 0.8178\n",
      "Epoch 93/100\n",
      "42/42 [==============================] - 1s 25ms/step - loss: 0.6291 - accuracy: 0.8183\n",
      "Epoch 94/100\n",
      "42/42 [==============================] - 1s 25ms/step - loss: 0.6251 - accuracy: 0.8205\n",
      "Epoch 95/100\n",
      "42/42 [==============================] - 1s 26ms/step - loss: 0.6216 - accuracy: 0.8212\n",
      "Epoch 96/100\n",
      "42/42 [==============================] - 1s 25ms/step - loss: 0.6182 - accuracy: 0.8229\n",
      "Epoch 97/100\n",
      "42/42 [==============================] - 1s 26ms/step - loss: 0.6145 - accuracy: 0.8232\n",
      "Epoch 98/100\n",
      "42/42 [==============================] - 1s 25ms/step - loss: 0.6112 - accuracy: 0.8257\n",
      "Epoch 99/100\n",
      "42/42 [==============================] - 1s 26ms/step - loss: 0.6084 - accuracy: 0.8258\n",
      "Epoch 100/100\n",
      "42/42 [==============================] - 1s 25ms/step - loss: 0.6062 - accuracy: 0.8260\n"
     ]
    }
   ],
   "source": [
    "iterations = 100\n",
    "lr=0.0001\n",
    "Lambda=0\n",
    "\n",
    "scores = build_model(iterations)"
   ]
  },
  {
   "cell_type": "code",
   "execution_count": 27,
   "metadata": {},
   "outputs": [
    {
     "name": "stdout",
     "output_type": "stream",
     "text": [
      "Training Dataset Loss is 0.5953953862190247 Accuracy is 0.8302381038665771\n",
      "\n",
      "Validation Dataset Loss is 0.6291595101356506 Accuracy is 0.8210166692733765\n",
      "\n",
      "Test Dataset Loss is 0.7079436182975769 Accuracy is 0.7994999885559082\n",
      "\n"
     ]
    }
   ],
   "source": [
    "print(f'Training Dataset Loss is {scores[0][0]} Accuracy is {scores[0][1]}\\n')\n",
    "print(f'Validation Dataset Loss is {scores[1][0]} Accuracy is {scores[1][1]}\\n')\n",
    "print(f'Test Dataset Loss is {scores[2][0]} Accuracy is {scores[2][1]}\\n')\n"
   ]
  },
  {
   "cell_type": "markdown",
   "metadata": {},
   "source": [
    "#### <span style=\"font-family: Arial; font-weight:bold;font-size:1.25em;color:#00b3e5;\">Observation :\n",
    "<font color=darkblue>\n",
    "We can imporve the accuracy and loss with additional layers and better optimizers\n",
    "</font>"
   ]
  },
  {
   "cell_type": "markdown",
   "metadata": {},
   "source": [
    "### <span style=\"font-family: Arial; font-weight:bold;font-size:1.25em;color:#00b3e5;\">5. Define the Model with loss as categorical cross-entropy and adam optimizers"
   ]
  },
  {
   "cell_type": "markdown",
   "metadata": {},
   "source": [
    "#### <span style=\"font-family: Arial; font-weight:bold;font-size:1.25em;color:#00b3e5;\">Create Model 2 with more Layers, Dropout Layer, Custom Adam Optimizer and Hyperparameters"
   ]
  },
  {
   "cell_type": "code",
   "execution_count": 28,
   "metadata": {},
   "outputs": [],
   "source": [
    "def build_model_2(iterations, lr, Lambda, verb=0, eval_test=False):\n",
    "    hidden_nodes=256\n",
    "    output_nodes=10\n",
    "    iterations=iterations\n",
    "    learning_rate=lr\n",
    "\n",
    "    #For early stopping of model\n",
    "    callbacks = tensorflow.keras.callbacks.EarlyStopping(monitor='loss', patience=3)\n",
    "    \n",
    "    #build the model\n",
    "    model = Sequential()\n",
    "    model.add(Flatten())\n",
    "    model.add(Reshape((1024,), input_shape=(32,32,), name='Input_layer'))\n",
    "    model.add(BatchNormalization())\n",
    "    model.add(Dense(hidden_nodes,activation='relu'))\n",
    "    model.add(Dense(hidden_nodes,activation='relu'))\n",
    "    \n",
    "    model.add(Dropout(0.3))\n",
    "    \n",
    "    model.add(Dense(hidden_nodes,activation='relu'))\n",
    "    model.add(Dense(hidden_nodes,activation='relu'))\n",
    "\n",
    "    model.add(Dense(output_nodes, activation='softmax', kernel_regularizer=regularizers.l2(Lambda)))\n",
    "\n",
    "    #adam optimizer with custom learning rate\n",
    "    adam = optimizers.Adam(lr=learning_rate)\n",
    "\n",
    "    #Compile the model\n",
    "    model.compile(loss='categorical_crossentropy', optimizer=adam, metrics=['accuracy'])\n",
    "\n",
    "    #Fit the model\n",
    "    model.fit(X_train,y_train, validation_data=(X_val,y_val), epochs=iterations, \n",
    "              batch_size=1000, verbose=verb, callbacks=[callbacks])\n",
    "    \n",
    "    if eval_test == True:\n",
    "        scores=[]\n",
    "        score = model.evaluate(X_train, y_train, verbose=0)\n",
    "        scores.append(score)\n",
    "        score = model.evaluate(X_val, y_val, verbose=0)\n",
    "        scores.append(score)\n",
    "        score = model.evaluate(X_test, y_test, verbose=0)\n",
    "        scores.append(score)\n",
    "        return scores\n",
    "    else:\n",
    "        score = model.evaluate(X_val,y_val, verbose=(verb+1)%2)\n",
    "        return score\n"
   ]
  },
  {
   "cell_type": "markdown",
   "metadata": {},
   "source": [
    "###### <span style=\"font-family: Arial; font-weight:bold;font-size:1.25em;color:#00b3e5;\">Let us try with very low learning rate and zero regularization"
   ]
  },
  {
   "cell_type": "code",
   "execution_count": 29,
   "metadata": {},
   "outputs": [
    {
     "name": "stdout",
     "output_type": "stream",
     "text": [
      "1875/1875 [==============================] - 3s 2ms/step - loss: 2.2846 - accuracy: 0.2062\n"
     ]
    }
   ],
   "source": [
    "iterations=1\n",
    "lr=0.0001\n",
    "Lambda=0\n",
    "\n",
    "#Build the model\n",
    "scores = build_model_2(iterations, lr, Lambda)"
   ]
  },
  {
   "cell_type": "code",
   "execution_count": 30,
   "metadata": {},
   "outputs": [
    {
     "name": "stdout",
     "output_type": "stream",
     "text": [
      "Loss is 2.2845771312713623 Accuracy is 0.20621666312217712\n",
      "\n"
     ]
    }
   ],
   "source": [
    "print(f'Loss is {scores[0]} Accuracy is {scores[1]}\\n')"
   ]
  },
  {
   "cell_type": "markdown",
   "metadata": {},
   "source": [
    "#### <span style=\"font-family: Arial; font-weight:bold;font-size:1.25em;color:#00b3e5;\">Observation :\n",
    "<font color=darkblue>\n",
    "Both Loss and Accuracy looking reasonable\n",
    "</font>"
   ]
  },
  {
   "cell_type": "markdown",
   "metadata": {},
   "source": [
    "#### <span style=\"font-family: Arial; font-weight:bold;font-size:1.25em;color:#00b3e5;\">Hyperparameter Tunning\n",
    "<font color=darkblue>\n",
    "We can start with coarse values and then tune the model with fine values.\n",
    "</font>"
   ]
  },
  {
   "cell_type": "markdown",
   "metadata": {},
   "source": [
    "###### <span style=\"font-family: Arial; font-weight:bold;font-size:1.25em;color:#00b3e5;\">Very low Learning rate and very low regularization value"
   ]
  },
  {
   "cell_type": "code",
   "execution_count": 31,
   "metadata": {},
   "outputs": [
    {
     "name": "stdout",
     "output_type": "stream",
     "text": [
      "1875/1875 [==============================] - 3s 2ms/step - loss: 2.3390 - accuracy: 0.1007\n"
     ]
    }
   ],
   "source": [
    "iterations=50\n",
    "lr=1e-7\n",
    "Lambda=1e-7\n",
    "\n",
    "#Build the model\n",
    "scores = build_model_2(iterations, lr, Lambda)"
   ]
  },
  {
   "cell_type": "code",
   "execution_count": 32,
   "metadata": {},
   "outputs": [
    {
     "name": "stdout",
     "output_type": "stream",
     "text": [
      "\n",
      "Loss is 2.339022397994995 and Accuracy is 0.10073333233594894\n"
     ]
    }
   ],
   "source": [
    "print(f'\\nLoss is {scores[0]} and Accuracy is {scores[1]}')"
   ]
  },
  {
   "cell_type": "markdown",
   "metadata": {},
   "source": [
    "#### <span style=\"font-family: Arial; font-weight:bold;font-size:1.25em;color:#00b3e5;\">Observation :\n",
    "<font color=darkblue>\n",
    "Very low learning rate and Lambda results in low accuracy\n",
    "</font>"
   ]
  },
  {
   "cell_type": "markdown",
   "metadata": {},
   "source": [
    "###### <span style=\"font-family: Arial; font-weight:bold;font-size:1.25em;color:#00b3e5;\">Very high learning rate and very high regularization value"
   ]
  },
  {
   "cell_type": "code",
   "execution_count": 33,
   "metadata": {},
   "outputs": [
    {
     "name": "stdout",
     "output_type": "stream",
     "text": [
      "1875/1875 [==============================] - 3s 2ms/step - loss: nan - accuracy: 0.1000\n"
     ]
    }
   ],
   "source": [
    "iterations=50\n",
    "lr=1e+7\n",
    "Lambda=1e+7\n",
    "\n",
    "#Build the model\n",
    "scores = build_model_2(iterations, lr, Lambda)"
   ]
  },
  {
   "cell_type": "code",
   "execution_count": 34,
   "metadata": {},
   "outputs": [
    {
     "name": "stdout",
     "output_type": "stream",
     "text": [
      "\n",
      "Loss is nan and Accuracy is 0.10000000149011612\n"
     ]
    }
   ],
   "source": [
    "print(f'\\nLoss is {scores[0]} and Accuracy is {scores[1]}')"
   ]
  },
  {
   "cell_type": "markdown",
   "metadata": {},
   "source": [
    "#### <span style=\"font-family: Arial; font-weight:bold;font-size:1.25em;color:#00b3e5;\">Observation :\n",
    "<font color=darkblue>\n",
    "Loss exploded because the learning rate is very high\n",
    "</font>"
   ]
  },
  {
   "cell_type": "markdown",
   "metadata": {},
   "source": [
    "###### <span style=\"font-family: Arial; font-weight:bold;font-size:1.25em;color:#00b3e5;\">Narrow learning rate and regularization value"
   ]
  },
  {
   "cell_type": "code",
   "execution_count": 35,
   "metadata": {},
   "outputs": [
    {
     "name": "stdout",
     "output_type": "stream",
     "text": [
      "1875/1875 [==============================] - 3s 2ms/step - loss: 0.3847 - accuracy: 0.8901\n"
     ]
    }
   ],
   "source": [
    "iterations=50\n",
    "lr=1e-4\n",
    "Lambda=1e-7\n",
    "\n",
    "#Build the model\n",
    "scores = build_model_2(iterations, lr, Lambda)"
   ]
  },
  {
   "cell_type": "code",
   "execution_count": 36,
   "metadata": {},
   "outputs": [
    {
     "name": "stdout",
     "output_type": "stream",
     "text": [
      "\n",
      "Loss is 0.38469791412353516 and Accuracy is 0.8901166915893555\n"
     ]
    }
   ],
   "source": [
    "print(f'\\nLoss is {scores[0]} and Accuracy is {scores[1]}')"
   ]
  },
  {
   "cell_type": "markdown",
   "metadata": {},
   "source": [
    "#### <span style=\"font-family: Arial; font-weight:bold;font-size:1.25em;color:#00b3e5;\">Observation :\n",
    "<font color=darkblue>\n",
    "Very good accuracy\n",
    "</font>"
   ]
  },
  {
   "cell_type": "code",
   "execution_count": 37,
   "metadata": {},
   "outputs": [
    {
     "name": "stdout",
     "output_type": "stream",
     "text": [
      "1875/1875 [==============================] - 3s 2ms/step - loss: -39737085952.0000 - accuracy: 0.1000\n"
     ]
    }
   ],
   "source": [
    "iterations=50\n",
    "lr=2\n",
    "Lambda=-2\n",
    "\n",
    "#Build the model\n",
    "scores = build_model_2(iterations, lr, Lambda)"
   ]
  },
  {
   "cell_type": "code",
   "execution_count": 38,
   "metadata": {},
   "outputs": [
    {
     "name": "stdout",
     "output_type": "stream",
     "text": [
      "\n",
      "Loss is -39737085952.0 and Accuracy is 0.10000000149011612\n"
     ]
    }
   ],
   "source": [
    "print(f'\\nLoss is {scores[0]} and Accuracy is {scores[1]}')"
   ]
  },
  {
   "cell_type": "markdown",
   "metadata": {},
   "source": [
    "#### <span style=\"font-family: Arial; font-weight:bold;font-size:1.25em;color:#00b3e5;\">Observation :\n",
    "<font color=darkblue>\n",
    "Loss is too high as Learning rate=2 is too high for model\n",
    "</font>"
   ]
  },
  {
   "cell_type": "markdown",
   "metadata": {},
   "source": [
    "###### <span style=\"font-family: Arial; font-weight:bold;font-size:1.25em;color:#00b3e5;\">Finding good Hyperparameter values using random value in a certain range"
   ]
  },
  {
   "cell_type": "code",
   "execution_count": 39,
   "metadata": {},
   "outputs": [
    {
     "name": "stdout",
     "output_type": "stream",
     "text": [
      "1875/1875 [==============================] - 5s 3ms/step - loss: 0.3603 - accuracy: 0.8988\n",
      "Loss is 0.3603304326534271, Accuracy is 0.8987500071525574 with learing rate 0.00011978207637543888 and Lambda 3.3409434529891634e-05\n",
      "\n",
      "1875/1875 [==============================] - 5s 3ms/step - loss: 0.3990 - accuracy: 0.8849\n",
      "Loss is 0.3990415334701538, Accuracy is 0.8849499821662903 with learing rate 0.008180139341378683 and Lambda 0.0003846315624649923\n",
      "\n",
      "1875/1875 [==============================] - 7s 4ms/step - loss: 1549.3623 - accuracy: 0.1000\n",
      "Loss is 1549.3623046875, Accuracy is 0.10000000149011612 with learing rate 9.283408880370743 and Lambda 0.0002324758980233005\n",
      "\n",
      "1875/1875 [==============================] - 8s 4ms/step - loss: 2.3428 - accuracy: 0.1000\n",
      "Loss is 2.3428125381469727, Accuracy is 0.10000000149011612 with learing rate 0.06194920400261697 and Lambda 0.00030502612484135754\n",
      "\n",
      "1875/1875 [==============================] - 7s 4ms/step - loss: 0.3446 - accuracy: 0.9162\n",
      "Loss is 0.34455496072769165, Accuracy is 0.9162166714668274 with learing rate 0.00020665471166525122 and Lambda 0.006438315400809018\n",
      "\n",
      "1875/1875 [==============================] - 8s 4ms/step - loss: 2.3203 - accuracy: 0.1000\n",
      "Loss is 2.320340871810913, Accuracy is 0.10000000149011612 with learing rate 0.18909437831584627 and Lambda 6.492521409920887e-06\n",
      "\n",
      "1875/1875 [==============================] - 7s 4ms/step - loss: 4.5754 - accuracy: 0.1000\n",
      "Loss is 4.575425148010254, Accuracy is 0.10001666843891144 with learing rate 8.26579942163255 and Lambda 3.125993515836458e-07\n",
      "\n",
      "1875/1875 [==============================] - 4s 2ms/step - loss: 2.4036 - accuracy: 0.1000\n",
      "Loss is 2.4035582542419434, Accuracy is 0.10000000149011612 with learing rate 0.05199273271805428 and Lambda 0.0016810481679059716\n",
      "\n",
      "1875/1875 [==============================] - 4s 2ms/step - loss: 223.0784 - accuracy: 0.1000\n",
      "Loss is 223.07835388183594, Accuracy is 0.10000000149011612 with learing rate 3.4484872075916027 and Lambda 0.00018377129453503956\n",
      "\n",
      "1875/1875 [==============================] - 4s 2ms/step - loss: 2.3501 - accuracy: 0.1000\n",
      "Loss is 2.350064277648926, Accuracy is 0.10000000149011612 with learing rate 0.08645753192237753 and Lambda 0.00016312076479489066\n",
      "\n"
     ]
    }
   ],
   "source": [
    "results=[]\n",
    "for i in range(10):\n",
    "    lr=math.pow(10, np.random.uniform(-4.0, 1.0))\n",
    "    Lambda = math.pow(10, np.random.uniform(-7, -2))\n",
    "    iternations = 20\n",
    "\n",
    "    #Build the model\n",
    "    scores = build_model_2(iterations, lr, Lambda)\n",
    "    result=f'Loss is {scores[0]}, Accuracy is {scores[1]} with learing rate {lr} and Lambda {Lambda}\\n'\n",
    "    print(result)\n",
    "    results.append(result)"
   ]
  },
  {
   "cell_type": "markdown",
   "metadata": {},
   "source": [
    "#### <span style=\"font-family: Arial; font-weight:bold;font-size:1.25em;color:#00b3e5;\">Observation :\n",
    "<font color=darkblue>\n",
    "We get good results in range 0.004 to 0.002 for lr and 1e-6 to 1e-4\n",
    "</font>"
   ]
  },
  {
   "cell_type": "markdown",
   "metadata": {},
   "source": [
    "###### <span style=\"font-family: Arial; font-weight:bold;font-size:1.25em;color:#00b3e5;\">Let's run deeper (iterations=100) for this range"
   ]
  },
  {
   "cell_type": "code",
   "execution_count": 40,
   "metadata": {},
   "outputs": [
    {
     "name": "stdout",
     "output_type": "stream",
     "text": [
      "1875/1875 [==============================] - 3s 2ms/step - loss: 0.2800 - accuracy: 0.9306\n",
      "Loss is 0.2800196409225464, Accuracy is 0.930649995803833 with learing rate 0.0016420467268857398 and Lambda 8.193499909103955e-05\n",
      "\n",
      "1875/1875 [==============================] - 4s 2ms/step - loss: 0.2558 - accuracy: 0.9373\n",
      "Loss is 0.2558373808860779, Accuracy is 0.9373000264167786 with learing rate 0.0013396640879995113 and Lambda 3.748421829035153e-07\n",
      "\n",
      "1875/1875 [==============================] - 4s 2ms/step - loss: 600.6096 - accuracy: 0.1000\n",
      "Loss is 600.6095581054688, Accuracy is 0.10000000149011612 with learing rate 186.23442148192336 and Lambda 1.7938667242111386e-07\n",
      "\n",
      "1875/1875 [==============================] - 4s 2ms/step - loss: 0.3461 - accuracy: 0.9008\n",
      "Loss is 0.34612345695495605, Accuracy is 0.9008166790008545 with learing rate 0.005040992594166294 and Lambda 6.641699439734376e-05\n",
      "\n",
      "1875/1875 [==============================] - 4s 2ms/step - loss: 2.3041 - accuracy: 0.1000\n",
      "Loss is 2.3040544986724854, Accuracy is 0.10000000149011612 with learing rate 0.029206954308460452 and Lambda 2.9592111498930752e-05\n",
      "\n",
      "1875/1875 [==============================] - 4s 2ms/step - loss: 35049.8125 - accuracy: 0.1000\n",
      "Loss is 35049.8125, Accuracy is 0.10000000149011612 with learing rate 78.5174413399236 and Lambda 8.105052811055257e-05\n",
      "\n",
      "1875/1875 [==============================] - 4s 2ms/step - loss: 0.4889 - accuracy: 0.8549\n",
      "Loss is 0.4888749122619629, Accuracy is 0.8548666834831238 with learing rate 0.010881828026164797 and Lambda 4.37103275440553e-06\n",
      "\n",
      "1875/1875 [==============================] - 4s 2ms/step - loss: 0.2833 - accuracy: 0.9208\n",
      "Loss is 0.28329065442085266, Accuracy is 0.9208333492279053 with learing rate 0.003306676887204274 and Lambda 4.768921164866602e-07\n",
      "\n",
      "1875/1875 [==============================] - 4s 2ms/step - loss: 219.9012 - accuracy: 0.1000\n",
      "Loss is 219.9011993408203, Accuracy is 0.10000000149011612 with learing rate 50.89577003926791 and Lambda 1.1753680204405057e-06\n",
      "\n",
      "1875/1875 [==============================] - 4s 2ms/step - loss: 2.3136 - accuracy: 0.1000\n",
      "Loss is 2.3135924339294434, Accuracy is 0.10000000149011612 with learing rate 0.7170254377710449 and Lambda 1.508883828769833e-07\n",
      "\n"
     ]
    }
   ],
   "source": [
    "results=[]\n",
    "for i in range(10):\n",
    "    lr=math.pow(10, np.random.uniform(-4.0, 3.0))\n",
    "    Lambda = math.pow(10, np.random.uniform(-7, -4))\n",
    "    iternations = 100\n",
    "    \n",
    "    #Build the model\n",
    "    scores = build_model_2(iterations, lr, Lambda)\n",
    "\n",
    "    result=f'Loss is {scores[0]}, Accuracy is {scores[1]} with learing rate {lr} and Lambda {Lambda}\\n'\n",
    "    print(result)\n",
    "    results.append(result)\n"
   ]
  },
  {
   "cell_type": "markdown",
   "metadata": {},
   "source": [
    "#### <span style=\"font-family: Arial; font-weight:bold;font-size:1.25em;color:#00b3e5;\">Observation :\n",
    "<font color=darkblue>\n",
    "Values lr = 0.0007 and Lambda = 1.31e-5 seem a good fit. Let's train this model deep for this value\n",
    "</font>"
   ]
  },
  {
   "cell_type": "code",
   "execution_count": 41,
   "metadata": {},
   "outputs": [
    {
     "name": "stdout",
     "output_type": "stream",
     "text": [
      "Epoch 1/500\n",
      "42/42 [==============================] - 2s 57ms/step - loss: 1.9252 - accuracy: 0.3290 - val_loss: 1.8158 - val_accuracy: 0.5827\n",
      "Epoch 2/500\n",
      "42/42 [==============================] - 2s 54ms/step - loss: 1.1346 - accuracy: 0.6426 - val_loss: 1.4624 - val_accuracy: 0.6807\n",
      "Epoch 3/500\n",
      "42/42 [==============================] - 2s 54ms/step - loss: 0.9111 - accuracy: 0.7189 - val_loss: 1.1750 - val_accuracy: 0.7486\n",
      "Epoch 4/500\n",
      "42/42 [==============================] - 2s 55ms/step - loss: 0.8109 - accuracy: 0.7469 - val_loss: 0.9916 - val_accuracy: 0.7708\n",
      "Epoch 5/500\n",
      "42/42 [==============================] - 2s 54ms/step - loss: 0.7269 - accuracy: 0.7766 - val_loss: 0.8123 - val_accuracy: 0.8000\n",
      "Epoch 6/500\n",
      "42/42 [==============================] - 2s 55ms/step - loss: 0.6677 - accuracy: 0.7932 - val_loss: 0.6907 - val_accuracy: 0.8171\n",
      "Epoch 7/500\n",
      "42/42 [==============================] - 2s 56ms/step - loss: 0.6204 - accuracy: 0.8071 - val_loss: 0.6098 - val_accuracy: 0.8318\n",
      "Epoch 8/500\n",
      "42/42 [==============================] - 2s 55ms/step - loss: 0.5901 - accuracy: 0.8173 - val_loss: 0.5514 - val_accuracy: 0.8431\n",
      "Epoch 9/500\n",
      "42/42 [==============================] - 2s 55ms/step - loss: 0.5529 - accuracy: 0.8280 - val_loss: 0.5004 - val_accuracy: 0.8561\n",
      "Epoch 10/500\n",
      "42/42 [==============================] - 2s 54ms/step - loss: 0.5239 - accuracy: 0.8363 - val_loss: 0.4939 - val_accuracy: 0.8522\n",
      "Epoch 11/500\n",
      "42/42 [==============================] - 2s 56ms/step - loss: 0.5122 - accuracy: 0.8391 - val_loss: 0.4619 - val_accuracy: 0.8640\n",
      "Epoch 12/500\n",
      "42/42 [==============================] - 2s 57ms/step - loss: 0.4889 - accuracy: 0.8475 - val_loss: 0.4544 - val_accuracy: 0.8639\n",
      "Epoch 13/500\n",
      "42/42 [==============================] - 2s 56ms/step - loss: 0.4723 - accuracy: 0.8509 - val_loss: 0.4509 - val_accuracy: 0.8641\n",
      "Epoch 14/500\n",
      "42/42 [==============================] - 2s 56ms/step - loss: 0.4511 - accuracy: 0.8566 - val_loss: 0.4345 - val_accuracy: 0.8706\n",
      "Epoch 15/500\n",
      "42/42 [==============================] - 2s 55ms/step - loss: 0.4409 - accuracy: 0.8611 - val_loss: 0.4115 - val_accuracy: 0.8775\n",
      "Epoch 16/500\n",
      "42/42 [==============================] - 2s 55ms/step - loss: 0.4146 - accuracy: 0.8690 - val_loss: 0.3897 - val_accuracy: 0.8836\n",
      "Epoch 17/500\n",
      "42/42 [==============================] - 2s 57ms/step - loss: 0.4055 - accuracy: 0.8722 - val_loss: 0.3928 - val_accuracy: 0.8831\n",
      "Epoch 18/500\n",
      "42/42 [==============================] - 2s 59ms/step - loss: 0.3946 - accuracy: 0.8743 - val_loss: 0.3722 - val_accuracy: 0.8902\n",
      "Epoch 19/500\n",
      "42/42 [==============================] - 2s 57ms/step - loss: 0.3759 - accuracy: 0.8800 - val_loss: 0.3722 - val_accuracy: 0.8891\n",
      "Epoch 20/500\n",
      "42/42 [==============================] - 2s 55ms/step - loss: 0.3649 - accuracy: 0.8846 - val_loss: 0.3435 - val_accuracy: 0.9000\n",
      "Epoch 21/500\n",
      "42/42 [==============================] - 2s 58ms/step - loss: 0.3500 - accuracy: 0.8885 - val_loss: 0.3376 - val_accuracy: 0.9016\n",
      "Epoch 22/500\n",
      "42/42 [==============================] - 2s 59ms/step - loss: 0.3388 - accuracy: 0.8927 - val_loss: 0.3465 - val_accuracy: 0.8983\n",
      "Epoch 23/500\n",
      "42/42 [==============================] - 2s 56ms/step - loss: 0.3344 - accuracy: 0.8938 - val_loss: 0.3294 - val_accuracy: 0.9044\n",
      "Epoch 24/500\n",
      "42/42 [==============================] - 2s 57ms/step - loss: 0.3232 - accuracy: 0.8951 - val_loss: 0.3226 - val_accuracy: 0.9071\n",
      "Epoch 25/500\n",
      "42/42 [==============================] - 2s 56ms/step - loss: 0.3180 - accuracy: 0.8969 - val_loss: 0.3275 - val_accuracy: 0.9065\n",
      "Epoch 26/500\n",
      "42/42 [==============================] - 3s 61ms/step - loss: 0.3135 - accuracy: 0.8998 - val_loss: 0.3132 - val_accuracy: 0.9105\n",
      "Epoch 27/500\n",
      "42/42 [==============================] - 2s 58ms/step - loss: 0.3031 - accuracy: 0.9026 - val_loss: 0.3041 - val_accuracy: 0.9147\n",
      "Epoch 28/500\n",
      "42/42 [==============================] - 2s 57ms/step - loss: 0.3015 - accuracy: 0.9033 - val_loss: 0.3222 - val_accuracy: 0.9068\n",
      "Epoch 29/500\n",
      "42/42 [==============================] - 2s 57ms/step - loss: 0.2917 - accuracy: 0.9058 - val_loss: 0.2939 - val_accuracy: 0.9180\n",
      "Epoch 30/500\n",
      "42/42 [==============================] - 2s 59ms/step - loss: 0.2837 - accuracy: 0.9073 - val_loss: 0.3036 - val_accuracy: 0.9145\n",
      "Epoch 31/500\n",
      "42/42 [==============================] - 2s 58ms/step - loss: 0.2779 - accuracy: 0.9085 - val_loss: 0.3027 - val_accuracy: 0.9154\n",
      "Epoch 32/500\n",
      "42/42 [==============================] - 2s 57ms/step - loss: 0.2786 - accuracy: 0.9097 - val_loss: 0.2810 - val_accuracy: 0.9224\n",
      "Epoch 33/500\n",
      "42/42 [==============================] - 2s 57ms/step - loss: 0.2635 - accuracy: 0.9145 - val_loss: 0.2941 - val_accuracy: 0.9189\n",
      "Epoch 34/500\n",
      "42/42 [==============================] - 2s 59ms/step - loss: 0.2626 - accuracy: 0.9151 - val_loss: 0.2880 - val_accuracy: 0.9214\n",
      "Epoch 35/500\n",
      "42/42 [==============================] - 2s 57ms/step - loss: 0.2590 - accuracy: 0.9160 - val_loss: 0.2724 - val_accuracy: 0.9260\n",
      "Epoch 36/500\n",
      "42/42 [==============================] - 2s 57ms/step - loss: 0.2505 - accuracy: 0.9195 - val_loss: 0.2869 - val_accuracy: 0.9216\n",
      "Epoch 37/500\n",
      "42/42 [==============================] - 2s 58ms/step - loss: 0.2416 - accuracy: 0.9210 - val_loss: 0.2708 - val_accuracy: 0.9276\n",
      "Epoch 38/500\n",
      "42/42 [==============================] - 2s 57ms/step - loss: 0.2306 - accuracy: 0.9250 - val_loss: 0.2726 - val_accuracy: 0.9279\n",
      "Epoch 39/500\n",
      "42/42 [==============================] - 2s 58ms/step - loss: 0.2253 - accuracy: 0.9270 - val_loss: 0.2659 - val_accuracy: 0.9295\n",
      "Epoch 40/500\n",
      "42/42 [==============================] - 2s 58ms/step - loss: 0.2256 - accuracy: 0.9287 - val_loss: 0.2594 - val_accuracy: 0.9330\n",
      "Epoch 41/500\n",
      "42/42 [==============================] - 2s 59ms/step - loss: 0.2266 - accuracy: 0.9255 - val_loss: 0.2681 - val_accuracy: 0.9294\n",
      "Epoch 42/500\n",
      "42/42 [==============================] - 2s 57ms/step - loss: 0.2131 - accuracy: 0.9309 - val_loss: 0.2598 - val_accuracy: 0.9311\n",
      "Epoch 43/500\n",
      "42/42 [==============================] - 2s 57ms/step - loss: 0.2024 - accuracy: 0.9330 - val_loss: 0.2535 - val_accuracy: 0.9365\n",
      "Epoch 44/500\n",
      "42/42 [==============================] - 2s 56ms/step - loss: 0.2191 - accuracy: 0.9287 - val_loss: 0.2723 - val_accuracy: 0.9284\n",
      "Epoch 45/500\n",
      "42/42 [==============================] - 2s 59ms/step - loss: 0.2176 - accuracy: 0.9277 - val_loss: 0.2597 - val_accuracy: 0.9335\n",
      "Epoch 46/500\n",
      "42/42 [==============================] - 3s 60ms/step - loss: 0.1992 - accuracy: 0.9354 - val_loss: 0.2546 - val_accuracy: 0.9366\n",
      "Epoch 47/500\n",
      "42/42 [==============================] - 3s 65ms/step - loss: 0.1989 - accuracy: 0.9349 - val_loss: 0.2617 - val_accuracy: 0.9334\n",
      "Epoch 48/500\n",
      "42/42 [==============================] - 2s 56ms/step - loss: 0.2011 - accuracy: 0.9337 - val_loss: 0.2635 - val_accuracy: 0.9328\n",
      "Epoch 49/500\n",
      "42/42 [==============================] - 2s 59ms/step - loss: 0.1904 - accuracy: 0.9370 - val_loss: 0.2467 - val_accuracy: 0.9391\n",
      "Epoch 50/500\n",
      "42/42 [==============================] - 2s 58ms/step - loss: 0.1946 - accuracy: 0.9362 - val_loss: 0.2508 - val_accuracy: 0.9382\n",
      "Epoch 51/500\n",
      "42/42 [==============================] - 2s 58ms/step - loss: 0.1908 - accuracy: 0.9364 - val_loss: 0.2580 - val_accuracy: 0.9361\n",
      "Epoch 52/500\n",
      "42/42 [==============================] - 2s 58ms/step - loss: 0.1925 - accuracy: 0.9369 - val_loss: 0.2620 - val_accuracy: 0.9346\n"
     ]
    }
   ],
   "source": [
    "iterations = 500\n",
    "lr= 0.0007\n",
    "Lambda= 1.31e-05\n",
    "eval_test= True\n",
    "\n",
    "#Build the model\n",
    "scores = build_model_2(iterations, lr, Lambda, 1, eval_test)"
   ]
  },
  {
   "cell_type": "code",
   "execution_count": 42,
   "metadata": {},
   "outputs": [
    {
     "name": "stdout",
     "output_type": "stream",
     "text": [
      "Training Dataset Loss is 0.10935257375240326 Accuracy is 0.966952383518219\n",
      "\n",
      "Validation Dataset Loss is 0.26196154952049255 Accuracy is 0.934583306312561\n",
      "\n",
      "Test Dataset Loss is 0.6180499196052551 Accuracy is 0.8590555787086487\n",
      "\n"
     ]
    }
   ],
   "source": [
    "print(f'Training Dataset Loss is {scores[0][0]} Accuracy is {scores[0][1]}\\n')\n",
    "print(f'Validation Dataset Loss is {scores[1][0]} Accuracy is {scores[1][1]}\\n')\n",
    "print(f'Test Dataset Loss is {scores[2][0]} Accuracy is {scores[2][1]}\\n')"
   ]
  },
  {
   "cell_type": "markdown",
   "metadata": {},
   "source": [
    "#### <span style=\"font-family: Arial; font-weight:bold;font-size:1.25em;color:#00b3e5;\">Observation :\n",
    "<font color=darkblue>\n",
    "Now we can try with more complex model\n",
    "</font>"
   ]
  },
  {
   "cell_type": "markdown",
   "metadata": {},
   "source": [
    "###### <span style=\"font-family: Arial; font-weight:bold;font-size:1.25em;color:#00b3e5;\">Model-3 with more hidden layers and neurons"
   ]
  },
  {
   "cell_type": "code",
   "execution_count": 43,
   "metadata": {},
   "outputs": [],
   "source": [
    "def build_model_3(iterations, lr, Lambda, verb=0, eval_test=False):\n",
    "    hidden_nodes=500\n",
    "    output_nodes=10\n",
    "    iterations=iterations\n",
    "    learning_rate=lr\n",
    "\n",
    "    #For early stopping of model\n",
    "    callbacks = tensorflow.keras.callbacks.EarlyStopping(monitor='loss', patience=3)\n",
    "    \n",
    "    #build the model\n",
    "    model = Sequential()\n",
    "    model.add(Flatten())\n",
    "    model.add(Reshape((1024,), input_shape=(32,32,), name='Input_layer'))\n",
    "    model.add(BatchNormalization())\n",
    "    model.add(Dense(100,activation='relu'))\n",
    "    model.add(Dense(50,activation='relu'))\n",
    "    \n",
    "    model.add(Dropout(0.5))\n",
    "    \n",
    "    model.add(Dense(100,activation='relu'))\n",
    "    model.add(Dense(100,activation='relu'))\n",
    "\n",
    "    model.add(Dropout(0.5))\n",
    "    \n",
    "    model.add(Dense(100,activation='relu'))\n",
    "    model.add(Dense(100,activation='relu'))\n",
    "\n",
    "    model.add(Dense(output_nodes, activation='softmax', kernel_regularizer=regularizers.l2(Lambda)))\n",
    "\n",
    "    #adam optimizer with custom learning rate\n",
    "    adam = optimizers.Adam(lr=learning_rate)\n",
    "\n",
    "    #Compile the model\n",
    "    model.compile(loss='categorical_crossentropy', optimizer=adam, metrics=['accuracy'])\n",
    "\n",
    "    #Fit the model\n",
    "    model.fit(X_train,y_train, validation_data=(X_val,y_val), epochs=iterations, \n",
    "              batch_size=1000, verbose=verb, callbacks=[callbacks])\n",
    "    \n",
    "    if eval_test == True:\n",
    "        scores=[]\n",
    "        score = model.evaluate(X_train, y_train, verbose=0)\n",
    "        scores.append(score)\n",
    "        score = model.evaluate(X_val, y_val, verbose=0)\n",
    "        scores.append(score)\n",
    "        score = model.evaluate(X_test, y_test, verbose=0)\n",
    "        scores.append(score)\n",
    "        return scores\n",
    "    else:\n",
    "        score = model.evaluate(X_val,y_val, verbose=(verb+1)%2)\n",
    "        return score\n"
   ]
  },
  {
   "cell_type": "markdown",
   "metadata": {},
   "source": [
    "###### <span style=\"font-family: Arial; font-weight:bold;font-size:1.25em;color:#00b3e5;\">Let us try with very low learning rate and zero regularization"
   ]
  },
  {
   "cell_type": "code",
   "execution_count": 44,
   "metadata": {},
   "outputs": [
    {
     "name": "stdout",
     "output_type": "stream",
     "text": [
      "42/42 [==============================] - 2s 55ms/step - loss: 2.3230 - accuracy: 0.1030 - val_loss: 2.3016 - val_accuracy: 0.1083\n"
     ]
    }
   ],
   "source": [
    "iterations = 1\n",
    "lr=0.0001\n",
    "Lambda=0\n",
    "eval_test= True\n",
    "\n",
    "#Build the model\n",
    "scores = build_model_3(iterations, lr, Lambda, 1, eval_test)"
   ]
  },
  {
   "cell_type": "code",
   "execution_count": 46,
   "metadata": {},
   "outputs": [
    {
     "name": "stdout",
     "output_type": "stream",
     "text": [
      "Training Dataset Loss is 2.301564931869507 Accuracy is 0.10914285480976105\n",
      "\n"
     ]
    }
   ],
   "source": [
    "print(f'Training Dataset Loss is {scores[0][0]} Accuracy is {scores[0][1]}\\n')"
   ]
  },
  {
   "cell_type": "code",
   "execution_count": 47,
   "metadata": {},
   "outputs": [
    {
     "name": "stdout",
     "output_type": "stream",
     "text": [
      "Evaluating Validation data\n",
      "\n",
      "1875/1875 [==============================] - 6s 3ms/step - loss: 2.3004 - accuracy: 0.1116\n",
      "Loss is 2.3004226684570312, Accuracy is 0.11155000329017639 with learing rate 0.00021336549961188512 and Lambda 1.1901540289974896e-07\n",
      "\n",
      "1875/1875 [==============================] - 5s 3ms/step - loss: 2.3000 - accuracy: 0.1294\n",
      "Loss is 2.3000266551971436, Accuracy is 0.12935000658035278 with learing rate 0.0008346107253624351 and Lambda 8.353784660100571e-05\n",
      "\n",
      "1875/1875 [==============================] - 6s 3ms/step - loss: 2.2912 - accuracy: 0.1319\n",
      "Loss is 2.2912402153015137, Accuracy is 0.131850004196167 with learing rate 0.004929698842938674 and Lambda 2.8953513562135882e-06\n",
      "\n",
      "1875/1875 [==============================] - 5s 3ms/step - loss: 2.3006 - accuracy: 0.1227\n",
      "Loss is 2.3005857467651367, Accuracy is 0.12271666526794434 with learing rate 0.0005694970648953547 and Lambda 2.3251630588511405e-07\n",
      "\n",
      "1875/1875 [==============================] - 5s 3ms/step - loss: 2.3152 - accuracy: 0.1000\n",
      "Loss is 2.3151862621307373, Accuracy is 0.10000000149011612 with learing rate 0.19505564754088464 and Lambda 1.0163876769094365e-05\n",
      "\n",
      "1875/1875 [==============================] - 5s 3ms/step - loss: 2.3021 - accuracy: 0.1017\n",
      "Loss is 2.302055835723877, Accuracy is 0.10170000046491623 with learing rate 0.015939758677528514 and Lambda 2.585208623434927e-06\n",
      "\n",
      "   1/1875 [..............................] - ETA: 0s - loss: 2.3157 - accuracy: 0.0000e+00WARNING:tensorflow:Callbacks method `on_test_batch_end` is slow compared to the batch time (batch time: 0.0000s vs `on_test_batch_end` time: 0.0091s). Check your callbacks.\n",
      "1875/1875 [==============================] - 5s 3ms/step - loss: 2.3023 - accuracy: 0.1081\n",
      "Loss is 2.3022732734680176, Accuracy is 0.1080833300948143 with learing rate 0.006031595153158871 and Lambda 1.081495458605752e-05\n",
      "\n",
      "1875/1875 [==============================] - 5s 3ms/step - loss: 2.3014 - accuracy: 0.1025\n",
      "Loss is 2.3013665676116943, Accuracy is 0.10251666605472565 with learing rate 0.006565950808602283 and Lambda 6.510104029096868e-07\n",
      "\n",
      "1875/1875 [==============================] - 5s 3ms/step - loss: 2.3101 - accuracy: 0.1000\n",
      "Loss is 2.310147762298584, Accuracy is 0.10000000149011612 with learing rate 0.10521429019862445 and Lambda 1.4311951457430676e-05\n",
      "\n",
      "1875/1875 [==============================] - 5s 3ms/step - loss: 2.3079 - accuracy: 0.1000\n",
      "Loss is 2.3079216480255127, Accuracy is 0.10000000149011612 with learing rate 0.05624472886763152 and Lambda 2.9268002889174768e-05\n",
      "\n",
      "1875/1875 [==============================] - 5s 3ms/step - loss: 2.3056 - accuracy: 0.1000\n",
      "Loss is 2.3056461811065674, Accuracy is 0.10000000149011612 with learing rate 0.10012244616783803 and Lambda 4.859977981398692e-07\n",
      "\n",
      "1875/1875 [==============================] - 5s 3ms/step - loss: 2.3046 - accuracy: 0.1006\n",
      "Loss is 2.30460786819458, Accuracy is 0.1005999967455864 with learing rate 0.007709222445022216 and Lambda 3.203138374294072e-05\n",
      "\n",
      "1875/1875 [==============================] - 5s 3ms/step - loss: 2.3037 - accuracy: 0.1000\n",
      "Loss is 2.303689956665039, Accuracy is 0.10000000149011612 with learing rate 0.019525293890957626 and Lambda 4.334308774881778e-05\n",
      "\n",
      "1875/1875 [==============================] - 5s 3ms/step - loss: 14.0170 - accuracy: 0.1000\n",
      "Loss is 14.017024040222168, Accuracy is 0.10000000149011612 with learing rate 9.428196871312013 and Lambda 4.312494509043133e-06\n",
      "\n",
      "1875/1875 [==============================] - 5s 3ms/step - loss: 3.9827 - accuracy: 0.1000\n",
      "Loss is 3.9827194213867188, Accuracy is 0.10000000149011612 with learing rate 5.242685910392771 and Lambda 8.225993634877754e-07\n",
      "\n",
      "1875/1875 [==============================] - 5s 3ms/step - loss: 2.3036 - accuracy: 0.1000: 0s - loss: 2.3044 - ac\n",
      "Loss is 2.3036487102508545, Accuracy is 0.10000000149011612 with learing rate 0.07660337843701914 and Lambda 4.513162287050666e-06\n",
      "\n",
      "1875/1875 [==============================] - 5s 3ms/step - loss: 2.3227 - accuracy: 0.1000\n",
      "Loss is 2.3227386474609375, Accuracy is 0.10000000149011612 with learing rate 0.5437698185812534 and Lambda 1.9200822170687286e-07\n",
      "\n",
      "1875/1875 [==============================] - 5s 3ms/step - loss: 2.3020 - accuracy: 0.1135\n",
      "Loss is 2.3019936084747314, Accuracy is 0.11349999904632568 with learing rate 0.00023787082992857386 and Lambda 1.2086253742241659e-06\n",
      "\n",
      "1875/1875 [==============================] - 5s 3ms/step - loss: 2.2991 - accuracy: 0.1188\n",
      "Loss is 2.2991108894348145, Accuracy is 0.11879999935626984 with learing rate 0.0005992786677155926 and Lambda 4.0117679462606265e-05\n",
      "\n",
      "1875/1875 [==============================] - 5s 3ms/step - loss: 2.3030 - accuracy: 0.1000\n",
      "Loss is 2.302985191345215, Accuracy is 0.10000000149011612 with learing rate 0.012959254804355492 and Lambda 2.1026094060348792e-05\n",
      "\n",
      "1875/1875 [==============================] - 5s 3ms/step - loss: 2.2924 - accuracy: 0.1455\n",
      "Loss is 2.292426109313965, Accuracy is 0.1454833298921585 with learing rate 0.0019174890951272996 and Lambda 6.537822912494762e-05\n",
      "\n",
      "1875/1875 [==============================] - 5s 3ms/step - loss: 3.1481 - accuracy: 0.1000\n",
      "Loss is 3.148099184036255, Accuracy is 0.10000000149011612 with learing rate 0.7264444655416329 and Lambda 4.126899330405432e-05\n",
      "\n",
      "1875/1875 [==============================] - 5s 3ms/step - loss: 9.9349 - accuracy: 0.1000\n",
      "Loss is 9.934884071350098, Accuracy is 0.10000000149011612 with learing rate 3.6655603142303517 and Lambda 2.441371983995466e-05\n",
      "\n",
      "1875/1875 [==============================] - 5s 3ms/step - loss: 2.3023 - accuracy: 0.1045\n",
      "Loss is 2.3022592067718506, Accuracy is 0.10450000315904617 with learing rate 0.0001490278170319184 and Lambda 5.714566252008756e-06\n",
      "\n",
      "1875/1875 [==============================] - 5s 3ms/step - loss: 5.9325 - accuracy: 0.1000\n",
      "Loss is 5.932548522949219, Accuracy is 0.10000000149011612 with learing rate 2.0560056905303776 and Lambda 3.989681518982128e-05\n",
      "\n",
      "1875/1875 [==============================] - 5s 3ms/step - loss: 2.2812 - accuracy: 0.1537\n",
      "Loss is 2.2811877727508545, Accuracy is 0.15365000069141388 with learing rate 0.0011510083492569745 and Lambda 2.6069308491170753e-05\n",
      "\n",
      "1875/1875 [==============================] - 5s 3ms/step - loss: 2.9960 - accuracy: 0.1000\n",
      "Loss is 2.9959754943847656, Accuracy is 0.10000000149011612 with learing rate 1.5522699928562986 and Lambda 8.928935508612293e-06\n",
      "\n",
      "1875/1875 [==============================] - 5s 3ms/step - loss: 2.3028 - accuracy: 0.1000: 0s -\n",
      "Loss is 2.3028454780578613, Accuracy is 0.10000000149011612 with learing rate 0.023571669009628878 and Lambda 2.292884844509975e-06\n",
      "\n",
      "1875/1875 [==============================] - 6s 3ms/step - loss: 2.3036 - accuracy: 0.1000\n",
      "Loss is 2.303645372390747, Accuracy is 0.10000000149011612 with learing rate 0.06896056154257539 and Lambda 3.3287181730199482e-06\n",
      "\n",
      "1875/1875 [==============================] - 6s 3ms/step - loss: 2.3027 - accuracy: 0.1000\n",
      "Loss is 2.302668571472168, Accuracy is 0.10000000149011612 with learing rate 0.015370153935861447 and Lambda 2.89391317538319e-07\n",
      "\n"
     ]
    }
   ],
   "source": [
    "results=[]\n",
    "print('Evaluating Validation data\\n')\n",
    "for i in range(30):\n",
    "    lr=math.pow(10, np.random.uniform(-4.0, 1.0))\n",
    "    Lambda = math.pow(10, np.random.uniform(-7, -4))\n",
    "    iternations = 20\n",
    "    \n",
    "    #Build the model\n",
    "    scores = build_model_3(iterations, lr, Lambda)\n",
    "\n",
    "    result=f'Loss is {scores[0]}, Accuracy is {scores[1]} with learing rate {lr} and Lambda {Lambda}\\n'\n",
    "    print(result)\n",
    "    results.append(result)\n"
   ]
  },
  {
   "cell_type": "code",
   "execution_count": 52,
   "metadata": {},
   "outputs": [
    {
     "name": "stdout",
     "output_type": "stream",
     "text": [
      "Evaluating Validation data\n",
      "\n",
      "1875/1875 [==============================] - 6s 3ms/step - loss: 2.3275 - accuracy: 0.1239\n",
      "Loss is 2.3275041580200195, Accuracy is 0.1239333301782608 with learing rate 0.00010562924347502043 and Lambda 0.0014888809078131499\n",
      "\n",
      "1875/1875 [==============================] - 5s 3ms/step - loss: 2.3042 - accuracy: 0.1142\n",
      "Loss is 2.3042209148406982, Accuracy is 0.11418333649635315 with learing rate 0.00025145135719627535 and Lambda 0.00014317578147147577\n",
      "\n",
      "1875/1875 [==============================] - 5s 3ms/step - loss: 2.3048 - accuracy: 0.1151\n",
      "Loss is 2.30478572845459, Accuracy is 0.11508333683013916 with learing rate 0.0001259653979554424 and Lambda 0.00017157349728551271\n",
      "\n",
      "1875/1875 [==============================] - 5s 3ms/step - loss: 2.3024 - accuracy: 0.1055\n",
      "Loss is 2.302396535873413, Accuracy is 0.10546666383743286 with learing rate 0.00048085270605742274 and Lambda 4.9382311140088346e-05\n",
      "\n",
      "1875/1875 [==============================] - 5s 3ms/step - loss: 3.5577 - accuracy: 0.1072: 2s -\n",
      "Loss is 3.557678461074829, Accuracy is 0.10715000331401825 with learing rate 0.00025558395598822904 and Lambda 0.0791284467468349\n",
      "\n",
      "1875/1875 [==============================] - 5s 3ms/step - loss: 2.3088 - accuracy: 0.1115: 0s - loss: 2.3102 \n",
      "Loss is 2.3087546825408936, Accuracy is 0.11151666939258575 with learing rate 0.0004137502298331255 and Lambda 0.00045395996448386347\n",
      "\n",
      "1875/1875 [==============================] - 5s 3ms/step - loss: 2.3993 - accuracy: 0.1213\n",
      "Loss is 2.3993070125579834, Accuracy is 0.12129999697208405 with learing rate 0.0002413951248620028 and Lambda 0.00587739955614067\n",
      "\n",
      "1875/1875 [==============================] - 5s 3ms/step - loss: 2.3019 - accuracy: 0.1119\n",
      "Loss is 2.3019161224365234, Accuracy is 0.11185000091791153 with learing rate 0.0001347134299718875 and Lambda 1.3515686954711118e-05\n",
      "\n",
      "1875/1875 [==============================] - 5s 3ms/step - loss: 3.5664 - accuracy: 0.1050\n",
      "Loss is 3.566423177719116, Accuracy is 0.10495000332593918 with learing rate 0.0003191615850189769 and Lambda 0.07799139183493935\n",
      "\n",
      "1875/1875 [==============================] - 5s 3ms/step - loss: 2.5096 - accuracy: 0.1028\n",
      "Loss is 2.509643793106079, Accuracy is 0.10275000333786011 with learing rate 0.000884933449466222 and Lambda 0.018331348610143045\n",
      "\n",
      "1875/1875 [==============================] - 5s 3ms/step - loss: 2.3021 - accuracy: 0.1079\n",
      "Loss is 2.3020570278167725, Accuracy is 0.10786666721105576 with learing rate 0.0008382636444853388 and Lambda 3.5446358221360065e-05\n",
      "\n",
      "1875/1875 [==============================] - 5s 3ms/step - loss: 2.3132 - accuracy: 0.1075\n",
      "Loss is 2.313236951828003, Accuracy is 0.10753333568572998 with learing rate 0.00030173052790661794 and Lambda 0.0006261088612077108\n",
      "\n",
      "1875/1875 [==============================] - 5s 3ms/step - loss: 2.3035 - accuracy: 0.1120\n",
      "Loss is 2.303518056869507, Accuracy is 0.11195000261068344 with learing rate 0.00017119575544829576 and Lambda 8.016550083744785e-05\n",
      "\n",
      "1875/1875 [==============================] - 5s 3ms/step - loss: 2.3030 - accuracy: 0.1034\n",
      "Loss is 2.302999258041382, Accuracy is 0.10343333333730698 with learing rate 0.00022881369872909788 and Lambda 6.264239892861807e-05\n",
      "\n",
      "1875/1875 [==============================] - 5s 3ms/step - loss: 2.7871 - accuracy: 0.1284: 0s - los\n",
      "Loss is 2.7870750427246094, Accuracy is 0.12843333184719086 with learing rate 0.0004738664256110637 and Lambda 0.03361122709364213\n",
      "\n",
      "1875/1875 [==============================] - 5s 3ms/step - loss: 2.3005 - accuracy: 0.1242\n",
      "Loss is 2.3005404472351074, Accuracy is 0.12416666746139526 with learing rate 0.0006045060644751829 and Lambda 1.2966289083818838e-05\n",
      "\n",
      "1875/1875 [==============================] - 6s 3ms/step - loss: 3.6701 - accuracy: 0.1110\n",
      "Loss is 3.6700809001922607, Accuracy is 0.11103333532810211 with learing rate 0.00014614286448157707 and Lambda 0.07869459344592264\n",
      "\n",
      "1875/1875 [==============================] - 6s 3ms/step - loss: 2.3032 - accuracy: 0.1104\n",
      "Loss is 2.3032147884368896, Accuracy is 0.11036666482686996 with learing rate 0.0001265882691009706 and Lambda 6.637253229355465e-05\n",
      "\n",
      "1875/1875 [==============================] - 5s 3ms/step - loss: 2.3278 - accuracy: 0.1221\n",
      "Loss is 2.3277974128723145, Accuracy is 0.12213333696126938 with learing rate 0.0005531681457439815 and Lambda 0.001772196419262165\n",
      "\n",
      "1875/1875 [==============================] - 5s 3ms/step - loss: 2.5917 - accuracy: 0.1002\n",
      "Loss is 2.591662645339966, Accuracy is 0.1002499982714653 with learing rate 0.00023230843909122036 and Lambda 0.01880232881580038\n",
      "\n",
      "1875/1875 [==============================] - 5s 3ms/step - loss: 2.3879 - accuracy: 0.1284\n",
      "Loss is 2.387850046157837, Accuracy is 0.1283833384513855 with learing rate 0.0006520011683092195 and Lambda 0.006093771500740026\n",
      "\n",
      "1875/1875 [==============================] - 5s 3ms/step - loss: 2.8325 - accuracy: 0.1154\n",
      "Loss is 2.832533597946167, Accuracy is 0.11540000140666962 with learing rate 0.00030770141651560517 and Lambda 0.03392490819202738\n",
      "\n",
      "1875/1875 [==============================] - 5s 3ms/step - loss: 2.3021 - accuracy: 0.1196\n",
      "Loss is 2.302109718322754, Accuracy is 0.11961666494607925 with learing rate 0.00014323592015443056 and Lambda 2.423585949063628e-05\n",
      "\n",
      "1875/1875 [==============================] - 5s 3ms/step - loss: 2.3015 - accuracy: 0.0944\n",
      "Loss is 2.3015167713165283, Accuracy is 0.09443332999944687 with learing rate 0.0005056235549811273 and Lambda 1.2321469408899887e-05\n",
      "\n",
      "1875/1875 [==============================] - 5s 3ms/step - loss: 2.3567 - accuracy: 0.1075: 0s - loss: 2\n",
      "Loss is 2.3566818237304688, Accuracy is 0.1074666678905487 with learing rate 0.0003866960802311924 and Lambda 0.003231448143436554\n",
      "\n",
      "1875/1875 [==============================] - 5s 3ms/step - loss: 2.3046 - accuracy: 0.1086\n",
      "Loss is 2.3046417236328125, Accuracy is 0.10859999805688858 with learing rate 0.00030063173237144896 and Lambda 0.00016507709828142414\n",
      "\n",
      "1875/1875 [==============================] - 5s 3ms/step - loss: 2.3029 - accuracy: 0.1015\n",
      "Loss is 2.302863597869873, Accuracy is 0.1014999970793724 with learing rate 0.00010693103256806636 and Lambda 2.07974897018935e-05\n",
      "\n",
      "1875/1875 [==============================] - 5s 3ms/step - loss: 2.5890 - accuracy: 0.1022\n",
      "Loss is 2.5890331268310547, Accuracy is 0.10218333452939987 with learing rate 0.000327661537600777 and Lambda 0.01892253877664746\n",
      "\n",
      "1875/1875 [==============================] - 5s 3ms/step - loss: 2.3046 - accuracy: 0.1192\n",
      "Loss is 2.30461049079895, Accuracy is 0.11918333172798157 with learing rate 0.00037500189405948706 and Lambda 0.00016877464653725538\n",
      "\n",
      "1875/1875 [==============================] - 5s 3ms/step - loss: 2.8443 - accuracy: 0.1136\n",
      "Loss is 2.8442587852478027, Accuracy is 0.1136000007390976 with learing rate 0.00011757767045395977 and Lambda 0.03234027814778936\n",
      "\n"
     ]
    }
   ],
   "source": [
    "results=[]\n",
    "print('Evaluating Validation data\\n')\n",
    "for i in range(30):\n",
    "    lr=math.pow(10, np.random.uniform(-4, -3))\n",
    "    Lambda = math.pow(10, np.random.uniform(-5, -1))\n",
    "    iternations = 100\n",
    "    \n",
    "    #Build the model\n",
    "    scores = build_model_3(iterations, lr, Lambda)\n",
    "\n",
    "    result=f'Loss is {scores[0]}, Accuracy is {scores[1]} with learing rate {lr} and Lambda {Lambda}\\n'\n",
    "    print(result)\n",
    "    results.append(result)"
   ]
  },
  {
   "cell_type": "markdown",
   "metadata": {},
   "source": [
    "### <span style=\"font-family: Arial; font-weight:bold;font-size:1.25em;color:#00b3e5;\">6. Final Evaluation"
   ]
  },
  {
   "cell_type": "markdown",
   "metadata": {},
   "source": [
    "##### <span style=\"font-family: Arial; font-weight:bold;font-size:1.25em;color:#00b3e5;\">Model with finalize hyperparmeters for Test set validation\n",
    "<font color=darkblue>\n",
    "</font>"
   ]
  },
  {
   "cell_type": "code",
   "execution_count": 54,
   "metadata": {},
   "outputs": [
    {
     "name": "stdout",
     "output_type": "stream",
     "text": [
      "Epoch 1/500\n",
      "42/42 [==============================] - 3s 61ms/step - loss: 2.3038 - accuracy: 0.1090 - val_loss: 2.2995 - val_accuracy: 0.1390\n",
      "Epoch 2/500\n",
      "42/42 [==============================] - 2s 51ms/step - loss: 2.1649 - accuracy: 0.1827 - val_loss: 2.1641 - val_accuracy: 0.2841\n",
      "Epoch 3/500\n",
      "42/42 [==============================] - 2s 53ms/step - loss: 1.8730 - accuracy: 0.3001 - val_loss: 1.8982 - val_accuracy: 0.4238\n",
      "Epoch 4/500\n",
      "42/42 [==============================] - 2s 53ms/step - loss: 1.6640 - accuracy: 0.3947 - val_loss: 1.6641 - val_accuracy: 0.5437\n",
      "Epoch 5/500\n",
      "42/42 [==============================] - 2s 55ms/step - loss: 1.4972 - accuracy: 0.4661 - val_loss: 1.4331 - val_accuracy: 0.6026\n",
      "Epoch 6/500\n",
      "42/42 [==============================] - 2s 55ms/step - loss: 1.3968 - accuracy: 0.5053 - val_loss: 1.2803 - val_accuracy: 0.6273\n",
      "Epoch 7/500\n",
      "42/42 [==============================] - 2s 52ms/step - loss: 1.3239 - accuracy: 0.5341 - val_loss: 1.1690 - val_accuracy: 0.6479\n",
      "Epoch 8/500\n",
      "42/42 [==============================] - 2s 52ms/step - loss: 1.2711 - accuracy: 0.5534 - val_loss: 1.0804 - val_accuracy: 0.6785\n",
      "Epoch 9/500\n",
      "42/42 [==============================] - 2s 53ms/step - loss: 1.2207 - accuracy: 0.5767 - val_loss: 1.0027 - val_accuracy: 0.6977\n",
      "Epoch 10/500\n",
      "42/42 [==============================] - 2s 53ms/step - loss: 1.1785 - accuracy: 0.5975 - val_loss: 0.9376 - val_accuracy: 0.7168\n",
      "Epoch 11/500\n",
      "42/42 [==============================] - 2s 52ms/step - loss: 1.1351 - accuracy: 0.6187 - val_loss: 0.9073 - val_accuracy: 0.7240\n",
      "Epoch 12/500\n",
      "42/42 [==============================] - 2s 52ms/step - loss: 1.0938 - accuracy: 0.6318 - val_loss: 0.8378 - val_accuracy: 0.7455\n",
      "Epoch 13/500\n",
      "42/42 [==============================] - 2s 52ms/step - loss: 1.0514 - accuracy: 0.6524 - val_loss: 0.8100 - val_accuracy: 0.7513\n",
      "Epoch 14/500\n",
      "42/42 [==============================] - 2s 53ms/step - loss: 1.0356 - accuracy: 0.6585 - val_loss: 0.7856 - val_accuracy: 0.7587\n",
      "Epoch 15/500\n",
      "42/42 [==============================] - 2s 53ms/step - loss: 0.9954 - accuracy: 0.6735 - val_loss: 0.7477 - val_accuracy: 0.7696\n",
      "Epoch 16/500\n",
      "42/42 [==============================] - 2s 53ms/step - loss: 0.9805 - accuracy: 0.6789 - val_loss: 0.7474 - val_accuracy: 0.7667\n",
      "Epoch 17/500\n",
      "42/42 [==============================] - 2s 52ms/step - loss: 0.9523 - accuracy: 0.6869 - val_loss: 0.7267 - val_accuracy: 0.7736\n",
      "Epoch 18/500\n",
      "42/42 [==============================] - 2s 53ms/step - loss: 0.9230 - accuracy: 0.7009 - val_loss: 0.7175 - val_accuracy: 0.7759\n",
      "Epoch 19/500\n",
      "42/42 [==============================] - 2s 53ms/step - loss: 0.8981 - accuracy: 0.7082 - val_loss: 0.6893 - val_accuracy: 0.7867\n",
      "Epoch 20/500\n",
      "42/42 [==============================] - 2s 53ms/step - loss: 0.8927 - accuracy: 0.7109 - val_loss: 0.6920 - val_accuracy: 0.7839\n",
      "Epoch 21/500\n",
      "42/42 [==============================] - 2s 53ms/step - loss: 0.8686 - accuracy: 0.7217 - val_loss: 0.6867 - val_accuracy: 0.7886\n",
      "Epoch 22/500\n",
      "42/42 [==============================] - 2s 52ms/step - loss: 0.8566 - accuracy: 0.7236 - val_loss: 0.6571 - val_accuracy: 0.7974\n",
      "Epoch 23/500\n",
      "42/42 [==============================] - 2s 52ms/step - loss: 0.8470 - accuracy: 0.7266 - val_loss: 0.6509 - val_accuracy: 0.8003\n",
      "Epoch 24/500\n",
      "42/42 [==============================] - 2s 53ms/step - loss: 0.8252 - accuracy: 0.7352 - val_loss: 0.6411 - val_accuracy: 0.8014\n",
      "Epoch 25/500\n",
      "42/42 [==============================] - 2s 53ms/step - loss: 0.8166 - accuracy: 0.7382 - val_loss: 0.6505 - val_accuracy: 0.7959\n",
      "Epoch 26/500\n",
      "42/42 [==============================] - 2s 53ms/step - loss: 0.8081 - accuracy: 0.7422 - val_loss: 0.6406 - val_accuracy: 0.8002\n",
      "Epoch 27/500\n",
      "42/42 [==============================] - 2s 53ms/step - loss: 0.7972 - accuracy: 0.7444 - val_loss: 0.6229 - val_accuracy: 0.8084\n",
      "Epoch 28/500\n",
      "42/42 [==============================] - 2s 53ms/step - loss: 0.7833 - accuracy: 0.7510 - val_loss: 0.6218 - val_accuracy: 0.8068\n",
      "Epoch 29/500\n",
      "42/42 [==============================] - 2s 53ms/step - loss: 0.7731 - accuracy: 0.7532 - val_loss: 0.6049 - val_accuracy: 0.8137\n",
      "Epoch 30/500\n",
      "42/42 [==============================] - 2s 54ms/step - loss: 0.7620 - accuracy: 0.7585 - val_loss: 0.5978 - val_accuracy: 0.8175\n",
      "Epoch 31/500\n",
      "42/42 [==============================] - 2s 52ms/step - loss: 0.7500 - accuracy: 0.7623 - val_loss: 0.5831 - val_accuracy: 0.8204\n",
      "Epoch 32/500\n",
      "42/42 [==============================] - 2s 53ms/step - loss: 0.7381 - accuracy: 0.7648 - val_loss: 0.5780 - val_accuracy: 0.8231\n",
      "Epoch 33/500\n",
      "42/42 [==============================] - 2s 53ms/step - loss: 0.7341 - accuracy: 0.7692 - val_loss: 0.5855 - val_accuracy: 0.8203\n",
      "Epoch 34/500\n",
      "42/42 [==============================] - 2s 53ms/step - loss: 0.7193 - accuracy: 0.7717 - val_loss: 0.5849 - val_accuracy: 0.8208\n",
      "Epoch 35/500\n",
      "42/42 [==============================] - 2s 53ms/step - loss: 0.7181 - accuracy: 0.7727 - val_loss: 0.5659 - val_accuracy: 0.8254\n",
      "Epoch 36/500\n",
      "42/42 [==============================] - 2s 53ms/step - loss: 0.7013 - accuracy: 0.7771 - val_loss: 0.5639 - val_accuracy: 0.8278\n",
      "Epoch 37/500\n",
      "42/42 [==============================] - 2s 53ms/step - loss: 0.7104 - accuracy: 0.7762 - val_loss: 0.5761 - val_accuracy: 0.8230\n",
      "Epoch 38/500\n",
      "42/42 [==============================] - 2s 53ms/step - loss: 0.7057 - accuracy: 0.7772 - val_loss: 0.5620 - val_accuracy: 0.8285\n",
      "Epoch 39/500\n",
      "42/42 [==============================] - 2s 53ms/step - loss: 0.6842 - accuracy: 0.7850 - val_loss: 0.5495 - val_accuracy: 0.8337\n",
      "Epoch 40/500\n",
      "42/42 [==============================] - 2s 54ms/step - loss: 0.6753 - accuracy: 0.7882 - val_loss: 0.5510 - val_accuracy: 0.8308\n",
      "Epoch 41/500\n",
      "42/42 [==============================] - 2s 52ms/step - loss: 0.6780 - accuracy: 0.7856 - val_loss: 0.5415 - val_accuracy: 0.8343\n",
      "Epoch 42/500\n",
      "42/42 [==============================] - 2s 52ms/step - loss: 0.6539 - accuracy: 0.7957 - val_loss: 0.5566 - val_accuracy: 0.8305\n",
      "Epoch 43/500\n",
      "42/42 [==============================] - 2s 52ms/step - loss: 0.6646 - accuracy: 0.7924 - val_loss: 0.5447 - val_accuracy: 0.8345\n",
      "Epoch 44/500\n",
      "42/42 [==============================] - 2s 53ms/step - loss: 0.6547 - accuracy: 0.7942 - val_loss: 0.5307 - val_accuracy: 0.8400\n",
      "Epoch 45/500\n",
      "42/42 [==============================] - 2s 54ms/step - loss: 0.6484 - accuracy: 0.7973 - val_loss: 0.5325 - val_accuracy: 0.8399\n",
      "Epoch 46/500\n",
      "42/42 [==============================] - 2s 51ms/step - loss: 0.6416 - accuracy: 0.7967 - val_loss: 0.5292 - val_accuracy: 0.8400\n",
      "Epoch 47/500\n",
      "42/42 [==============================] - 2s 50ms/step - loss: 0.6308 - accuracy: 0.8003 - val_loss: 0.5200 - val_accuracy: 0.8431\n",
      "Epoch 48/500\n",
      "42/42 [==============================] - 2s 50ms/step - loss: 0.6292 - accuracy: 0.8024 - val_loss: 0.5363 - val_accuracy: 0.8364\n",
      "Epoch 49/500\n",
      "42/42 [==============================] - 2s 50ms/step - loss: 0.6330 - accuracy: 0.8023 - val_loss: 0.5274 - val_accuracy: 0.8415\n",
      "Epoch 50/500\n",
      "42/42 [==============================] - 2s 52ms/step - loss: 0.6195 - accuracy: 0.8067 - val_loss: 0.5180 - val_accuracy: 0.8431\n",
      "Epoch 51/500\n",
      "42/42 [==============================] - 2s 50ms/step - loss: 0.6133 - accuracy: 0.8096 - val_loss: 0.5094 - val_accuracy: 0.8471\n",
      "Epoch 52/500\n",
      "42/42 [==============================] - 2s 51ms/step - loss: 0.6186 - accuracy: 0.8065 - val_loss: 0.5051 - val_accuracy: 0.8478\n",
      "Epoch 53/500\n",
      "42/42 [==============================] - 2s 51ms/step - loss: 0.6012 - accuracy: 0.8116 - val_loss: 0.5056 - val_accuracy: 0.8463\n",
      "Epoch 54/500\n",
      "42/42 [==============================] - 2s 50ms/step - loss: 0.5935 - accuracy: 0.8152 - val_loss: 0.4925 - val_accuracy: 0.8524\n",
      "Epoch 55/500\n",
      "42/42 [==============================] - 2s 52ms/step - loss: 0.5905 - accuracy: 0.8151 - val_loss: 0.5037 - val_accuracy: 0.8486\n",
      "Epoch 56/500\n",
      "42/42 [==============================] - 2s 50ms/step - loss: 0.5862 - accuracy: 0.8157 - val_loss: 0.4998 - val_accuracy: 0.8498\n",
      "Epoch 57/500\n",
      "42/42 [==============================] - 2s 51ms/step - loss: 0.5866 - accuracy: 0.8172 - val_loss: 0.4859 - val_accuracy: 0.8562\n",
      "Epoch 58/500\n"
     ]
    },
    {
     "name": "stdout",
     "output_type": "stream",
     "text": [
      "42/42 [==============================] - 2s 51ms/step - loss: 0.5760 - accuracy: 0.8194 - val_loss: 0.4849 - val_accuracy: 0.8558\n",
      "Epoch 59/500\n",
      "42/42 [==============================] - 2s 51ms/step - loss: 0.5761 - accuracy: 0.8221 - val_loss: 0.4903 - val_accuracy: 0.8546\n",
      "Epoch 60/500\n",
      "42/42 [==============================] - 2s 51ms/step - loss: 0.5705 - accuracy: 0.8232 - val_loss: 0.5131 - val_accuracy: 0.8463\n",
      "Epoch 61/500\n",
      "42/42 [==============================] - 2s 52ms/step - loss: 0.5888 - accuracy: 0.8161 - val_loss: 0.5155 - val_accuracy: 0.8434\n",
      "Epoch 62/500\n",
      "42/42 [==============================] - 2s 51ms/step - loss: 0.5788 - accuracy: 0.8208 - val_loss: 0.4818 - val_accuracy: 0.8563\n",
      "Epoch 63/500\n",
      "42/42 [==============================] - 2s 51ms/step - loss: 0.5640 - accuracy: 0.8243 - val_loss: 0.4788 - val_accuracy: 0.8589\n",
      "Epoch 64/500\n",
      "42/42 [==============================] - 2s 52ms/step - loss: 0.5692 - accuracy: 0.8234 - val_loss: 0.4961 - val_accuracy: 0.8523\n",
      "Epoch 65/500\n",
      "42/42 [==============================] - 2s 52ms/step - loss: 0.5633 - accuracy: 0.8245 - val_loss: 0.4869 - val_accuracy: 0.8528\n",
      "Epoch 66/500\n",
      "42/42 [==============================] - 2s 52ms/step - loss: 0.5533 - accuracy: 0.8295 - val_loss: 0.4742 - val_accuracy: 0.8581\n",
      "Epoch 67/500\n",
      "42/42 [==============================] - 2s 52ms/step - loss: 0.5623 - accuracy: 0.8248 - val_loss: 0.4836 - val_accuracy: 0.8556\n",
      "Epoch 68/500\n",
      "42/42 [==============================] - 2s 51ms/step - loss: 0.5595 - accuracy: 0.8285 - val_loss: 0.4759 - val_accuracy: 0.8580\n",
      "Epoch 69/500\n",
      "42/42 [==============================] - 2s 52ms/step - loss: 0.5601 - accuracy: 0.8252 - val_loss: 0.4812 - val_accuracy: 0.8564\n"
     ]
    }
   ],
   "source": [
    "lr=0.0007\n",
    "Lambda=1.31e-05\n",
    "iterations=500\n",
    "eval_test=True\n",
    "\n",
    "#Build the model\n",
    "scores = build_model_3(iterations, lr, Lambda, 1, eval_test)"
   ]
  },
  {
   "cell_type": "code",
   "execution_count": 55,
   "metadata": {},
   "outputs": [
    {
     "name": "stdout",
     "output_type": "stream",
     "text": [
      "Training Dataset Loss is 0.42853739857673645 Accuracy is 0.8718571662902832\n",
      "\n",
      "Validation Dataset Loss is 0.4812130630016327 Accuracy is 0.8563666939735413\n",
      "\n",
      "Test Dataset Loss is 0.604123055934906 Accuracy is 0.8202221989631653\n",
      "\n"
     ]
    }
   ],
   "source": [
    "print(f'Training Dataset Loss is {scores[0][0]} Accuracy is {scores[0][1]}\\n')\n",
    "print(f'Validation Dataset Loss is {scores[1][0]} Accuracy is {scores[1][1]}\\n')\n",
    "print(f'Test Dataset Loss is {scores[2][0]} Accuracy is {scores[2][1]}\\n')"
   ]
  },
  {
   "cell_type": "markdown",
   "metadata": {},
   "source": [
    "##### <span style=\"font-family: Arial; font-weight:bold;font-size:1.25em;color:#00b3e5;\">Final Evaluate\n",
    "<font color=darkblue>\n",
    "</font>"
   ]
  },
  {
   "cell_type": "code",
   "execution_count": 59,
   "metadata": {},
   "outputs": [
    {
     "name": "stdout",
     "output_type": "stream",
     "text": [
      "Test Data Loss: 0.604123055934906\n",
      "Test Data Accuracy: 0.8202221989631653\n"
     ]
    }
   ],
   "source": [
    "print(\"Test Data Loss:\", scores[2][0])\n",
    "print(\"Test Data Accuracy:\", scores[2][1])"
   ]
  },
  {
   "cell_type": "markdown",
   "metadata": {},
   "source": [
    "#### <span style=\"font-family: Arial; font-weight:bold;font-size:1.25em;color:#00b3e5;\">Observation :\n",
    "<font color=darkblue>\n",
    "<ul>\n",
    "<li>Test Data Loss is 0.6041</li>\n",
    "<li>Test Data Accuracy is 0.8202</li>\n",
    "</ul>\n",
    "</font>"
   ]
  },
  {
   "cell_type": "markdown",
   "metadata": {},
   "source": [
    "#### <span style=\"font-family: Arial; font-weight:bold;font-size:1.25em;color:#00b3e5;\">Conclusion :\n",
    "<font color=darkblue>\n",
    "<ul>\n",
    "<li>There are 10 classes in dataset</li>\n",
    "<li>We created a Neural Network with dense hidden layers of different number of units</li>\n",
    "<li>We first tried basic model with ReLu and softmax activation and SGD optimizer</li>\n",
    "<li>Next we tried with ADAM optimizer with ReLu and softmax</li>\n",
    "<li>Next we tired changing hyperparameters, number of hidden layers, neurons to find the best accuracy</li>\n",
    "<li>Final Test Accuracy we achieved is 82.02%</li>\n",
    "</ul>\n",
    "</font>"
   ]
  }
 ],
 "metadata": {
  "kernelspec": {
   "display_name": "Python 3",
   "language": "python",
   "name": "python3"
  },
  "language_info": {
   "codemirror_mode": {
    "name": "ipython",
    "version": 3
   },
   "file_extension": ".py",
   "mimetype": "text/x-python",
   "name": "python",
   "nbconvert_exporter": "python",
   "pygments_lexer": "ipython3",
   "version": "3.8.3"
  }
 },
 "nbformat": 4,
 "nbformat_minor": 4
}
